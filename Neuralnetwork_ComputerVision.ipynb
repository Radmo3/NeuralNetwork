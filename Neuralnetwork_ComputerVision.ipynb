{
  "cells": [
    {
      "cell_type": "markdown",
      "source": [
        "# Libraries Imported"
      ],
      "metadata": {
        "id": "sD5AL2XbtYzb"
      }
    },
    {
      "cell_type": "code",
      "execution_count": 168,
      "metadata": {
        "id": "804eyy1Y3Wdv"
      },
      "outputs": [],
      "source": [
        "#hide\n",
        "!pip install -Uqq fastbook\n",
        "import fastbook\n",
        "fastbook.setup_book()"
      ]
    },
    {
      "cell_type": "markdown",
      "source": [
        "This code installs the fastbook library (if it isn't already installed) and sets it up for use in the current environment. The ! at the beginning of the first line is used to run the command in a shell, rather than in the Python interpreter. The pip install -Uqq fastbook command installs the fastbook library, and the -U flag tells pip to upgrade any existing version of the package, while qq is used to suppress output. The import fastbook line imports the library into the current script, and the fastbook.setup_book() function is used to set up and configure the library for use in the current environment."
      ],
      "metadata": {
        "id": "W0ndhKSSLojL"
      }
    },
    {
      "cell_type": "code",
      "execution_count": 169,
      "metadata": {
        "id": "HM9i5it93Wd0"
      },
      "outputs": [],
      "source": [
        "#hide\n",
        "from fastai.vision.all import *\n",
        "from fastbook import *\n",
        "\n",
        "matplotlib.rc('image', cmap='Greys')"
      ]
    },
    {
      "cell_type": "markdown",
      "source": [
        "This code imports necessary modules from the fastai library and the fastbook library, which are used for machine learning and deep learning tasks in computer vision. It also sets the color map for images in matplotlib to \"Greys\", meaning that images will be displayed in shades of gray."
      ],
      "metadata": {
        "id": "Y_nZJoDxL_7c"
      }
    },
    {
      "cell_type": "raw",
      "metadata": {
        "id": "Ok53eVMN3Wd1"
      },
      "source": [
        "#MNIST data Loaded"
      ]
    },
    {
      "cell_type": "code",
      "execution_count": 170,
      "metadata": {
        "id": "2-oSZHKu3Wd-"
      },
      "outputs": [],
      "source": [
        "path = untar_data(URLs.MNIST_SAMPLE)"
      ]
    },
    {
      "cell_type": "markdown",
      "source": [
        "The code is using the function \"untar_data\" to extract a dataset located at the URL \"URLs.MNIST_SAMPLE\" and storing the resulting file path in the variable \"path\". This dataset is the MNIST sample dataset, which is a commonly used dataset for machine learning and computer vision tasks that consists of handwritten digits."
      ],
      "metadata": {
        "id": "BICAVn66Qpn5"
      }
    },
    {
      "cell_type": "code",
      "execution_count": 171,
      "metadata": {
        "id": "L45epFDH3Wd-"
      },
      "outputs": [],
      "source": [
        "#hide\n",
        "Path.BASE_PATH = path"
      ]
    },
    {
      "cell_type": "markdown",
      "source": [
        "This code is setting a variable called \"BASE_PATH\" within the \"Path\" class to the value of the \"path\" variable"
      ],
      "metadata": {
        "id": "n2saWJ52Q2Ob"
      }
    },
    {
      "cell_type": "code",
      "execution_count": 172,
      "metadata": {
        "colab": {
          "base_uri": "https://localhost:8080/"
        },
        "id": "LIb08VHm3Wd_",
        "outputId": "dd60fb15-02ff-455c-828b-e4725e305711"
      },
      "outputs": [
        {
          "output_type": "execute_result",
          "data": {
            "text/plain": [
              "(#3) [Path('train'),Path('valid'),Path('labels.csv')]"
            ]
          },
          "metadata": {},
          "execution_count": 172
        }
      ],
      "source": [
        "path.ls()"
      ]
    },
    {
      "cell_type": "code",
      "execution_count": 173,
      "metadata": {
        "colab": {
          "base_uri": "https://localhost:8080/"
        },
        "id": "8p-zHTCC3WeB",
        "outputId": "1a1b917d-e7f6-4b82-e87d-4832001837f9"
      },
      "outputs": [
        {
          "output_type": "execute_result",
          "data": {
            "text/plain": [
              "(#2) [Path('train/3'),Path('train/7')]"
            ]
          },
          "metadata": {},
          "execution_count": 173
        }
      ],
      "source": [
        "(path/'train').ls()"
      ]
    },
    {
      "cell_type": "code",
      "execution_count": 174,
      "metadata": {
        "colab": {
          "base_uri": "https://localhost:8080/"
        },
        "id": "vp1PuvCz3WeC",
        "outputId": "4cdccdc1-97f5-4863-c749-b9e8f71df848"
      },
      "outputs": [
        {
          "output_type": "execute_result",
          "data": {
            "text/plain": [
              "(#6131) [Path('train/3/10.png'),Path('train/3/10000.png'),Path('train/3/10011.png'),Path('train/3/10031.png'),Path('train/3/10034.png'),Path('train/3/10042.png'),Path('train/3/10052.png'),Path('train/3/1007.png'),Path('train/3/10074.png'),Path('train/3/10091.png')...]"
            ]
          },
          "metadata": {},
          "execution_count": 174
        }
      ],
      "source": [
        "#image paths loaded into lists and sorted\n",
        "threes = (path/'train'/'3').ls().sorted()\n",
        "sevens = (path/'train'/'7').ls().sorted()\n",
        "threes"
      ]
    },
    {
      "cell_type": "markdown",
      "source": [
        "The code first uses the path.ls() and (path/'train').ls() commands to list the contents of the \"path\" and \"train\" directories. It then creates lists of the file paths for the \"3\" and \"7\" images in the \"train\" set using the (path/'train'/'3').ls().sorted() and (path/'train'/'7').ls().sorted() commands.\n"
      ],
      "metadata": {
        "id": "dW7F8ZXeSDVw"
      }
    },
    {
      "cell_type": "code",
      "execution_count": 175,
      "metadata": {
        "colab": {
          "base_uri": "https://localhost:8080/",
          "height": 45
        },
        "id": "K5XXiM2w3WeD",
        "outputId": "9456c888-a1b1-4bd2-e5dd-59bfd288d1b7"
      },
      "outputs": [
        {
          "output_type": "execute_result",
          "data": {
            "text/plain": [
              "<PIL.PngImagePlugin.PngImageFile image mode=L size=28x28>"
            ],
            "image/png": "[encoded data removed]"
          },
          "metadata": {},
          "execution_count": 175
        }
      ],
      "source": [
        "im3_path = threes[1]\n",
        "im3 = Image.open(im3_path)\n",
        "im3"
      ]
    },
    {
      "cell_type": "code",
      "execution_count": 176,
      "metadata": {
        "colab": {
          "base_uri": "https://localhost:8080/"
        },
        "id": "39H7RMPD3WeD",
        "outputId": "dc085d85-c0e8-40ee-ffc5-364fb52a7524"
      },
      "outputs": [
        {
          "output_type": "execute_result",
          "data": {
            "text/plain": [
              "array([[  0,   0,   0,   0,   0,   0],\n",
              "       [  0,   0,   0,   0,   0,  29],\n",
              "       [  0,   0,   0,  48, 166, 224],\n",
              "       [  0,  93, 244, 249, 253, 187],\n",
              "       [  0, 107, 253, 253, 230,  48],\n",
              "       [  0,   3,  20,  20,  15,   0]], dtype=uint8)"
            ]
          },
          "metadata": {},
          "execution_count": 176
        }
      ],
      "source": [
        "array(im3)[4:10,4:10]"
      ]
    },
    {
      "cell_type": "code",
      "execution_count": 177,
      "metadata": {
        "colab": {
          "base_uri": "https://localhost:8080/"
        },
        "id": "hr4hEUpl3WeE",
        "outputId": "cef09dec-3e0b-450e-c219-8695c8178b2e"
      },
      "outputs": [
        {
          "output_type": "execute_result",
          "data": {
            "text/plain": [
              "tensor([[  0,   0,   0,   0,   0,   0],\n",
              "        [  0,   0,   0,   0,   0,  29],\n",
              "        [  0,   0,   0,  48, 166, 224],\n",
              "        [  0,  93, 244, 249, 253, 187],\n",
              "        [  0, 107, 253, 253, 230,  48],\n",
              "        [  0,   3,  20,  20,  15,   0]], dtype=torch.uint8)"
            ]
          },
          "metadata": {},
          "execution_count": 177
        }
      ],
      "source": [
        "tensor(im3)[4:10,4:10]\n"
      ]
    },
    {
      "cell_type": "code",
      "execution_count": 178,
      "metadata": {
        "colab": {
          "base_uri": "https://localhost:8080/",
          "height": 947
        },
        "id": "f5cPx55Q3WeE",
        "outputId": "1de3aee1-29f7-4b97-d933-e6499d5018d3"
      },
      "outputs": [
        {
          "output_type": "execute_result",
          "data": {
            "text/plain": [
              "<pandas.io.formats.style.Styler at 0x7f2106f38970>"
            ],
            "text/html": [
              "<style type=\"text/css\">\n",
              "#T_8ebb3_row0_col0, #T_8ebb3_row0_col1, #T_8ebb3_row0_col2, #T_8ebb3_row0_col3, #T_8ebb3_row0_col4, #T_8ebb3_row0_col5, #T_8ebb3_row0_col6, #T_8ebb3_row0_col7, #T_8ebb3_row0_col8, #T_8ebb3_row0_col9, #T_8ebb3_row0_col10, #T_8ebb3_row0_col11, #T_8ebb3_row0_col12, #T_8ebb3_row0_col13, #T_8ebb3_row0_col14, #T_8ebb3_row0_col15, #T_8ebb3_row0_col16, #T_8ebb3_row0_col17, #T_8ebb3_row0_col18, #T_8ebb3_row0_col19, #T_8ebb3_row0_col20, #T_8ebb3_row0_col21, #T_8ebb3_row0_col22, #T_8ebb3_row0_col23, #T_8ebb3_row0_col24, #T_8ebb3_row0_col25, #T_8ebb3_row0_col26, #T_8ebb3_row0_col27, #T_8ebb3_row1_col0, #T_8ebb3_row1_col1, #T_8ebb3_row1_col2, #T_8ebb3_row1_col3, #T_8ebb3_row1_col4, #T_8ebb3_row1_col5, #T_8ebb3_row1_col6, #T_8ebb3_row1_col7, #T_8ebb3_row1_col8, #T_8ebb3_row1_col9, #T_8ebb3_row1_col10, #T_8ebb3_row1_col11, #T_8ebb3_row1_col12, #T_8ebb3_row1_col13, #T_8ebb3_row1_col14, #T_8ebb3_row1_col15, #T_8ebb3_row1_col16, #T_8ebb3_row1_col17, #T_8ebb3_row1_col18, #T_8ebb3_row1_col19, #T_8ebb3_row1_col20, #T_8ebb3_row1_col21, #T_8ebb3_row1_col22, #T_8ebb3_row1_col23, #T_8ebb3_row1_col24, #T_8ebb3_row1_col25, #T_8ebb3_row1_col26, #T_8ebb3_row1_col27, #T_8ebb3_row2_col0, #T_8ebb3_row2_col1, #T_8ebb3_row2_col2, #T_8ebb3_row2_col3, #T_8ebb3_row2_col4, #T_8ebb3_row2_col5, #T_8ebb3_row2_col6, #T_8ebb3_row2_col7, #T_8ebb3_row2_col8, #T_8ebb3_row2_col9, #T_8ebb3_row2_col10, #T_8ebb3_row2_col11, #T_8ebb3_row2_col12, #T_8ebb3_row2_col13, #T_8ebb3_row2_col14, #T_8ebb3_row2_col15, #T_8ebb3_row2_col16, #T_8ebb3_row2_col17, #T_8ebb3_row2_col18, #T_8ebb3_row2_col19, #T_8ebb3_row2_col20, #T_8ebb3_row2_col21, #T_8ebb3_row2_col22, #T_8ebb3_row2_col23, #T_8ebb3_row2_col24, #T_8ebb3_row2_col25, #T_8ebb3_row2_col26, #T_8ebb3_row2_col27, #T_8ebb3_row3_col0, #T_8ebb3_row3_col1, #T_8ebb3_row3_col2, #T_8ebb3_row3_col3, #T_8ebb3_row3_col4, #T_8ebb3_row3_col5, #T_8ebb3_row3_col6, #T_8ebb3_row3_col7, #T_8ebb3_row3_col8, #T_8ebb3_row3_col9, #T_8ebb3_row3_col10, #T_8ebb3_row3_col11, #T_8ebb3_row3_col12, #T_8ebb3_row3_col13, #T_8ebb3_row3_col14, #T_8ebb3_row3_col15, #T_8ebb3_row3_col16, #T_8ebb3_row3_col17, #T_8ebb3_row3_col18, #T_8ebb3_row3_col19, #T_8ebb3_row3_col20, #T_8ebb3_row3_col21, #T_8ebb3_row3_col22, #T_8ebb3_row3_col23, #T_8ebb3_row3_col24, #T_8ebb3_row3_col25, #T_8ebb3_row3_col26, #T_8ebb3_row3_col27, #T_8ebb3_row4_col0, #T_8ebb3_row4_col1, #T_8ebb3_row4_col2, #T_8ebb3_row4_col3, #T_8ebb3_row4_col4, #T_8ebb3_row4_col5, #T_8ebb3_row4_col6, #T_8ebb3_row4_col7, #T_8ebb3_row4_col8, #T_8ebb3_row4_col9, #T_8ebb3_row4_col10, #T_8ebb3_row4_col11, #T_8ebb3_row4_col12, #T_8ebb3_row4_col13, #T_8ebb3_row4_col14, #T_8ebb3_row4_col15, #T_8ebb3_row4_col16, #T_8ebb3_row4_col17, #T_8ebb3_row4_col18, #T_8ebb3_row4_col19, #T_8ebb3_row4_col20, #T_8ebb3_row4_col21, #T_8ebb3_row4_col22, #T_8ebb3_row4_col23, #T_8ebb3_row4_col24, #T_8ebb3_row4_col25, #T_8ebb3_row4_col26, #T_8ebb3_row4_col27, #T_8ebb3_row5_col0, #T_8ebb3_row5_col1, #T_8ebb3_row5_col2, #T_8ebb3_row5_col3, #T_8ebb3_row5_col4, #T_8ebb3_row5_col5, #T_8ebb3_row5_col6, #T_8ebb3_row5_col7, #T_8ebb3_row5_col8, #T_8ebb3_row5_col19, #T_8ebb3_row5_col20, #T_8ebb3_row5_col21, #T_8ebb3_row5_col22, #T_8ebb3_row5_col23, #T_8ebb3_row5_col24, #T_8ebb3_row5_col25, #T_8ebb3_row5_col26, #T_8ebb3_row5_col27, #T_8ebb3_row6_col0, #T_8ebb3_row6_col1, #T_8ebb3_row6_col2, #T_8ebb3_row6_col3, #T_8ebb3_row6_col4, #T_8ebb3_row6_col5, #T_8ebb3_row6_col6, #T_8ebb3_row6_col19, #T_8ebb3_row6_col20, #T_8ebb3_row6_col21, #T_8ebb3_row6_col22, #T_8ebb3_row6_col23, #T_8ebb3_row6_col24, #T_8ebb3_row6_col25, #T_8ebb3_row6_col26, #T_8ebb3_row6_col27, #T_8ebb3_row7_col0, #T_8ebb3_row7_col1, #T_8ebb3_row7_col2, #T_8ebb3_row7_col3, #T_8ebb3_row7_col4, #T_8ebb3_row7_col19, #T_8ebb3_row7_col20, #T_8ebb3_row7_col21, #T_8ebb3_row7_col22, #T_8ebb3_row7_col23, #T_8ebb3_row7_col24, #T_8ebb3_row7_col25, #T_8ebb3_row7_col26, #T_8ebb3_row7_col27, #T_8ebb3_row8_col0, #T_8ebb3_row8_col1, #T_8ebb3_row8_col2, #T_8ebb3_row8_col3, #T_8ebb3_row8_col4, #T_8ebb3_row8_col10, #T_8ebb3_row8_col11, #T_8ebb3_row8_col12, #T_8ebb3_row8_col13, #T_8ebb3_row8_col14, #T_8ebb3_row8_col19, #T_8ebb3_row8_col20, #T_8ebb3_row8_col21, #T_8ebb3_row8_col22, #T_8ebb3_row8_col23, #T_8ebb3_row8_col24, #T_8ebb3_row8_col25, #T_8ebb3_row8_col26, #T_8ebb3_row8_col27, #T_8ebb3_row9_col0, #T_8ebb3_row9_col1, #T_8ebb3_row9_col2, #T_8ebb3_row9_col3, #T_8ebb3_row9_col4, #T_8ebb3_row9_col9, #T_8ebb3_row9_col10, #T_8ebb3_row9_col11, #T_8ebb3_row9_col12, #T_8ebb3_row9_col13, #T_8ebb3_row9_col19, #T_8ebb3_row9_col20, #T_8ebb3_row9_col21, #T_8ebb3_row9_col22, #T_8ebb3_row9_col23, #T_8ebb3_row9_col24, #T_8ebb3_row9_col25, #T_8ebb3_row9_col26, #T_8ebb3_row9_col27, #T_8ebb3_row10_col0, #T_8ebb3_row10_col1, #T_8ebb3_row10_col2, #T_8ebb3_row10_col3, #T_8ebb3_row10_col4, #T_8ebb3_row10_col5, #T_8ebb3_row10_col6, #T_8ebb3_row10_col7, #T_8ebb3_row10_col8, #T_8ebb3_row10_col9, #T_8ebb3_row10_col10, #T_8ebb3_row10_col11, #T_8ebb3_row10_col12, #T_8ebb3_row10_col13, #T_8ebb3_row10_col18, #T_8ebb3_row10_col19, #T_8ebb3_row10_col20, #T_8ebb3_row10_col21, #T_8ebb3_row10_col22, #T_8ebb3_row10_col23, #T_8ebb3_row10_col24, #T_8ebb3_row10_col25, #T_8ebb3_row10_col26, #T_8ebb3_row10_col27, #T_8ebb3_row11_col0, #T_8ebb3_row11_col1, #T_8ebb3_row11_col2, #T_8ebb3_row11_col3, #T_8ebb3_row11_col4, #T_8ebb3_row11_col5, #T_8ebb3_row11_col6, #T_8ebb3_row11_col7, #T_8ebb3_row11_col8, #T_8ebb3_row11_col9, #T_8ebb3_row11_col10, #T_8ebb3_row11_col17, #T_8ebb3_row11_col18, #T_8ebb3_row11_col19, #T_8ebb3_row11_col20, #T_8ebb3_row11_col21, #T_8ebb3_row11_col22, #T_8ebb3_row11_col23, #T_8ebb3_row11_col24, #T_8ebb3_row11_col25, #T_8ebb3_row11_col26, #T_8ebb3_row11_col27, #T_8ebb3_row12_col0, #T_8ebb3_row12_col1, #T_8ebb3_row12_col2, #T_8ebb3_row12_col3, #T_8ebb3_row12_col4, #T_8ebb3_row12_col5, #T_8ebb3_row12_col6, #T_8ebb3_row12_col7, #T_8ebb3_row12_col8, #T_8ebb3_row12_col17, #T_8ebb3_row12_col18, #T_8ebb3_row12_col19, #T_8ebb3_row12_col20, #T_8ebb3_row12_col21, #T_8ebb3_row12_col22, #T_8ebb3_row12_col23, #T_8ebb3_row12_col24, #T_8ebb3_row12_col25, #T_8ebb3_row12_col26, #T_8ebb3_row12_col27, #T_8ebb3_row13_col0, #T_8ebb3_row13_col1, #T_8ebb3_row13_col2, #T_8ebb3_row13_col3, #T_8ebb3_row13_col4, #T_8ebb3_row13_col5, #T_8ebb3_row13_col6, #T_8ebb3_row13_col7, #T_8ebb3_row13_col8, #T_8ebb3_row13_col20, #T_8ebb3_row13_col21, #T_8ebb3_row13_col22, #T_8ebb3_row13_col23, #T_8ebb3_row13_col24, #T_8ebb3_row13_col25, #T_8ebb3_row13_col26, #T_8ebb3_row13_col27, #T_8ebb3_row14_col0, #T_8ebb3_row14_col1, #T_8ebb3_row14_col2, #T_8ebb3_row14_col3, #T_8ebb3_row14_col4, #T_8ebb3_row14_col5, #T_8ebb3_row14_col6, #T_8ebb3_row14_col7, #T_8ebb3_row14_col8, #T_8ebb3_row14_col9, #T_8ebb3_row14_col10, #T_8ebb3_row14_col21, #T_8ebb3_row14_col22, #T_8ebb3_row14_col23, #T_8ebb3_row14_col24, #T_8ebb3_row14_col25, #T_8ebb3_row14_col26, #T_8ebb3_row14_col27, #T_8ebb3_row15_col0, #T_8ebb3_row15_col1, #T_8ebb3_row15_col2, #T_8ebb3_row15_col3, #T_8ebb3_row15_col4, #T_8ebb3_row15_col5, #T_8ebb3_row15_col6, #T_8ebb3_row15_col7, #T_8ebb3_row15_col8, #T_8ebb3_row15_col9, #T_8ebb3_row15_col10, #T_8ebb3_row15_col11, #T_8ebb3_row15_col12, #T_8ebb3_row15_col13, #T_8ebb3_row15_col21, #T_8ebb3_row15_col22, #T_8ebb3_row15_col23, #T_8ebb3_row15_col24, #T_8ebb3_row15_col25, #T_8ebb3_row15_col26, #T_8ebb3_row15_col27, #T_8ebb3_row16_col0, #T_8ebb3_row16_col1, #T_8ebb3_row16_col2, #T_8ebb3_row16_col3, #T_8ebb3_row16_col4, #T_8ebb3_row16_col5, #T_8ebb3_row16_col6, #T_8ebb3_row16_col7, #T_8ebb3_row16_col8, #T_8ebb3_row16_col9, #T_8ebb3_row16_col10, #T_8ebb3_row16_col11, #T_8ebb3_row16_col12, #T_8ebb3_row16_col13, #T_8ebb3_row16_col14, #T_8ebb3_row16_col15, #T_8ebb3_row16_col16, #T_8ebb3_row16_col21, #T_8ebb3_row16_col22, #T_8ebb3_row16_col23, #T_8ebb3_row16_col24, #T_8ebb3_row16_col25, #T_8ebb3_row16_col26, #T_8ebb3_row16_col27, #T_8ebb3_row17_col0, #T_8ebb3_row17_col1, #T_8ebb3_row17_col2, #T_8ebb3_row17_col3, #T_8ebb3_row17_col4, #T_8ebb3_row17_col5, #T_8ebb3_row17_col6, #T_8ebb3_row17_col7, #T_8ebb3_row17_col8, #T_8ebb3_row17_col9, #T_8ebb3_row17_col10, #T_8ebb3_row17_col11, #T_8ebb3_row17_col12, #T_8ebb3_row17_col13, #T_8ebb3_row17_col14, #T_8ebb3_row17_col15, #T_8ebb3_row17_col16, #T_8ebb3_row17_col21, #T_8ebb3_row17_col22, #T_8ebb3_row17_col23, #T_8ebb3_row17_col24, #T_8ebb3_row17_col25, #T_8ebb3_row17_col26, #T_8ebb3_row17_col27, #T_8ebb3_row18_col0, #T_8ebb3_row18_col1, #T_8ebb3_row18_col2, #T_8ebb3_row18_col3, #T_8ebb3_row18_col4, #T_8ebb3_row18_col5, #T_8ebb3_row18_col6, #T_8ebb3_row18_col7, #T_8ebb3_row18_col8, #T_8ebb3_row18_col9, #T_8ebb3_row18_col10, #T_8ebb3_row18_col11, #T_8ebb3_row18_col12, #T_8ebb3_row18_col13, #T_8ebb3_row18_col14, #T_8ebb3_row18_col15, #T_8ebb3_row18_col21, #T_8ebb3_row18_col22, #T_8ebb3_row18_col23, #T_8ebb3_row18_col24, #T_8ebb3_row18_col25, #T_8ebb3_row18_col26, #T_8ebb3_row18_col27, #T_8ebb3_row19_col0, #T_8ebb3_row19_col1, #T_8ebb3_row19_col2, #T_8ebb3_row19_col3, #T_8ebb3_row19_col4, #T_8ebb3_row19_col5, #T_8ebb3_row19_col6, #T_8ebb3_row19_col7, #T_8ebb3_row19_col8, #T_8ebb3_row19_col9, #T_8ebb3_row19_col10, #T_8ebb3_row19_col11, #T_8ebb3_row19_col12, #T_8ebb3_row19_col13, #T_8ebb3_row19_col14, #T_8ebb3_row19_col21, #T_8ebb3_row19_col22, #T_8ebb3_row19_col23, #T_8ebb3_row19_col24, #T_8ebb3_row19_col25, #T_8ebb3_row19_col26, #T_8ebb3_row19_col27, #T_8ebb3_row20_col0, #T_8ebb3_row20_col1, #T_8ebb3_row20_col2, #T_8ebb3_row20_col3, #T_8ebb3_row20_col4, #T_8ebb3_row20_col5, #T_8ebb3_row20_col6, #T_8ebb3_row20_col7, #T_8ebb3_row20_col8, #T_8ebb3_row20_col9, #T_8ebb3_row20_col10, #T_8ebb3_row20_col11, #T_8ebb3_row20_col12, #T_8ebb3_row20_col13, #T_8ebb3_row20_col20, #T_8ebb3_row20_col21, #T_8ebb3_row20_col22, #T_8ebb3_row20_col23, #T_8ebb3_row20_col24, #T_8ebb3_row20_col25, #T_8ebb3_row20_col26, #T_8ebb3_row20_col27, #T_8ebb3_row21_col0, #T_8ebb3_row21_col1, #T_8ebb3_row21_col2, #T_8ebb3_row21_col3, #T_8ebb3_row21_col4, #T_8ebb3_row21_col5, #T_8ebb3_row21_col6, #T_8ebb3_row21_col7, #T_8ebb3_row21_col8, #T_8ebb3_row21_col9, #T_8ebb3_row21_col10, #T_8ebb3_row21_col11, #T_8ebb3_row21_col19, #T_8ebb3_row21_col20, #T_8ebb3_row21_col21, #T_8ebb3_row21_col22, #T_8ebb3_row21_col23, #T_8ebb3_row21_col24, #T_8ebb3_row21_col25, #T_8ebb3_row21_col26, #T_8ebb3_row21_col27, #T_8ebb3_row22_col0, #T_8ebb3_row22_col1, #T_8ebb3_row22_col2, #T_8ebb3_row22_col3, #T_8ebb3_row22_col4, #T_8ebb3_row22_col5, #T_8ebb3_row22_col18, #T_8ebb3_row22_col19, #T_8ebb3_row22_col20, #T_8ebb3_row22_col21, #T_8ebb3_row22_col22, #T_8ebb3_row22_col23, #T_8ebb3_row22_col24, #T_8ebb3_row22_col25, #T_8ebb3_row22_col26, #T_8ebb3_row22_col27, #T_8ebb3_row23_col0, #T_8ebb3_row23_col1, #T_8ebb3_row23_col2, #T_8ebb3_row23_col3, #T_8ebb3_row23_col4, #T_8ebb3_row23_col5, #T_8ebb3_row23_col16, #T_8ebb3_row23_col17, #T_8ebb3_row23_col18, #T_8ebb3_row23_col19, #T_8ebb3_row23_col20, #T_8ebb3_row23_col21, #T_8ebb3_row23_col22, #T_8ebb3_row23_col23, #T_8ebb3_row23_col24, #T_8ebb3_row23_col25, #T_8ebb3_row23_col26, #T_8ebb3_row23_col27, #T_8ebb3_row24_col0, #T_8ebb3_row24_col1, #T_8ebb3_row24_col2, #T_8ebb3_row24_col3, #T_8ebb3_row24_col4, #T_8ebb3_row24_col5, #T_8ebb3_row24_col14, #T_8ebb3_row24_col15, #T_8ebb3_row24_col16, #T_8ebb3_row24_col17, #T_8ebb3_row24_col18, #T_8ebb3_row24_col19, #T_8ebb3_row24_col20, #T_8ebb3_row24_col21, #T_8ebb3_row24_col22, #T_8ebb3_row24_col23, #T_8ebb3_row24_col24, #T_8ebb3_row24_col25, #T_8ebb3_row24_col26, #T_8ebb3_row24_col27, #T_8ebb3_row25_col0, #T_8ebb3_row25_col1, #T_8ebb3_row25_col2, #T_8ebb3_row25_col3, #T_8ebb3_row25_col4, #T_8ebb3_row25_col5, #T_8ebb3_row25_col6, #T_8ebb3_row25_col7, #T_8ebb3_row25_col8, #T_8ebb3_row25_col9, #T_8ebb3_row25_col10, #T_8ebb3_row25_col11, #T_8ebb3_row25_col12, #T_8ebb3_row25_col13, #T_8ebb3_row25_col14, #T_8ebb3_row25_col15, #T_8ebb3_row25_col16, #T_8ebb3_row25_col17, #T_8ebb3_row25_col18, #T_8ebb3_row25_col19, #T_8ebb3_row25_col20, #T_8ebb3_row25_col21, #T_8ebb3_row25_col22, #T_8ebb3_row25_col23, #T_8ebb3_row25_col24, #T_8ebb3_row25_col25, #T_8ebb3_row25_col26, #T_8ebb3_row25_col27, #T_8ebb3_row26_col0, #T_8ebb3_row26_col1, #T_8ebb3_row26_col2, #T_8ebb3_row26_col3, #T_8ebb3_row26_col4, #T_8ebb3_row26_col5, #T_8ebb3_row26_col6, #T_8ebb3_row26_col7, #T_8ebb3_row26_col8, #T_8ebb3_row26_col9, #T_8ebb3_row26_col10, #T_8ebb3_row26_col11, #T_8ebb3_row26_col12, #T_8ebb3_row26_col13, #T_8ebb3_row26_col14, #T_8ebb3_row26_col15, #T_8ebb3_row26_col16, #T_8ebb3_row26_col17, #T_8ebb3_row26_col18, #T_8ebb3_row26_col19, #T_8ebb3_row26_col20, #T_8ebb3_row26_col21, #T_8ebb3_row26_col22, #T_8ebb3_row26_col23, #T_8ebb3_row26_col24, #T_8ebb3_row26_col25, #T_8ebb3_row26_col26, #T_8ebb3_row26_col27, #T_8ebb3_row27_col0, #T_8ebb3_row27_col1, #T_8ebb3_row27_col2, #T_8ebb3_row27_col3, #T_8ebb3_row27_col4, #T_8ebb3_row27_col5, #T_8ebb3_row27_col6, #T_8ebb3_row27_col7, #T_8ebb3_row27_col8, #T_8ebb3_row27_col9, #T_8ebb3_row27_col10, #T_8ebb3_row27_col11, #T_8ebb3_row27_col12, #T_8ebb3_row27_col13, #T_8ebb3_row27_col14, #T_8ebb3_row27_col15, #T_8ebb3_row27_col16, #T_8ebb3_row27_col17, #T_8ebb3_row27_col18, #T_8ebb3_row27_col19, #T_8ebb3_row27_col20, #T_8ebb3_row27_col21, #T_8ebb3_row27_col22, #T_8ebb3_row27_col23, #T_8ebb3_row27_col24, #T_8ebb3_row27_col25, #T_8ebb3_row27_col26, #T_8ebb3_row27_col27 {\n",
              "  font-size: 6pt;\n",
              "  background-color: #ffffff;\n",
              "  color: #000000;\n",
              "}\n",
              "#T_8ebb3_row5_col9, #T_8ebb3_row12_col16 {\n",
              "  font-size: 6pt;\n",
              "  background-color: #f1f1f1;\n",
              "  color: #000000;\n",
              "}\n",
              "#T_8ebb3_row5_col10, #T_8ebb3_row5_col17 {\n",
              "  font-size: 6pt;\n",
              "  background-color: #7c7c7c;\n",
              "  color: #f1f1f1;\n",
              "}\n",
              "#T_8ebb3_row5_col11 {\n",
              "  font-size: 6pt;\n",
              "  background-color: #4a4a4a;\n",
              "  color: #f1f1f1;\n",
              "}\n",
              "#T_8ebb3_row5_col12, #T_8ebb3_row5_col13, #T_8ebb3_row5_col14, #T_8ebb3_row6_col10, #T_8ebb3_row6_col11, #T_8ebb3_row6_col15, #T_8ebb3_row6_col16, #T_8ebb3_row6_col17, #T_8ebb3_row7_col8, #T_8ebb3_row7_col16, #T_8ebb3_row7_col17, #T_8ebb3_row8_col5, #T_8ebb3_row8_col6, #T_8ebb3_row8_col7, #T_8ebb3_row8_col16, #T_8ebb3_row8_col17, #T_8ebb3_row9_col16, #T_8ebb3_row10_col15, #T_8ebb3_row13_col15, #T_8ebb3_row14_col15, #T_8ebb3_row14_col16, #T_8ebb3_row14_col17, #T_8ebb3_row14_col18, #T_8ebb3_row15_col17, #T_8ebb3_row15_col18, #T_8ebb3_row15_col19, #T_8ebb3_row16_col18, #T_8ebb3_row16_col19, #T_8ebb3_row16_col20, #T_8ebb3_row17_col18, #T_8ebb3_row17_col19, #T_8ebb3_row18_col18, #T_8ebb3_row18_col19, #T_8ebb3_row19_col17, #T_8ebb3_row19_col18, #T_8ebb3_row20_col16, #T_8ebb3_row20_col17, #T_8ebb3_row21_col15, #T_8ebb3_row21_col16, #T_8ebb3_row23_col7, #T_8ebb3_row23_col8, #T_8ebb3_row23_col9, #T_8ebb3_row23_col10, #T_8ebb3_row23_col11, #T_8ebb3_row24_col7, #T_8ebb3_row24_col8, #T_8ebb3_row24_col9, #T_8ebb3_row24_col10, #T_8ebb3_row24_col11 {\n",
              "  font-size: 6pt;\n",
              "  background-color: #000000;\n",
              "  color: #f1f1f1;\n",
              "}\n",
              "#T_8ebb3_row5_col15 {\n",
              "  font-size: 6pt;\n",
              "  background-color: #606060;\n",
              "  color: #f1f1f1;\n",
              "}\n",
              "#T_8ebb3_row5_col16 {\n",
              "  font-size: 6pt;\n",
              "  background-color: #4d4d4d;\n",
              "  color: #f1f1f1;\n",
              "}\n",
              "#T_8ebb3_row5_col18 {\n",
              "  font-size: 6pt;\n",
              "  background-color: #bbbbbb;\n",
              "  color: #000000;\n",
              "}\n",
              "#T_8ebb3_row6_col7, #T_8ebb3_row8_col9 {\n",
              "  font-size: 6pt;\n",
              "  background-color: #e4e4e4;\n",
              "  color: #000000;\n",
              "}\n",
              "#T_8ebb3_row6_col8, #T_8ebb3_row12_col10 {\n",
              "  font-size: 6pt;\n",
              "  background-color: #6b6b6b;\n",
              "  color: #f1f1f1;\n",
              "}\n",
              "#T_8ebb3_row6_col9, #T_8ebb3_row9_col15 {\n",
              "  font-size: 6pt;\n",
              "  background-color: #222222;\n",
              "  color: #f1f1f1;\n",
              "}\n",
              "#T_8ebb3_row6_col12, #T_8ebb3_row6_col18, #T_8ebb3_row7_col18, #T_8ebb3_row21_col17 {\n",
              "  font-size: 6pt;\n",
              "  background-color: #171717;\n",
              "  color: #f1f1f1;\n",
              "}\n",
              "#T_8ebb3_row6_col13, #T_8ebb3_row7_col15 {\n",
              "  font-size: 6pt;\n",
              "  background-color: #4b4b4b;\n",
              "  color: #f1f1f1;\n",
              "}\n",
              "#T_8ebb3_row6_col14, #T_8ebb3_row11_col14, #T_8ebb3_row12_col12, #T_8ebb3_row12_col14, #T_8ebb3_row13_col12, #T_8ebb3_row13_col14, #T_8ebb3_row22_col14, #T_8ebb3_row23_col12 {\n",
              "  font-size: 6pt;\n",
              "  background-color: #010101;\n",
              "  color: #f1f1f1;\n",
              "}\n",
              "#T_8ebb3_row7_col5 {\n",
              "  font-size: 6pt;\n",
              "  background-color: #272727;\n",
              "  color: #f1f1f1;\n",
              "}\n",
              "#T_8ebb3_row7_col6 {\n",
              "  font-size: 6pt;\n",
              "  background-color: #0a0a0a;\n",
              "  color: #f1f1f1;\n",
              "}\n",
              "#T_8ebb3_row7_col7, #T_8ebb3_row18_col17 {\n",
              "  font-size: 6pt;\n",
              "  background-color: #050505;\n",
              "  color: #f1f1f1;\n",
              "}\n",
              "#T_8ebb3_row7_col9, #T_8ebb3_row12_col15, #T_8ebb3_row14_col19, #T_8ebb3_row23_col6 {\n",
              "  font-size: 6pt;\n",
              "  background-color: #545454;\n",
              "  color: #f1f1f1;\n",
              "}\n",
              "#T_8ebb3_row7_col10 {\n",
              "  font-size: 6pt;\n",
              "  background-color: #e6e6e6;\n",
              "  color: #000000;\n",
              "}\n",
              "#T_8ebb3_row7_col11, #T_8ebb3_row7_col14, #T_8ebb3_row12_col9 {\n",
              "  font-size: 6pt;\n",
              "  background-color: #fafafa;\n",
              "  color: #000000;\n",
              "}\n",
              "#T_8ebb3_row7_col12, #T_8ebb3_row15_col14, #T_8ebb3_row20_col19 {\n",
              "  font-size: 6pt;\n",
              "  background-color: #fbfbfb;\n",
              "  color: #000000;\n",
              "}\n",
              "#T_8ebb3_row7_col13 {\n",
              "  font-size: 6pt;\n",
              "  background-color: #fdfdfd;\n",
              "  color: #000000;\n",
              "}\n",
              "#T_8ebb3_row8_col8 {\n",
              "  font-size: 6pt;\n",
              "  background-color: #1b1b1b;\n",
              "  color: #f1f1f1;\n",
              "}\n",
              "#T_8ebb3_row8_col15 {\n",
              "  font-size: 6pt;\n",
              "  background-color: #4e4e4e;\n",
              "  color: #f1f1f1;\n",
              "}\n",
              "#T_8ebb3_row8_col18 {\n",
              "  font-size: 6pt;\n",
              "  background-color: #767676;\n",
              "  color: #f1f1f1;\n",
              "}\n",
              "#T_8ebb3_row9_col5 {\n",
              "  font-size: 6pt;\n",
              "  background-color: #fcfcfc;\n",
              "  color: #000000;\n",
              "}\n",
              "#T_8ebb3_row9_col6, #T_8ebb3_row9_col7, #T_8ebb3_row19_col20 {\n",
              "  font-size: 6pt;\n",
              "  background-color: #f6f6f6;\n",
              "  color: #000000;\n",
              "}\n",
              "#T_8ebb3_row9_col8, #T_8ebb3_row11_col11 {\n",
              "  font-size: 6pt;\n",
              "  background-color: #f8f8f8;\n",
              "  color: #000000;\n",
              "}\n",
              "#T_8ebb3_row9_col14, #T_8ebb3_row14_col11 {\n",
              "  font-size: 6pt;\n",
              "  background-color: #e8e8e8;\n",
              "  color: #000000;\n",
              "}\n",
              "#T_8ebb3_row9_col17, #T_8ebb3_row10_col16 {\n",
              "  font-size: 6pt;\n",
              "  background-color: #090909;\n",
              "  color: #f1f1f1;\n",
              "}\n",
              "#T_8ebb3_row9_col18 {\n",
              "  font-size: 6pt;\n",
              "  background-color: #d0d0d0;\n",
              "  color: #000000;\n",
              "}\n",
              "#T_8ebb3_row10_col14, #T_8ebb3_row11_col15, #T_8ebb3_row13_col10 {\n",
              "  font-size: 6pt;\n",
              "  background-color: #060606;\n",
              "  color: #f1f1f1;\n",
              "}\n",
              "#T_8ebb3_row10_col17 {\n",
              "  font-size: 6pt;\n",
              "  background-color: #979797;\n",
              "  color: #f1f1f1;\n",
              "}\n",
              "#T_8ebb3_row11_col12 {\n",
              "  font-size: 6pt;\n",
              "  background-color: #b6b6b6;\n",
              "  color: #000000;\n",
              "}\n",
              "#T_8ebb3_row11_col13 {\n",
              "  font-size: 6pt;\n",
              "  background-color: #252525;\n",
              "  color: #f1f1f1;\n",
              "}\n",
              "#T_8ebb3_row11_col16 {\n",
              "  font-size: 6pt;\n",
              "  background-color: #999999;\n",
              "  color: #f1f1f1;\n",
              "}\n",
              "#T_8ebb3_row12_col11, #T_8ebb3_row22_col12 {\n",
              "  font-size: 6pt;\n",
              "  background-color: #101010;\n",
              "  color: #f1f1f1;\n",
              "}\n",
              "#T_8ebb3_row12_col13, #T_8ebb3_row13_col13, #T_8ebb3_row21_col14, #T_8ebb3_row22_col13, #T_8ebb3_row23_col13 {\n",
              "  font-size: 6pt;\n",
              "  background-color: #020202;\n",
              "  color: #f1f1f1;\n",
              "}\n",
              "#T_8ebb3_row13_col9 {\n",
              "  font-size: 6pt;\n",
              "  background-color: #f7f7f7;\n",
              "  color: #000000;\n",
              "}\n",
              "#T_8ebb3_row13_col11, #T_8ebb3_row22_col15 {\n",
              "  font-size: 6pt;\n",
              "  background-color: #030303;\n",
              "  color: #f1f1f1;\n",
              "}\n",
              "#T_8ebb3_row13_col16 {\n",
              "  font-size: 6pt;\n",
              "  background-color: #181818;\n",
              "  color: #f1f1f1;\n",
              "}\n",
              "#T_8ebb3_row13_col17 {\n",
              "  font-size: 6pt;\n",
              "  background-color: #303030;\n",
              "  color: #f1f1f1;\n",
              "}\n",
              "#T_8ebb3_row13_col18 {\n",
              "  font-size: 6pt;\n",
              "  background-color: #a9a9a9;\n",
              "  color: #f1f1f1;\n",
              "}\n",
              "#T_8ebb3_row13_col19 {\n",
              "  font-size: 6pt;\n",
              "  background-color: #fefefe;\n",
              "  color: #000000;\n",
              "}\n",
              "#T_8ebb3_row14_col12, #T_8ebb3_row14_col13, #T_8ebb3_row20_col14 {\n",
              "  font-size: 6pt;\n",
              "  background-color: #bababa;\n",
              "  color: #000000;\n",
              "}\n",
              "#T_8ebb3_row14_col14 {\n",
              "  font-size: 6pt;\n",
              "  background-color: #393939;\n",
              "  color: #f1f1f1;\n",
              "}\n",
              "#T_8ebb3_row14_col20 {\n",
              "  font-size: 6pt;\n",
              "  background-color: #eaeaea;\n",
              "  color: #000000;\n",
              "}\n",
              "#T_8ebb3_row15_col15 {\n",
              "  font-size: 6pt;\n",
              "  background-color: #e2e2e2;\n",
              "  color: #000000;\n",
              "}\n",
              "#T_8ebb3_row15_col16 {\n",
              "  font-size: 6pt;\n",
              "  background-color: #9f9f9f;\n",
              "  color: #f1f1f1;\n",
              "}\n",
              "#T_8ebb3_row15_col20 {\n",
              "  font-size: 6pt;\n",
              "  background-color: #898989;\n",
              "  color: #f1f1f1;\n",
              "}\n",
              "#T_8ebb3_row16_col17 {\n",
              "  font-size: 6pt;\n",
              "  background-color: #585858;\n",
              "  color: #f1f1f1;\n",
              "}\n",
              "#T_8ebb3_row17_col17 {\n",
              "  font-size: 6pt;\n",
              "  background-color: #5a5a5a;\n",
              "  color: #f1f1f1;\n",
              "}\n",
              "#T_8ebb3_row17_col20 {\n",
              "  font-size: 6pt;\n",
              "  background-color: #525252;\n",
              "  color: #f1f1f1;\n",
              "}\n",
              "#T_8ebb3_row18_col16, #T_8ebb3_row23_col15 {\n",
              "  font-size: 6pt;\n",
              "  background-color: #c5c5c5;\n",
              "  color: #000000;\n",
              "}\n",
              "#T_8ebb3_row18_col20 {\n",
              "  font-size: 6pt;\n",
              "  background-color: #d7d7d7;\n",
              "  color: #000000;\n",
              "}\n",
              "#T_8ebb3_row19_col15, #T_8ebb3_row22_col9 {\n",
              "  font-size: 6pt;\n",
              "  background-color: #dcdcdc;\n",
              "  color: #000000;\n",
              "}\n",
              "#T_8ebb3_row19_col16 {\n",
              "  font-size: 6pt;\n",
              "  background-color: #2f2f2f;\n",
              "  color: #f1f1f1;\n",
              "}\n",
              "#T_8ebb3_row19_col19 {\n",
              "  font-size: 6pt;\n",
              "  background-color: #636363;\n",
              "  color: #f1f1f1;\n",
              "}\n",
              "#T_8ebb3_row20_col15 {\n",
              "  font-size: 6pt;\n",
              "  background-color: #070707;\n",
              "  color: #f1f1f1;\n",
              "}\n",
              "#T_8ebb3_row20_col18 {\n",
              "  font-size: 6pt;\n",
              "  background-color: #1f1f1f;\n",
              "  color: #f1f1f1;\n",
              "}\n",
              "#T_8ebb3_row21_col12, #T_8ebb3_row22_col6, #T_8ebb3_row22_col8 {\n",
              "  font-size: 6pt;\n",
              "  background-color: #e9e9e9;\n",
              "  color: #000000;\n",
              "}\n",
              "#T_8ebb3_row21_col13 {\n",
              "  font-size: 6pt;\n",
              "  background-color: #7d7d7d;\n",
              "  color: #f1f1f1;\n",
              "}\n",
              "#T_8ebb3_row21_col18 {\n",
              "  font-size: 6pt;\n",
              "  background-color: #e1e1e1;\n",
              "  color: #000000;\n",
              "}\n",
              "#T_8ebb3_row22_col7, #T_8ebb3_row22_col10 {\n",
              "  font-size: 6pt;\n",
              "  background-color: #a4a4a4;\n",
              "  color: #f1f1f1;\n",
              "}\n",
              "#T_8ebb3_row22_col11 {\n",
              "  font-size: 6pt;\n",
              "  background-color: #727272;\n",
              "  color: #f1f1f1;\n",
              "}\n",
              "#T_8ebb3_row22_col16 {\n",
              "  font-size: 6pt;\n",
              "  background-color: #616161;\n",
              "  color: #f1f1f1;\n",
              "}\n",
              "#T_8ebb3_row22_col17 {\n",
              "  font-size: 6pt;\n",
              "  background-color: #f3f3f3;\n",
              "  color: #000000;\n",
              "}\n",
              "#T_8ebb3_row23_col14 {\n",
              "  font-size: 6pt;\n",
              "  background-color: #484848;\n",
              "  color: #f1f1f1;\n",
              "}\n",
              "#T_8ebb3_row24_col6 {\n",
              "  font-size: 6pt;\n",
              "  background-color: #b3b3b3;\n",
              "  color: #000000;\n",
              "}\n",
              "#T_8ebb3_row24_col12 {\n",
              "  font-size: 6pt;\n",
              "  background-color: #1a1a1a;\n",
              "  color: #f1f1f1;\n",
              "}\n",
              "#T_8ebb3_row24_col13 {\n",
              "  font-size: 6pt;\n",
              "  background-color: #d6d6d6;\n",
              "  color: #000000;\n",
              "}\n",
              "</style>\n",
              "<table id=\"T_8ebb3_\" class=\"dataframe\">\n",
              "  <thead>\n",
              "    <tr>\n",
              "      <th class=\"blank level0\" >&nbsp;</th>\n",
              "      <th class=\"col_heading level0 col0\" >0</th>\n",
              "      <th class=\"col_heading level0 col1\" >1</th>\n",
              "      <th class=\"col_heading level0 col2\" >2</th>\n",
              "      <th class=\"col_heading level0 col3\" >3</th>\n",
              "      <th class=\"col_heading level0 col4\" >4</th>\n",
              "      <th class=\"col_heading level0 col5\" >5</th>\n",
              "      <th class=\"col_heading level0 col6\" >6</th>\n",
              "      <th class=\"col_heading level0 col7\" >7</th>\n",
              "      <th class=\"col_heading level0 col8\" >8</th>\n",
              "      <th class=\"col_heading level0 col9\" >9</th>\n",
              "      <th class=\"col_heading level0 col10\" >10</th>\n",
              "      <th class=\"col_heading level0 col11\" >11</th>\n",
              "      <th class=\"col_heading level0 col12\" >12</th>\n",
              "      <th class=\"col_heading level0 col13\" >13</th>\n",
              "      <th class=\"col_heading level0 col14\" >14</th>\n",
              "      <th class=\"col_heading level0 col15\" >15</th>\n",
              "      <th class=\"col_heading level0 col16\" >16</th>\n",
              "      <th class=\"col_heading level0 col17\" >17</th>\n",
              "      <th class=\"col_heading level0 col18\" >18</th>\n",
              "      <th class=\"col_heading level0 col19\" >19</th>\n",
              "      <th class=\"col_heading level0 col20\" >20</th>\n",
              "      <th class=\"col_heading level0 col21\" >21</th>\n",
              "      <th class=\"col_heading level0 col22\" >22</th>\n",
              "      <th class=\"col_heading level0 col23\" >23</th>\n",
              "      <th class=\"col_heading level0 col24\" >24</th>\n",
              "      <th class=\"col_heading level0 col25\" >25</th>\n",
              "      <th class=\"col_heading level0 col26\" >26</th>\n",
              "      <th class=\"col_heading level0 col27\" >27</th>\n",
              "    </tr>\n",
              "  </thead>\n",
              "  <tbody>\n",
              "    <tr>\n",
              "      <th id=\"T_8ebb3_level0_row0\" class=\"row_heading level0 row0\" >0</th>\n",
              "      <td id=\"T_8ebb3_row0_col0\" class=\"data row0 col0\" >0</td>\n",
              "      <td id=\"T_8ebb3_row0_col1\" class=\"data row0 col1\" >0</td>\n",
              "      <td id=\"T_8ebb3_row0_col2\" class=\"data row0 col2\" >0</td>\n",
              "      <td id=\"T_8ebb3_row0_col3\" class=\"data row0 col3\" >0</td>\n",
              "      <td id=\"T_8ebb3_row0_col4\" class=\"data row0 col4\" >0</td>\n",
              "      <td id=\"T_8ebb3_row0_col5\" class=\"data row0 col5\" >0</td>\n",
              "      <td id=\"T_8ebb3_row0_col6\" class=\"data row0 col6\" >0</td>\n",
              "      <td id=\"T_8ebb3_row0_col7\" class=\"data row0 col7\" >0</td>\n",
              "      <td id=\"T_8ebb3_row0_col8\" class=\"data row0 col8\" >0</td>\n",
              "      <td id=\"T_8ebb3_row0_col9\" class=\"data row0 col9\" >0</td>\n",
              "      <td id=\"T_8ebb3_row0_col10\" class=\"data row0 col10\" >0</td>\n",
              "      <td id=\"T_8ebb3_row0_col11\" class=\"data row0 col11\" >0</td>\n",
              "      <td id=\"T_8ebb3_row0_col12\" class=\"data row0 col12\" >0</td>\n",
              "      <td id=\"T_8ebb3_row0_col13\" class=\"data row0 col13\" >0</td>\n",
              "      <td id=\"T_8ebb3_row0_col14\" class=\"data row0 col14\" >0</td>\n",
              "      <td id=\"T_8ebb3_row0_col15\" class=\"data row0 col15\" >0</td>\n",
              "      <td id=\"T_8ebb3_row0_col16\" class=\"data row0 col16\" >0</td>\n",
              "      <td id=\"T_8ebb3_row0_col17\" class=\"data row0 col17\" >0</td>\n",
              "      <td id=\"T_8ebb3_row0_col18\" class=\"data row0 col18\" >0</td>\n",
              "      <td id=\"T_8ebb3_row0_col19\" class=\"data row0 col19\" >0</td>\n",
              "      <td id=\"T_8ebb3_row0_col20\" class=\"data row0 col20\" >0</td>\n",
              "      <td id=\"T_8ebb3_row0_col21\" class=\"data row0 col21\" >0</td>\n",
              "      <td id=\"T_8ebb3_row0_col22\" class=\"data row0 col22\" >0</td>\n",
              "      <td id=\"T_8ebb3_row0_col23\" class=\"data row0 col23\" >0</td>\n",
              "      <td id=\"T_8ebb3_row0_col24\" class=\"data row0 col24\" >0</td>\n",
              "      <td id=\"T_8ebb3_row0_col25\" class=\"data row0 col25\" >0</td>\n",
              "      <td id=\"T_8ebb3_row0_col26\" class=\"data row0 col26\" >0</td>\n",
              "      <td id=\"T_8ebb3_row0_col27\" class=\"data row0 col27\" >0</td>\n",
              "    </tr>\n",
              "    <tr>\n",
              "      <th id=\"T_8ebb3_level0_row1\" class=\"row_heading level0 row1\" >1</th>\n",
              "      <td id=\"T_8ebb3_row1_col0\" class=\"data row1 col0\" >0</td>\n",
              "      <td id=\"T_8ebb3_row1_col1\" class=\"data row1 col1\" >0</td>\n",
              "      <td id=\"T_8ebb3_row1_col2\" class=\"data row1 col2\" >0</td>\n",
              "      <td id=\"T_8ebb3_row1_col3\" class=\"data row1 col3\" >0</td>\n",
              "      <td id=\"T_8ebb3_row1_col4\" class=\"data row1 col4\" >0</td>\n",
              "      <td id=\"T_8ebb3_row1_col5\" class=\"data row1 col5\" >0</td>\n",
              "      <td id=\"T_8ebb3_row1_col6\" class=\"data row1 col6\" >0</td>\n",
              "      <td id=\"T_8ebb3_row1_col7\" class=\"data row1 col7\" >0</td>\n",
              "      <td id=\"T_8ebb3_row1_col8\" class=\"data row1 col8\" >0</td>\n",
              "      <td id=\"T_8ebb3_row1_col9\" class=\"data row1 col9\" >0</td>\n",
              "      <td id=\"T_8ebb3_row1_col10\" class=\"data row1 col10\" >0</td>\n",
              "      <td id=\"T_8ebb3_row1_col11\" class=\"data row1 col11\" >0</td>\n",
              "      <td id=\"T_8ebb3_row1_col12\" class=\"data row1 col12\" >0</td>\n",
              "      <td id=\"T_8ebb3_row1_col13\" class=\"data row1 col13\" >0</td>\n",
              "      <td id=\"T_8ebb3_row1_col14\" class=\"data row1 col14\" >0</td>\n",
              "      <td id=\"T_8ebb3_row1_col15\" class=\"data row1 col15\" >0</td>\n",
              "      <td id=\"T_8ebb3_row1_col16\" class=\"data row1 col16\" >0</td>\n",
              "      <td id=\"T_8ebb3_row1_col17\" class=\"data row1 col17\" >0</td>\n",
              "      <td id=\"T_8ebb3_row1_col18\" class=\"data row1 col18\" >0</td>\n",
              "      <td id=\"T_8ebb3_row1_col19\" class=\"data row1 col19\" >0</td>\n",
              "      <td id=\"T_8ebb3_row1_col20\" class=\"data row1 col20\" >0</td>\n",
              "      <td id=\"T_8ebb3_row1_col21\" class=\"data row1 col21\" >0</td>\n",
              "      <td id=\"T_8ebb3_row1_col22\" class=\"data row1 col22\" >0</td>\n",
              "      <td id=\"T_8ebb3_row1_col23\" class=\"data row1 col23\" >0</td>\n",
              "      <td id=\"T_8ebb3_row1_col24\" class=\"data row1 col24\" >0</td>\n",
              "      <td id=\"T_8ebb3_row1_col25\" class=\"data row1 col25\" >0</td>\n",
              "      <td id=\"T_8ebb3_row1_col26\" class=\"data row1 col26\" >0</td>\n",
              "      <td id=\"T_8ebb3_row1_col27\" class=\"data row1 col27\" >0</td>\n",
              "    </tr>\n",
              "    <tr>\n",
              "      <th id=\"T_8ebb3_level0_row2\" class=\"row_heading level0 row2\" >2</th>\n",
              "      <td id=\"T_8ebb3_row2_col0\" class=\"data row2 col0\" >0</td>\n",
              "      <td id=\"T_8ebb3_row2_col1\" class=\"data row2 col1\" >0</td>\n",
              "      <td id=\"T_8ebb3_row2_col2\" class=\"data row2 col2\" >0</td>\n",
              "      <td id=\"T_8ebb3_row2_col3\" class=\"data row2 col3\" >0</td>\n",
              "      <td id=\"T_8ebb3_row2_col4\" class=\"data row2 col4\" >0</td>\n",
              "      <td id=\"T_8ebb3_row2_col5\" class=\"data row2 col5\" >0</td>\n",
              "      <td id=\"T_8ebb3_row2_col6\" class=\"data row2 col6\" >0</td>\n",
              "      <td id=\"T_8ebb3_row2_col7\" class=\"data row2 col7\" >0</td>\n",
              "      <td id=\"T_8ebb3_row2_col8\" class=\"data row2 col8\" >0</td>\n",
              "      <td id=\"T_8ebb3_row2_col9\" class=\"data row2 col9\" >0</td>\n",
              "      <td id=\"T_8ebb3_row2_col10\" class=\"data row2 col10\" >0</td>\n",
              "      <td id=\"T_8ebb3_row2_col11\" class=\"data row2 col11\" >0</td>\n",
              "      <td id=\"T_8ebb3_row2_col12\" class=\"data row2 col12\" >0</td>\n",
              "      <td id=\"T_8ebb3_row2_col13\" class=\"data row2 col13\" >0</td>\n",
              "      <td id=\"T_8ebb3_row2_col14\" class=\"data row2 col14\" >0</td>\n",
              "      <td id=\"T_8ebb3_row2_col15\" class=\"data row2 col15\" >0</td>\n",
              "      <td id=\"T_8ebb3_row2_col16\" class=\"data row2 col16\" >0</td>\n",
              "      <td id=\"T_8ebb3_row2_col17\" class=\"data row2 col17\" >0</td>\n",
              "      <td id=\"T_8ebb3_row2_col18\" class=\"data row2 col18\" >0</td>\n",
              "      <td id=\"T_8ebb3_row2_col19\" class=\"data row2 col19\" >0</td>\n",
              "      <td id=\"T_8ebb3_row2_col20\" class=\"data row2 col20\" >0</td>\n",
              "      <td id=\"T_8ebb3_row2_col21\" class=\"data row2 col21\" >0</td>\n",
              "      <td id=\"T_8ebb3_row2_col22\" class=\"data row2 col22\" >0</td>\n",
              "      <td id=\"T_8ebb3_row2_col23\" class=\"data row2 col23\" >0</td>\n",
              "      <td id=\"T_8ebb3_row2_col24\" class=\"data row2 col24\" >0</td>\n",
              "      <td id=\"T_8ebb3_row2_col25\" class=\"data row2 col25\" >0</td>\n",
              "      <td id=\"T_8ebb3_row2_col26\" class=\"data row2 col26\" >0</td>\n",
              "      <td id=\"T_8ebb3_row2_col27\" class=\"data row2 col27\" >0</td>\n",
              "    </tr>\n",
              "    <tr>\n",
              "      <th id=\"T_8ebb3_level0_row3\" class=\"row_heading level0 row3\" >3</th>\n",
              "      <td id=\"T_8ebb3_row3_col0\" class=\"data row3 col0\" >0</td>\n",
              "      <td id=\"T_8ebb3_row3_col1\" class=\"data row3 col1\" >0</td>\n",
              "      <td id=\"T_8ebb3_row3_col2\" class=\"data row3 col2\" >0</td>\n",
              "      <td id=\"T_8ebb3_row3_col3\" class=\"data row3 col3\" >0</td>\n",
              "      <td id=\"T_8ebb3_row3_col4\" class=\"data row3 col4\" >0</td>\n",
              "      <td id=\"T_8ebb3_row3_col5\" class=\"data row3 col5\" >0</td>\n",
              "      <td id=\"T_8ebb3_row3_col6\" class=\"data row3 col6\" >0</td>\n",
              "      <td id=\"T_8ebb3_row3_col7\" class=\"data row3 col7\" >0</td>\n",
              "      <td id=\"T_8ebb3_row3_col8\" class=\"data row3 col8\" >0</td>\n",
              "      <td id=\"T_8ebb3_row3_col9\" class=\"data row3 col9\" >0</td>\n",
              "      <td id=\"T_8ebb3_row3_col10\" class=\"data row3 col10\" >0</td>\n",
              "      <td id=\"T_8ebb3_row3_col11\" class=\"data row3 col11\" >0</td>\n",
              "      <td id=\"T_8ebb3_row3_col12\" class=\"data row3 col12\" >0</td>\n",
              "      <td id=\"T_8ebb3_row3_col13\" class=\"data row3 col13\" >0</td>\n",
              "      <td id=\"T_8ebb3_row3_col14\" class=\"data row3 col14\" >0</td>\n",
              "      <td id=\"T_8ebb3_row3_col15\" class=\"data row3 col15\" >0</td>\n",
              "      <td id=\"T_8ebb3_row3_col16\" class=\"data row3 col16\" >0</td>\n",
              "      <td id=\"T_8ebb3_row3_col17\" class=\"data row3 col17\" >0</td>\n",
              "      <td id=\"T_8ebb3_row3_col18\" class=\"data row3 col18\" >0</td>\n",
              "      <td id=\"T_8ebb3_row3_col19\" class=\"data row3 col19\" >0</td>\n",
              "      <td id=\"T_8ebb3_row3_col20\" class=\"data row3 col20\" >0</td>\n",
              "      <td id=\"T_8ebb3_row3_col21\" class=\"data row3 col21\" >0</td>\n",
              "      <td id=\"T_8ebb3_row3_col22\" class=\"data row3 col22\" >0</td>\n",
              "      <td id=\"T_8ebb3_row3_col23\" class=\"data row3 col23\" >0</td>\n",
              "      <td id=\"T_8ebb3_row3_col24\" class=\"data row3 col24\" >0</td>\n",
              "      <td id=\"T_8ebb3_row3_col25\" class=\"data row3 col25\" >0</td>\n",
              "      <td id=\"T_8ebb3_row3_col26\" class=\"data row3 col26\" >0</td>\n",
              "      <td id=\"T_8ebb3_row3_col27\" class=\"data row3 col27\" >0</td>\n",
              "    </tr>\n",
              "    <tr>\n",
              "      <th id=\"T_8ebb3_level0_row4\" class=\"row_heading level0 row4\" >4</th>\n",
              "      <td id=\"T_8ebb3_row4_col0\" class=\"data row4 col0\" >0</td>\n",
              "      <td id=\"T_8ebb3_row4_col1\" class=\"data row4 col1\" >0</td>\n",
              "      <td id=\"T_8ebb3_row4_col2\" class=\"data row4 col2\" >0</td>\n",
              "      <td id=\"T_8ebb3_row4_col3\" class=\"data row4 col3\" >0</td>\n",
              "      <td id=\"T_8ebb3_row4_col4\" class=\"data row4 col4\" >0</td>\n",
              "      <td id=\"T_8ebb3_row4_col5\" class=\"data row4 col5\" >0</td>\n",
              "      <td id=\"T_8ebb3_row4_col6\" class=\"data row4 col6\" >0</td>\n",
              "      <td id=\"T_8ebb3_row4_col7\" class=\"data row4 col7\" >0</td>\n",
              "      <td id=\"T_8ebb3_row4_col8\" class=\"data row4 col8\" >0</td>\n",
              "      <td id=\"T_8ebb3_row4_col9\" class=\"data row4 col9\" >0</td>\n",
              "      <td id=\"T_8ebb3_row4_col10\" class=\"data row4 col10\" >0</td>\n",
              "      <td id=\"T_8ebb3_row4_col11\" class=\"data row4 col11\" >0</td>\n",
              "      <td id=\"T_8ebb3_row4_col12\" class=\"data row4 col12\" >0</td>\n",
              "      <td id=\"T_8ebb3_row4_col13\" class=\"data row4 col13\" >0</td>\n",
              "      <td id=\"T_8ebb3_row4_col14\" class=\"data row4 col14\" >0</td>\n",
              "      <td id=\"T_8ebb3_row4_col15\" class=\"data row4 col15\" >0</td>\n",
              "      <td id=\"T_8ebb3_row4_col16\" class=\"data row4 col16\" >0</td>\n",
              "      <td id=\"T_8ebb3_row4_col17\" class=\"data row4 col17\" >0</td>\n",
              "      <td id=\"T_8ebb3_row4_col18\" class=\"data row4 col18\" >0</td>\n",
              "      <td id=\"T_8ebb3_row4_col19\" class=\"data row4 col19\" >0</td>\n",
              "      <td id=\"T_8ebb3_row4_col20\" class=\"data row4 col20\" >0</td>\n",
              "      <td id=\"T_8ebb3_row4_col21\" class=\"data row4 col21\" >0</td>\n",
              "      <td id=\"T_8ebb3_row4_col22\" class=\"data row4 col22\" >0</td>\n",
              "      <td id=\"T_8ebb3_row4_col23\" class=\"data row4 col23\" >0</td>\n",
              "      <td id=\"T_8ebb3_row4_col24\" class=\"data row4 col24\" >0</td>\n",
              "      <td id=\"T_8ebb3_row4_col25\" class=\"data row4 col25\" >0</td>\n",
              "      <td id=\"T_8ebb3_row4_col26\" class=\"data row4 col26\" >0</td>\n",
              "      <td id=\"T_8ebb3_row4_col27\" class=\"data row4 col27\" >0</td>\n",
              "    </tr>\n",
              "    <tr>\n",
              "      <th id=\"T_8ebb3_level0_row5\" class=\"row_heading level0 row5\" >5</th>\n",
              "      <td id=\"T_8ebb3_row5_col0\" class=\"data row5 col0\" >0</td>\n",
              "      <td id=\"T_8ebb3_row5_col1\" class=\"data row5 col1\" >0</td>\n",
              "      <td id=\"T_8ebb3_row5_col2\" class=\"data row5 col2\" >0</td>\n",
              "      <td id=\"T_8ebb3_row5_col3\" class=\"data row5 col3\" >0</td>\n",
              "      <td id=\"T_8ebb3_row5_col4\" class=\"data row5 col4\" >0</td>\n",
              "      <td id=\"T_8ebb3_row5_col5\" class=\"data row5 col5\" >0</td>\n",
              "      <td id=\"T_8ebb3_row5_col6\" class=\"data row5 col6\" >0</td>\n",
              "      <td id=\"T_8ebb3_row5_col7\" class=\"data row5 col7\" >0</td>\n",
              "      <td id=\"T_8ebb3_row5_col8\" class=\"data row5 col8\" >0</td>\n",
              "      <td id=\"T_8ebb3_row5_col9\" class=\"data row5 col9\" >29</td>\n",
              "      <td id=\"T_8ebb3_row5_col10\" class=\"data row5 col10\" >150</td>\n",
              "      <td id=\"T_8ebb3_row5_col11\" class=\"data row5 col11\" >195</td>\n",
              "      <td id=\"T_8ebb3_row5_col12\" class=\"data row5 col12\" >254</td>\n",
              "      <td id=\"T_8ebb3_row5_col13\" class=\"data row5 col13\" >255</td>\n",
              "      <td id=\"T_8ebb3_row5_col14\" class=\"data row5 col14\" >254</td>\n",
              "      <td id=\"T_8ebb3_row5_col15\" class=\"data row5 col15\" >176</td>\n",
              "      <td id=\"T_8ebb3_row5_col16\" class=\"data row5 col16\" >193</td>\n",
              "      <td id=\"T_8ebb3_row5_col17\" class=\"data row5 col17\" >150</td>\n",
              "      <td id=\"T_8ebb3_row5_col18\" class=\"data row5 col18\" >96</td>\n",
              "      <td id=\"T_8ebb3_row5_col19\" class=\"data row5 col19\" >0</td>\n",
              "      <td id=\"T_8ebb3_row5_col20\" class=\"data row5 col20\" >0</td>\n",
              "      <td id=\"T_8ebb3_row5_col21\" class=\"data row5 col21\" >0</td>\n",
              "      <td id=\"T_8ebb3_row5_col22\" class=\"data row5 col22\" >0</td>\n",
              "      <td id=\"T_8ebb3_row5_col23\" class=\"data row5 col23\" >0</td>\n",
              "      <td id=\"T_8ebb3_row5_col24\" class=\"data row5 col24\" >0</td>\n",
              "      <td id=\"T_8ebb3_row5_col25\" class=\"data row5 col25\" >0</td>\n",
              "      <td id=\"T_8ebb3_row5_col26\" class=\"data row5 col26\" >0</td>\n",
              "      <td id=\"T_8ebb3_row5_col27\" class=\"data row5 col27\" >0</td>\n",
              "    </tr>\n",
              "    <tr>\n",
              "      <th id=\"T_8ebb3_level0_row6\" class=\"row_heading level0 row6\" >6</th>\n",
              "      <td id=\"T_8ebb3_row6_col0\" class=\"data row6 col0\" >0</td>\n",
              "      <td id=\"T_8ebb3_row6_col1\" class=\"data row6 col1\" >0</td>\n",
              "      <td id=\"T_8ebb3_row6_col2\" class=\"data row6 col2\" >0</td>\n",
              "      <td id=\"T_8ebb3_row6_col3\" class=\"data row6 col3\" >0</td>\n",
              "      <td id=\"T_8ebb3_row6_col4\" class=\"data row6 col4\" >0</td>\n",
              "      <td id=\"T_8ebb3_row6_col5\" class=\"data row6 col5\" >0</td>\n",
              "      <td id=\"T_8ebb3_row6_col6\" class=\"data row6 col6\" >0</td>\n",
              "      <td id=\"T_8ebb3_row6_col7\" class=\"data row6 col7\" >48</td>\n",
              "      <td id=\"T_8ebb3_row6_col8\" class=\"data row6 col8\" >166</td>\n",
              "      <td id=\"T_8ebb3_row6_col9\" class=\"data row6 col9\" >224</td>\n",
              "      <td id=\"T_8ebb3_row6_col10\" class=\"data row6 col10\" >253</td>\n",
              "      <td id=\"T_8ebb3_row6_col11\" class=\"data row6 col11\" >253</td>\n",
              "      <td id=\"T_8ebb3_row6_col12\" class=\"data row6 col12\" >234</td>\n",
              "      <td id=\"T_8ebb3_row6_col13\" class=\"data row6 col13\" >196</td>\n",
              "      <td id=\"T_8ebb3_row6_col14\" class=\"data row6 col14\" >253</td>\n",
              "      <td id=\"T_8ebb3_row6_col15\" class=\"data row6 col15\" >253</td>\n",
              "      <td id=\"T_8ebb3_row6_col16\" class=\"data row6 col16\" >253</td>\n",
              "      <td id=\"T_8ebb3_row6_col17\" class=\"data row6 col17\" >253</td>\n",
              "      <td id=\"T_8ebb3_row6_col18\" class=\"data row6 col18\" >233</td>\n",
              "      <td id=\"T_8ebb3_row6_col19\" class=\"data row6 col19\" >0</td>\n",
              "      <td id=\"T_8ebb3_row6_col20\" class=\"data row6 col20\" >0</td>\n",
              "      <td id=\"T_8ebb3_row6_col21\" class=\"data row6 col21\" >0</td>\n",
              "      <td id=\"T_8ebb3_row6_col22\" class=\"data row6 col22\" >0</td>\n",
              "      <td id=\"T_8ebb3_row6_col23\" class=\"data row6 col23\" >0</td>\n",
              "      <td id=\"T_8ebb3_row6_col24\" class=\"data row6 col24\" >0</td>\n",
              "      <td id=\"T_8ebb3_row6_col25\" class=\"data row6 col25\" >0</td>\n",
              "      <td id=\"T_8ebb3_row6_col26\" class=\"data row6 col26\" >0</td>\n",
              "      <td id=\"T_8ebb3_row6_col27\" class=\"data row6 col27\" >0</td>\n",
              "    </tr>\n",
              "    <tr>\n",
              "      <th id=\"T_8ebb3_level0_row7\" class=\"row_heading level0 row7\" >7</th>\n",
              "      <td id=\"T_8ebb3_row7_col0\" class=\"data row7 col0\" >0</td>\n",
              "      <td id=\"T_8ebb3_row7_col1\" class=\"data row7 col1\" >0</td>\n",
              "      <td id=\"T_8ebb3_row7_col2\" class=\"data row7 col2\" >0</td>\n",
              "      <td id=\"T_8ebb3_row7_col3\" class=\"data row7 col3\" >0</td>\n",
              "      <td id=\"T_8ebb3_row7_col4\" class=\"data row7 col4\" >0</td>\n",
              "      <td id=\"T_8ebb3_row7_col5\" class=\"data row7 col5\" >93</td>\n",
              "      <td id=\"T_8ebb3_row7_col6\" class=\"data row7 col6\" >244</td>\n",
              "      <td id=\"T_8ebb3_row7_col7\" class=\"data row7 col7\" >249</td>\n",
              "      <td id=\"T_8ebb3_row7_col8\" class=\"data row7 col8\" >253</td>\n",
              "      <td id=\"T_8ebb3_row7_col9\" class=\"data row7 col9\" >187</td>\n",
              "      <td id=\"T_8ebb3_row7_col10\" class=\"data row7 col10\" >46</td>\n",
              "      <td id=\"T_8ebb3_row7_col11\" class=\"data row7 col11\" >10</td>\n",
              "      <td id=\"T_8ebb3_row7_col12\" class=\"data row7 col12\" >8</td>\n",
              "      <td id=\"T_8ebb3_row7_col13\" class=\"data row7 col13\" >4</td>\n",
              "      <td id=\"T_8ebb3_row7_col14\" class=\"data row7 col14\" >10</td>\n",
              "      <td id=\"T_8ebb3_row7_col15\" class=\"data row7 col15\" >194</td>\n",
              "      <td id=\"T_8ebb3_row7_col16\" class=\"data row7 col16\" >253</td>\n",
              "      <td id=\"T_8ebb3_row7_col17\" class=\"data row7 col17\" >253</td>\n",
              "      <td id=\"T_8ebb3_row7_col18\" class=\"data row7 col18\" >233</td>\n",
              "      <td id=\"T_8ebb3_row7_col19\" class=\"data row7 col19\" >0</td>\n",
              "      <td id=\"T_8ebb3_row7_col20\" class=\"data row7 col20\" >0</td>\n",
              "      <td id=\"T_8ebb3_row7_col21\" class=\"data row7 col21\" >0</td>\n",
              "      <td id=\"T_8ebb3_row7_col22\" class=\"data row7 col22\" >0</td>\n",
              "      <td id=\"T_8ebb3_row7_col23\" class=\"data row7 col23\" >0</td>\n",
              "      <td id=\"T_8ebb3_row7_col24\" class=\"data row7 col24\" >0</td>\n",
              "      <td id=\"T_8ebb3_row7_col25\" class=\"data row7 col25\" >0</td>\n",
              "      <td id=\"T_8ebb3_row7_col26\" class=\"data row7 col26\" >0</td>\n",
              "      <td id=\"T_8ebb3_row7_col27\" class=\"data row7 col27\" >0</td>\n",
              "    </tr>\n",
              "    <tr>\n",
              "      <th id=\"T_8ebb3_level0_row8\" class=\"row_heading level0 row8\" >8</th>\n",
              "      <td id=\"T_8ebb3_row8_col0\" class=\"data row8 col0\" >0</td>\n",
              "      <td id=\"T_8ebb3_row8_col1\" class=\"data row8 col1\" >0</td>\n",
              "      <td id=\"T_8ebb3_row8_col2\" class=\"data row8 col2\" >0</td>\n",
              "      <td id=\"T_8ebb3_row8_col3\" class=\"data row8 col3\" >0</td>\n",
              "      <td id=\"T_8ebb3_row8_col4\" class=\"data row8 col4\" >0</td>\n",
              "      <td id=\"T_8ebb3_row8_col5\" class=\"data row8 col5\" >107</td>\n",
              "      <td id=\"T_8ebb3_row8_col6\" class=\"data row8 col6\" >253</td>\n",
              "      <td id=\"T_8ebb3_row8_col7\" class=\"data row8 col7\" >253</td>\n",
              "      <td id=\"T_8ebb3_row8_col8\" class=\"data row8 col8\" >230</td>\n",
              "      <td id=\"T_8ebb3_row8_col9\" class=\"data row8 col9\" >48</td>\n",
              "      <td id=\"T_8ebb3_row8_col10\" class=\"data row8 col10\" >0</td>\n",
              "      <td id=\"T_8ebb3_row8_col11\" class=\"data row8 col11\" >0</td>\n",
              "      <td id=\"T_8ebb3_row8_col12\" class=\"data row8 col12\" >0</td>\n",
              "      <td id=\"T_8ebb3_row8_col13\" class=\"data row8 col13\" >0</td>\n",
              "      <td id=\"T_8ebb3_row8_col14\" class=\"data row8 col14\" >0</td>\n",
              "      <td id=\"T_8ebb3_row8_col15\" class=\"data row8 col15\" >192</td>\n",
              "      <td id=\"T_8ebb3_row8_col16\" class=\"data row8 col16\" >253</td>\n",
              "      <td id=\"T_8ebb3_row8_col17\" class=\"data row8 col17\" >253</td>\n",
              "      <td id=\"T_8ebb3_row8_col18\" class=\"data row8 col18\" >156</td>\n",
              "      <td id=\"T_8ebb3_row8_col19\" class=\"data row8 col19\" >0</td>\n",
              "      <td id=\"T_8ebb3_row8_col20\" class=\"data row8 col20\" >0</td>\n",
              "      <td id=\"T_8ebb3_row8_col21\" class=\"data row8 col21\" >0</td>\n",
              "      <td id=\"T_8ebb3_row8_col22\" class=\"data row8 col22\" >0</td>\n",
              "      <td id=\"T_8ebb3_row8_col23\" class=\"data row8 col23\" >0</td>\n",
              "      <td id=\"T_8ebb3_row8_col24\" class=\"data row8 col24\" >0</td>\n",
              "      <td id=\"T_8ebb3_row8_col25\" class=\"data row8 col25\" >0</td>\n",
              "      <td id=\"T_8ebb3_row8_col26\" class=\"data row8 col26\" >0</td>\n",
              "      <td id=\"T_8ebb3_row8_col27\" class=\"data row8 col27\" >0</td>\n",
              "    </tr>\n",
              "    <tr>\n",
              "      <th id=\"T_8ebb3_level0_row9\" class=\"row_heading level0 row9\" >9</th>\n",
              "      <td id=\"T_8ebb3_row9_col0\" class=\"data row9 col0\" >0</td>\n",
              "      <td id=\"T_8ebb3_row9_col1\" class=\"data row9 col1\" >0</td>\n",
              "      <td id=\"T_8ebb3_row9_col2\" class=\"data row9 col2\" >0</td>\n",
              "      <td id=\"T_8ebb3_row9_col3\" class=\"data row9 col3\" >0</td>\n",
              "      <td id=\"T_8ebb3_row9_col4\" class=\"data row9 col4\" >0</td>\n",
              "      <td id=\"T_8ebb3_row9_col5\" class=\"data row9 col5\" >3</td>\n",
              "      <td id=\"T_8ebb3_row9_col6\" class=\"data row9 col6\" >20</td>\n",
              "      <td id=\"T_8ebb3_row9_col7\" class=\"data row9 col7\" >20</td>\n",
              "      <td id=\"T_8ebb3_row9_col8\" class=\"data row9 col8\" >15</td>\n",
              "      <td id=\"T_8ebb3_row9_col9\" class=\"data row9 col9\" >0</td>\n",
              "      <td id=\"T_8ebb3_row9_col10\" class=\"data row9 col10\" >0</td>\n",
              "      <td id=\"T_8ebb3_row9_col11\" class=\"data row9 col11\" >0</td>\n",
              "      <td id=\"T_8ebb3_row9_col12\" class=\"data row9 col12\" >0</td>\n",
              "      <td id=\"T_8ebb3_row9_col13\" class=\"data row9 col13\" >0</td>\n",
              "      <td id=\"T_8ebb3_row9_col14\" class=\"data row9 col14\" >43</td>\n",
              "      <td id=\"T_8ebb3_row9_col15\" class=\"data row9 col15\" >224</td>\n",
              "      <td id=\"T_8ebb3_row9_col16\" class=\"data row9 col16\" >253</td>\n",
              "      <td id=\"T_8ebb3_row9_col17\" class=\"data row9 col17\" >245</td>\n",
              "      <td id=\"T_8ebb3_row9_col18\" class=\"data row9 col18\" >74</td>\n",
              "      <td id=\"T_8ebb3_row9_col19\" class=\"data row9 col19\" >0</td>\n",
              "      <td id=\"T_8ebb3_row9_col20\" class=\"data row9 col20\" >0</td>\n",
              "      <td id=\"T_8ebb3_row9_col21\" class=\"data row9 col21\" >0</td>\n",
              "      <td id=\"T_8ebb3_row9_col22\" class=\"data row9 col22\" >0</td>\n",
              "      <td id=\"T_8ebb3_row9_col23\" class=\"data row9 col23\" >0</td>\n",
              "      <td id=\"T_8ebb3_row9_col24\" class=\"data row9 col24\" >0</td>\n",
              "      <td id=\"T_8ebb3_row9_col25\" class=\"data row9 col25\" >0</td>\n",
              "      <td id=\"T_8ebb3_row9_col26\" class=\"data row9 col26\" >0</td>\n",
              "      <td id=\"T_8ebb3_row9_col27\" class=\"data row9 col27\" >0</td>\n",
              "    </tr>\n",
              "    <tr>\n",
              "      <th id=\"T_8ebb3_level0_row10\" class=\"row_heading level0 row10\" >10</th>\n",
              "      <td id=\"T_8ebb3_row10_col0\" class=\"data row10 col0\" >0</td>\n",
              "      <td id=\"T_8ebb3_row10_col1\" class=\"data row10 col1\" >0</td>\n",
              "      <td id=\"T_8ebb3_row10_col2\" class=\"data row10 col2\" >0</td>\n",
              "      <td id=\"T_8ebb3_row10_col3\" class=\"data row10 col3\" >0</td>\n",
              "      <td id=\"T_8ebb3_row10_col4\" class=\"data row10 col4\" >0</td>\n",
              "      <td id=\"T_8ebb3_row10_col5\" class=\"data row10 col5\" >0</td>\n",
              "      <td id=\"T_8ebb3_row10_col6\" class=\"data row10 col6\" >0</td>\n",
              "      <td id=\"T_8ebb3_row10_col7\" class=\"data row10 col7\" >0</td>\n",
              "      <td id=\"T_8ebb3_row10_col8\" class=\"data row10 col8\" >0</td>\n",
              "      <td id=\"T_8ebb3_row10_col9\" class=\"data row10 col9\" >0</td>\n",
              "      <td id=\"T_8ebb3_row10_col10\" class=\"data row10 col10\" >0</td>\n",
              "      <td id=\"T_8ebb3_row10_col11\" class=\"data row10 col11\" >0</td>\n",
              "      <td id=\"T_8ebb3_row10_col12\" class=\"data row10 col12\" >0</td>\n",
              "      <td id=\"T_8ebb3_row10_col13\" class=\"data row10 col13\" >0</td>\n",
              "      <td id=\"T_8ebb3_row10_col14\" class=\"data row10 col14\" >249</td>\n",
              "      <td id=\"T_8ebb3_row10_col15\" class=\"data row10 col15\" >253</td>\n",
              "      <td id=\"T_8ebb3_row10_col16\" class=\"data row10 col16\" >245</td>\n",
              "      <td id=\"T_8ebb3_row10_col17\" class=\"data row10 col17\" >126</td>\n",
              "      <td id=\"T_8ebb3_row10_col18\" class=\"data row10 col18\" >0</td>\n",
              "      <td id=\"T_8ebb3_row10_col19\" class=\"data row10 col19\" >0</td>\n",
              "      <td id=\"T_8ebb3_row10_col20\" class=\"data row10 col20\" >0</td>\n",
              "      <td id=\"T_8ebb3_row10_col21\" class=\"data row10 col21\" >0</td>\n",
              "      <td id=\"T_8ebb3_row10_col22\" class=\"data row10 col22\" >0</td>\n",
              "      <td id=\"T_8ebb3_row10_col23\" class=\"data row10 col23\" >0</td>\n",
              "      <td id=\"T_8ebb3_row10_col24\" class=\"data row10 col24\" >0</td>\n",
              "      <td id=\"T_8ebb3_row10_col25\" class=\"data row10 col25\" >0</td>\n",
              "      <td id=\"T_8ebb3_row10_col26\" class=\"data row10 col26\" >0</td>\n",
              "      <td id=\"T_8ebb3_row10_col27\" class=\"data row10 col27\" >0</td>\n",
              "    </tr>\n",
              "    <tr>\n",
              "      <th id=\"T_8ebb3_level0_row11\" class=\"row_heading level0 row11\" >11</th>\n",
              "      <td id=\"T_8ebb3_row11_col0\" class=\"data row11 col0\" >0</td>\n",
              "      <td id=\"T_8ebb3_row11_col1\" class=\"data row11 col1\" >0</td>\n",
              "      <td id=\"T_8ebb3_row11_col2\" class=\"data row11 col2\" >0</td>\n",
              "      <td id=\"T_8ebb3_row11_col3\" class=\"data row11 col3\" >0</td>\n",
              "      <td id=\"T_8ebb3_row11_col4\" class=\"data row11 col4\" >0</td>\n",
              "      <td id=\"T_8ebb3_row11_col5\" class=\"data row11 col5\" >0</td>\n",
              "      <td id=\"T_8ebb3_row11_col6\" class=\"data row11 col6\" >0</td>\n",
              "      <td id=\"T_8ebb3_row11_col7\" class=\"data row11 col7\" >0</td>\n",
              "      <td id=\"T_8ebb3_row11_col8\" class=\"data row11 col8\" >0</td>\n",
              "      <td id=\"T_8ebb3_row11_col9\" class=\"data row11 col9\" >0</td>\n",
              "      <td id=\"T_8ebb3_row11_col10\" class=\"data row11 col10\" >0</td>\n",
              "      <td id=\"T_8ebb3_row11_col11\" class=\"data row11 col11\" >14</td>\n",
              "      <td id=\"T_8ebb3_row11_col12\" class=\"data row11 col12\" >101</td>\n",
              "      <td id=\"T_8ebb3_row11_col13\" class=\"data row11 col13\" >223</td>\n",
              "      <td id=\"T_8ebb3_row11_col14\" class=\"data row11 col14\" >253</td>\n",
              "      <td id=\"T_8ebb3_row11_col15\" class=\"data row11 col15\" >248</td>\n",
              "      <td id=\"T_8ebb3_row11_col16\" class=\"data row11 col16\" >124</td>\n",
              "      <td id=\"T_8ebb3_row11_col17\" class=\"data row11 col17\" >0</td>\n",
              "      <td id=\"T_8ebb3_row11_col18\" class=\"data row11 col18\" >0</td>\n",
              "      <td id=\"T_8ebb3_row11_col19\" class=\"data row11 col19\" >0</td>\n",
              "      <td id=\"T_8ebb3_row11_col20\" class=\"data row11 col20\" >0</td>\n",
              "      <td id=\"T_8ebb3_row11_col21\" class=\"data row11 col21\" >0</td>\n",
              "      <td id=\"T_8ebb3_row11_col22\" class=\"data row11 col22\" >0</td>\n",
              "      <td id=\"T_8ebb3_row11_col23\" class=\"data row11 col23\" >0</td>\n",
              "      <td id=\"T_8ebb3_row11_col24\" class=\"data row11 col24\" >0</td>\n",
              "      <td id=\"T_8ebb3_row11_col25\" class=\"data row11 col25\" >0</td>\n",
              "      <td id=\"T_8ebb3_row11_col26\" class=\"data row11 col26\" >0</td>\n",
              "      <td id=\"T_8ebb3_row11_col27\" class=\"data row11 col27\" >0</td>\n",
              "    </tr>\n",
              "    <tr>\n",
              "      <th id=\"T_8ebb3_level0_row12\" class=\"row_heading level0 row12\" >12</th>\n",
              "      <td id=\"T_8ebb3_row12_col0\" class=\"data row12 col0\" >0</td>\n",
              "      <td id=\"T_8ebb3_row12_col1\" class=\"data row12 col1\" >0</td>\n",
              "      <td id=\"T_8ebb3_row12_col2\" class=\"data row12 col2\" >0</td>\n",
              "      <td id=\"T_8ebb3_row12_col3\" class=\"data row12 col3\" >0</td>\n",
              "      <td id=\"T_8ebb3_row12_col4\" class=\"data row12 col4\" >0</td>\n",
              "      <td id=\"T_8ebb3_row12_col5\" class=\"data row12 col5\" >0</td>\n",
              "      <td id=\"T_8ebb3_row12_col6\" class=\"data row12 col6\" >0</td>\n",
              "      <td id=\"T_8ebb3_row12_col7\" class=\"data row12 col7\" >0</td>\n",
              "      <td id=\"T_8ebb3_row12_col8\" class=\"data row12 col8\" >0</td>\n",
              "      <td id=\"T_8ebb3_row12_col9\" class=\"data row12 col9\" >11</td>\n",
              "      <td id=\"T_8ebb3_row12_col10\" class=\"data row12 col10\" >166</td>\n",
              "      <td id=\"T_8ebb3_row12_col11\" class=\"data row12 col11\" >239</td>\n",
              "      <td id=\"T_8ebb3_row12_col12\" class=\"data row12 col12\" >253</td>\n",
              "      <td id=\"T_8ebb3_row12_col13\" class=\"data row12 col13\" >253</td>\n",
              "      <td id=\"T_8ebb3_row12_col14\" class=\"data row12 col14\" >253</td>\n",
              "      <td id=\"T_8ebb3_row12_col15\" class=\"data row12 col15\" >187</td>\n",
              "      <td id=\"T_8ebb3_row12_col16\" class=\"data row12 col16\" >30</td>\n",
              "      <td id=\"T_8ebb3_row12_col17\" class=\"data row12 col17\" >0</td>\n",
              "      <td id=\"T_8ebb3_row12_col18\" class=\"data row12 col18\" >0</td>\n",
              "      <td id=\"T_8ebb3_row12_col19\" class=\"data row12 col19\" >0</td>\n",
              "      <td id=\"T_8ebb3_row12_col20\" class=\"data row12 col20\" >0</td>\n",
              "      <td id=\"T_8ebb3_row12_col21\" class=\"data row12 col21\" >0</td>\n",
              "      <td id=\"T_8ebb3_row12_col22\" class=\"data row12 col22\" >0</td>\n",
              "      <td id=\"T_8ebb3_row12_col23\" class=\"data row12 col23\" >0</td>\n",
              "      <td id=\"T_8ebb3_row12_col24\" class=\"data row12 col24\" >0</td>\n",
              "      <td id=\"T_8ebb3_row12_col25\" class=\"data row12 col25\" >0</td>\n",
              "      <td id=\"T_8ebb3_row12_col26\" class=\"data row12 col26\" >0</td>\n",
              "      <td id=\"T_8ebb3_row12_col27\" class=\"data row12 col27\" >0</td>\n",
              "    </tr>\n",
              "    <tr>\n",
              "      <th id=\"T_8ebb3_level0_row13\" class=\"row_heading level0 row13\" >13</th>\n",
              "      <td id=\"T_8ebb3_row13_col0\" class=\"data row13 col0\" >0</td>\n",
              "      <td id=\"T_8ebb3_row13_col1\" class=\"data row13 col1\" >0</td>\n",
              "      <td id=\"T_8ebb3_row13_col2\" class=\"data row13 col2\" >0</td>\n",
              "      <td id=\"T_8ebb3_row13_col3\" class=\"data row13 col3\" >0</td>\n",
              "      <td id=\"T_8ebb3_row13_col4\" class=\"data row13 col4\" >0</td>\n",
              "      <td id=\"T_8ebb3_row13_col5\" class=\"data row13 col5\" >0</td>\n",
              "      <td id=\"T_8ebb3_row13_col6\" class=\"data row13 col6\" >0</td>\n",
              "      <td id=\"T_8ebb3_row13_col7\" class=\"data row13 col7\" >0</td>\n",
              "      <td id=\"T_8ebb3_row13_col8\" class=\"data row13 col8\" >0</td>\n",
              "      <td id=\"T_8ebb3_row13_col9\" class=\"data row13 col9\" >16</td>\n",
              "      <td id=\"T_8ebb3_row13_col10\" class=\"data row13 col10\" >248</td>\n",
              "      <td id=\"T_8ebb3_row13_col11\" class=\"data row13 col11\" >250</td>\n",
              "      <td id=\"T_8ebb3_row13_col12\" class=\"data row13 col12\" >253</td>\n",
              "      <td id=\"T_8ebb3_row13_col13\" class=\"data row13 col13\" >253</td>\n",
              "      <td id=\"T_8ebb3_row13_col14\" class=\"data row13 col14\" >253</td>\n",
              "      <td id=\"T_8ebb3_row13_col15\" class=\"data row13 col15\" >253</td>\n",
              "      <td id=\"T_8ebb3_row13_col16\" class=\"data row13 col16\" >232</td>\n",
              "      <td id=\"T_8ebb3_row13_col17\" class=\"data row13 col17\" >213</td>\n",
              "      <td id=\"T_8ebb3_row13_col18\" class=\"data row13 col18\" >111</td>\n",
              "      <td id=\"T_8ebb3_row13_col19\" class=\"data row13 col19\" >2</td>\n",
              "      <td id=\"T_8ebb3_row13_col20\" class=\"data row13 col20\" >0</td>\n",
              "      <td id=\"T_8ebb3_row13_col21\" class=\"data row13 col21\" >0</td>\n",
              "      <td id=\"T_8ebb3_row13_col22\" class=\"data row13 col22\" >0</td>\n",
              "      <td id=\"T_8ebb3_row13_col23\" class=\"data row13 col23\" >0</td>\n",
              "      <td id=\"T_8ebb3_row13_col24\" class=\"data row13 col24\" >0</td>\n",
              "      <td id=\"T_8ebb3_row13_col25\" class=\"data row13 col25\" >0</td>\n",
              "      <td id=\"T_8ebb3_row13_col26\" class=\"data row13 col26\" >0</td>\n",
              "      <td id=\"T_8ebb3_row13_col27\" class=\"data row13 col27\" >0</td>\n",
              "    </tr>\n",
              "    <tr>\n",
              "      <th id=\"T_8ebb3_level0_row14\" class=\"row_heading level0 row14\" >14</th>\n",
              "      <td id=\"T_8ebb3_row14_col0\" class=\"data row14 col0\" >0</td>\n",
              "      <td id=\"T_8ebb3_row14_col1\" class=\"data row14 col1\" >0</td>\n",
              "      <td id=\"T_8ebb3_row14_col2\" class=\"data row14 col2\" >0</td>\n",
              "      <td id=\"T_8ebb3_row14_col3\" class=\"data row14 col3\" >0</td>\n",
              "      <td id=\"T_8ebb3_row14_col4\" class=\"data row14 col4\" >0</td>\n",
              "      <td id=\"T_8ebb3_row14_col5\" class=\"data row14 col5\" >0</td>\n",
              "      <td id=\"T_8ebb3_row14_col6\" class=\"data row14 col6\" >0</td>\n",
              "      <td id=\"T_8ebb3_row14_col7\" class=\"data row14 col7\" >0</td>\n",
              "      <td id=\"T_8ebb3_row14_col8\" class=\"data row14 col8\" >0</td>\n",
              "      <td id=\"T_8ebb3_row14_col9\" class=\"data row14 col9\" >0</td>\n",
              "      <td id=\"T_8ebb3_row14_col10\" class=\"data row14 col10\" >0</td>\n",
              "      <td id=\"T_8ebb3_row14_col11\" class=\"data row14 col11\" >43</td>\n",
              "      <td id=\"T_8ebb3_row14_col12\" class=\"data row14 col12\" >98</td>\n",
              "      <td id=\"T_8ebb3_row14_col13\" class=\"data row14 col13\" >98</td>\n",
              "      <td id=\"T_8ebb3_row14_col14\" class=\"data row14 col14\" >208</td>\n",
              "      <td id=\"T_8ebb3_row14_col15\" class=\"data row14 col15\" >253</td>\n",
              "      <td id=\"T_8ebb3_row14_col16\" class=\"data row14 col16\" >253</td>\n",
              "      <td id=\"T_8ebb3_row14_col17\" class=\"data row14 col17\" >253</td>\n",
              "      <td id=\"T_8ebb3_row14_col18\" class=\"data row14 col18\" >253</td>\n",
              "      <td id=\"T_8ebb3_row14_col19\" class=\"data row14 col19\" >187</td>\n",
              "      <td id=\"T_8ebb3_row14_col20\" class=\"data row14 col20\" >22</td>\n",
              "      <td id=\"T_8ebb3_row14_col21\" class=\"data row14 col21\" >0</td>\n",
              "      <td id=\"T_8ebb3_row14_col22\" class=\"data row14 col22\" >0</td>\n",
              "      <td id=\"T_8ebb3_row14_col23\" class=\"data row14 col23\" >0</td>\n",
              "      <td id=\"T_8ebb3_row14_col24\" class=\"data row14 col24\" >0</td>\n",
              "      <td id=\"T_8ebb3_row14_col25\" class=\"data row14 col25\" >0</td>\n",
              "      <td id=\"T_8ebb3_row14_col26\" class=\"data row14 col26\" >0</td>\n",
              "      <td id=\"T_8ebb3_row14_col27\" class=\"data row14 col27\" >0</td>\n",
              "    </tr>\n",
              "    <tr>\n",
              "      <th id=\"T_8ebb3_level0_row15\" class=\"row_heading level0 row15\" >15</th>\n",
              "      <td id=\"T_8ebb3_row15_col0\" class=\"data row15 col0\" >0</td>\n",
              "      <td id=\"T_8ebb3_row15_col1\" class=\"data row15 col1\" >0</td>\n",
              "      <td id=\"T_8ebb3_row15_col2\" class=\"data row15 col2\" >0</td>\n",
              "      <td id=\"T_8ebb3_row15_col3\" class=\"data row15 col3\" >0</td>\n",
              "      <td id=\"T_8ebb3_row15_col4\" class=\"data row15 col4\" >0</td>\n",
              "      <td id=\"T_8ebb3_row15_col5\" class=\"data row15 col5\" >0</td>\n",
              "      <td id=\"T_8ebb3_row15_col6\" class=\"data row15 col6\" >0</td>\n",
              "      <td id=\"T_8ebb3_row15_col7\" class=\"data row15 col7\" >0</td>\n",
              "      <td id=\"T_8ebb3_row15_col8\" class=\"data row15 col8\" >0</td>\n",
              "      <td id=\"T_8ebb3_row15_col9\" class=\"data row15 col9\" >0</td>\n",
              "      <td id=\"T_8ebb3_row15_col10\" class=\"data row15 col10\" >0</td>\n",
              "      <td id=\"T_8ebb3_row15_col11\" class=\"data row15 col11\" >0</td>\n",
              "      <td id=\"T_8ebb3_row15_col12\" class=\"data row15 col12\" >0</td>\n",
              "      <td id=\"T_8ebb3_row15_col13\" class=\"data row15 col13\" >0</td>\n",
              "      <td id=\"T_8ebb3_row15_col14\" class=\"data row15 col14\" >9</td>\n",
              "      <td id=\"T_8ebb3_row15_col15\" class=\"data row15 col15\" >51</td>\n",
              "      <td id=\"T_8ebb3_row15_col16\" class=\"data row15 col16\" >119</td>\n",
              "      <td id=\"T_8ebb3_row15_col17\" class=\"data row15 col17\" >253</td>\n",
              "      <td id=\"T_8ebb3_row15_col18\" class=\"data row15 col18\" >253</td>\n",
              "      <td id=\"T_8ebb3_row15_col19\" class=\"data row15 col19\" >253</td>\n",
              "      <td id=\"T_8ebb3_row15_col20\" class=\"data row15 col20\" >76</td>\n",
              "      <td id=\"T_8ebb3_row15_col21\" class=\"data row15 col21\" >0</td>\n",
              "      <td id=\"T_8ebb3_row15_col22\" class=\"data row15 col22\" >0</td>\n",
              "      <td id=\"T_8ebb3_row15_col23\" class=\"data row15 col23\" >0</td>\n",
              "      <td id=\"T_8ebb3_row15_col24\" class=\"data row15 col24\" >0</td>\n",
              "      <td id=\"T_8ebb3_row15_col25\" class=\"data row15 col25\" >0</td>\n",
              "      <td id=\"T_8ebb3_row15_col26\" class=\"data row15 col26\" >0</td>\n",
              "      <td id=\"T_8ebb3_row15_col27\" class=\"data row15 col27\" >0</td>\n",
              "    </tr>\n",
              "    <tr>\n",
              "      <th id=\"T_8ebb3_level0_row16\" class=\"row_heading level0 row16\" >16</th>\n",
              "      <td id=\"T_8ebb3_row16_col0\" class=\"data row16 col0\" >0</td>\n",
              "      <td id=\"T_8ebb3_row16_col1\" class=\"data row16 col1\" >0</td>\n",
              "      <td id=\"T_8ebb3_row16_col2\" class=\"data row16 col2\" >0</td>\n",
              "      <td id=\"T_8ebb3_row16_col3\" class=\"data row16 col3\" >0</td>\n",
              "      <td id=\"T_8ebb3_row16_col4\" class=\"data row16 col4\" >0</td>\n",
              "      <td id=\"T_8ebb3_row16_col5\" class=\"data row16 col5\" >0</td>\n",
              "      <td id=\"T_8ebb3_row16_col6\" class=\"data row16 col6\" >0</td>\n",
              "      <td id=\"T_8ebb3_row16_col7\" class=\"data row16 col7\" >0</td>\n",
              "      <td id=\"T_8ebb3_row16_col8\" class=\"data row16 col8\" >0</td>\n",
              "      <td id=\"T_8ebb3_row16_col9\" class=\"data row16 col9\" >0</td>\n",
              "      <td id=\"T_8ebb3_row16_col10\" class=\"data row16 col10\" >0</td>\n",
              "      <td id=\"T_8ebb3_row16_col11\" class=\"data row16 col11\" >0</td>\n",
              "      <td id=\"T_8ebb3_row16_col12\" class=\"data row16 col12\" >0</td>\n",
              "      <td id=\"T_8ebb3_row16_col13\" class=\"data row16 col13\" >0</td>\n",
              "      <td id=\"T_8ebb3_row16_col14\" class=\"data row16 col14\" >0</td>\n",
              "      <td id=\"T_8ebb3_row16_col15\" class=\"data row16 col15\" >0</td>\n",
              "      <td id=\"T_8ebb3_row16_col16\" class=\"data row16 col16\" >1</td>\n",
              "      <td id=\"T_8ebb3_row16_col17\" class=\"data row16 col17\" >183</td>\n",
              "      <td id=\"T_8ebb3_row16_col18\" class=\"data row16 col18\" >253</td>\n",
              "      <td id=\"T_8ebb3_row16_col19\" class=\"data row16 col19\" >253</td>\n",
              "      <td id=\"T_8ebb3_row16_col20\" class=\"data row16 col20\" >139</td>\n",
              "      <td id=\"T_8ebb3_row16_col21\" class=\"data row16 col21\" >0</td>\n",
              "      <td id=\"T_8ebb3_row16_col22\" class=\"data row16 col22\" >0</td>\n",
              "      <td id=\"T_8ebb3_row16_col23\" class=\"data row16 col23\" >0</td>\n",
              "      <td id=\"T_8ebb3_row16_col24\" class=\"data row16 col24\" >0</td>\n",
              "      <td id=\"T_8ebb3_row16_col25\" class=\"data row16 col25\" >0</td>\n",
              "      <td id=\"T_8ebb3_row16_col26\" class=\"data row16 col26\" >0</td>\n",
              "      <td id=\"T_8ebb3_row16_col27\" class=\"data row16 col27\" >0</td>\n",
              "    </tr>\n",
              "    <tr>\n",
              "      <th id=\"T_8ebb3_level0_row17\" class=\"row_heading level0 row17\" >17</th>\n",
              "      <td id=\"T_8ebb3_row17_col0\" class=\"data row17 col0\" >0</td>\n",
              "      <td id=\"T_8ebb3_row17_col1\" class=\"data row17 col1\" >0</td>\n",
              "      <td id=\"T_8ebb3_row17_col2\" class=\"data row17 col2\" >0</td>\n",
              "      <td id=\"T_8ebb3_row17_col3\" class=\"data row17 col3\" >0</td>\n",
              "      <td id=\"T_8ebb3_row17_col4\" class=\"data row17 col4\" >0</td>\n",
              "      <td id=\"T_8ebb3_row17_col5\" class=\"data row17 col5\" >0</td>\n",
              "      <td id=\"T_8ebb3_row17_col6\" class=\"data row17 col6\" >0</td>\n",
              "      <td id=\"T_8ebb3_row17_col7\" class=\"data row17 col7\" >0</td>\n",
              "      <td id=\"T_8ebb3_row17_col8\" class=\"data row17 col8\" >0</td>\n",
              "      <td id=\"T_8ebb3_row17_col9\" class=\"data row17 col9\" >0</td>\n",
              "      <td id=\"T_8ebb3_row17_col10\" class=\"data row17 col10\" >0</td>\n",
              "      <td id=\"T_8ebb3_row17_col11\" class=\"data row17 col11\" >0</td>\n",
              "      <td id=\"T_8ebb3_row17_col12\" class=\"data row17 col12\" >0</td>\n",
              "      <td id=\"T_8ebb3_row17_col13\" class=\"data row17 col13\" >0</td>\n",
              "      <td id=\"T_8ebb3_row17_col14\" class=\"data row17 col14\" >0</td>\n",
              "      <td id=\"T_8ebb3_row17_col15\" class=\"data row17 col15\" >0</td>\n",
              "      <td id=\"T_8ebb3_row17_col16\" class=\"data row17 col16\" >0</td>\n",
              "      <td id=\"T_8ebb3_row17_col17\" class=\"data row17 col17\" >182</td>\n",
              "      <td id=\"T_8ebb3_row17_col18\" class=\"data row17 col18\" >253</td>\n",
              "      <td id=\"T_8ebb3_row17_col19\" class=\"data row17 col19\" >253</td>\n",
              "      <td id=\"T_8ebb3_row17_col20\" class=\"data row17 col20\" >104</td>\n",
              "      <td id=\"T_8ebb3_row17_col21\" class=\"data row17 col21\" >0</td>\n",
              "      <td id=\"T_8ebb3_row17_col22\" class=\"data row17 col22\" >0</td>\n",
              "      <td id=\"T_8ebb3_row17_col23\" class=\"data row17 col23\" >0</td>\n",
              "      <td id=\"T_8ebb3_row17_col24\" class=\"data row17 col24\" >0</td>\n",
              "      <td id=\"T_8ebb3_row17_col25\" class=\"data row17 col25\" >0</td>\n",
              "      <td id=\"T_8ebb3_row17_col26\" class=\"data row17 col26\" >0</td>\n",
              "      <td id=\"T_8ebb3_row17_col27\" class=\"data row17 col27\" >0</td>\n",
              "    </tr>\n",
              "    <tr>\n",
              "      <th id=\"T_8ebb3_level0_row18\" class=\"row_heading level0 row18\" >18</th>\n",
              "      <td id=\"T_8ebb3_row18_col0\" class=\"data row18 col0\" >0</td>\n",
              "      <td id=\"T_8ebb3_row18_col1\" class=\"data row18 col1\" >0</td>\n",
              "      <td id=\"T_8ebb3_row18_col2\" class=\"data row18 col2\" >0</td>\n",
              "      <td id=\"T_8ebb3_row18_col3\" class=\"data row18 col3\" >0</td>\n",
              "      <td id=\"T_8ebb3_row18_col4\" class=\"data row18 col4\" >0</td>\n",
              "      <td id=\"T_8ebb3_row18_col5\" class=\"data row18 col5\" >0</td>\n",
              "      <td id=\"T_8ebb3_row18_col6\" class=\"data row18 col6\" >0</td>\n",
              "      <td id=\"T_8ebb3_row18_col7\" class=\"data row18 col7\" >0</td>\n",
              "      <td id=\"T_8ebb3_row18_col8\" class=\"data row18 col8\" >0</td>\n",
              "      <td id=\"T_8ebb3_row18_col9\" class=\"data row18 col9\" >0</td>\n",
              "      <td id=\"T_8ebb3_row18_col10\" class=\"data row18 col10\" >0</td>\n",
              "      <td id=\"T_8ebb3_row18_col11\" class=\"data row18 col11\" >0</td>\n",
              "      <td id=\"T_8ebb3_row18_col12\" class=\"data row18 col12\" >0</td>\n",
              "      <td id=\"T_8ebb3_row18_col13\" class=\"data row18 col13\" >0</td>\n",
              "      <td id=\"T_8ebb3_row18_col14\" class=\"data row18 col14\" >0</td>\n",
              "      <td id=\"T_8ebb3_row18_col15\" class=\"data row18 col15\" >0</td>\n",
              "      <td id=\"T_8ebb3_row18_col16\" class=\"data row18 col16\" >85</td>\n",
              "      <td id=\"T_8ebb3_row18_col17\" class=\"data row18 col17\" >249</td>\n",
              "      <td id=\"T_8ebb3_row18_col18\" class=\"data row18 col18\" >253</td>\n",
              "      <td id=\"T_8ebb3_row18_col19\" class=\"data row18 col19\" >253</td>\n",
              "      <td id=\"T_8ebb3_row18_col20\" class=\"data row18 col20\" >36</td>\n",
              "      <td id=\"T_8ebb3_row18_col21\" class=\"data row18 col21\" >0</td>\n",
              "      <td id=\"T_8ebb3_row18_col22\" class=\"data row18 col22\" >0</td>\n",
              "      <td id=\"T_8ebb3_row18_col23\" class=\"data row18 col23\" >0</td>\n",
              "      <td id=\"T_8ebb3_row18_col24\" class=\"data row18 col24\" >0</td>\n",
              "      <td id=\"T_8ebb3_row18_col25\" class=\"data row18 col25\" >0</td>\n",
              "      <td id=\"T_8ebb3_row18_col26\" class=\"data row18 col26\" >0</td>\n",
              "      <td id=\"T_8ebb3_row18_col27\" class=\"data row18 col27\" >0</td>\n",
              "    </tr>\n",
              "    <tr>\n",
              "      <th id=\"T_8ebb3_level0_row19\" class=\"row_heading level0 row19\" >19</th>\n",
              "      <td id=\"T_8ebb3_row19_col0\" class=\"data row19 col0\" >0</td>\n",
              "      <td id=\"T_8ebb3_row19_col1\" class=\"data row19 col1\" >0</td>\n",
              "      <td id=\"T_8ebb3_row19_col2\" class=\"data row19 col2\" >0</td>\n",
              "      <td id=\"T_8ebb3_row19_col3\" class=\"data row19 col3\" >0</td>\n",
              "      <td id=\"T_8ebb3_row19_col4\" class=\"data row19 col4\" >0</td>\n",
              "      <td id=\"T_8ebb3_row19_col5\" class=\"data row19 col5\" >0</td>\n",
              "      <td id=\"T_8ebb3_row19_col6\" class=\"data row19 col6\" >0</td>\n",
              "      <td id=\"T_8ebb3_row19_col7\" class=\"data row19 col7\" >0</td>\n",
              "      <td id=\"T_8ebb3_row19_col8\" class=\"data row19 col8\" >0</td>\n",
              "      <td id=\"T_8ebb3_row19_col9\" class=\"data row19 col9\" >0</td>\n",
              "      <td id=\"T_8ebb3_row19_col10\" class=\"data row19 col10\" >0</td>\n",
              "      <td id=\"T_8ebb3_row19_col11\" class=\"data row19 col11\" >0</td>\n",
              "      <td id=\"T_8ebb3_row19_col12\" class=\"data row19 col12\" >0</td>\n",
              "      <td id=\"T_8ebb3_row19_col13\" class=\"data row19 col13\" >0</td>\n",
              "      <td id=\"T_8ebb3_row19_col14\" class=\"data row19 col14\" >0</td>\n",
              "      <td id=\"T_8ebb3_row19_col15\" class=\"data row19 col15\" >60</td>\n",
              "      <td id=\"T_8ebb3_row19_col16\" class=\"data row19 col16\" >214</td>\n",
              "      <td id=\"T_8ebb3_row19_col17\" class=\"data row19 col17\" >253</td>\n",
              "      <td id=\"T_8ebb3_row19_col18\" class=\"data row19 col18\" >253</td>\n",
              "      <td id=\"T_8ebb3_row19_col19\" class=\"data row19 col19\" >173</td>\n",
              "      <td id=\"T_8ebb3_row19_col20\" class=\"data row19 col20\" >11</td>\n",
              "      <td id=\"T_8ebb3_row19_col21\" class=\"data row19 col21\" >0</td>\n",
              "      <td id=\"T_8ebb3_row19_col22\" class=\"data row19 col22\" >0</td>\n",
              "      <td id=\"T_8ebb3_row19_col23\" class=\"data row19 col23\" >0</td>\n",
              "      <td id=\"T_8ebb3_row19_col24\" class=\"data row19 col24\" >0</td>\n",
              "      <td id=\"T_8ebb3_row19_col25\" class=\"data row19 col25\" >0</td>\n",
              "      <td id=\"T_8ebb3_row19_col26\" class=\"data row19 col26\" >0</td>\n",
              "      <td id=\"T_8ebb3_row19_col27\" class=\"data row19 col27\" >0</td>\n",
              "    </tr>\n",
              "    <tr>\n",
              "      <th id=\"T_8ebb3_level0_row20\" class=\"row_heading level0 row20\" >20</th>\n",
              "      <td id=\"T_8ebb3_row20_col0\" class=\"data row20 col0\" >0</td>\n",
              "      <td id=\"T_8ebb3_row20_col1\" class=\"data row20 col1\" >0</td>\n",
              "      <td id=\"T_8ebb3_row20_col2\" class=\"data row20 col2\" >0</td>\n",
              "      <td id=\"T_8ebb3_row20_col3\" class=\"data row20 col3\" >0</td>\n",
              "      <td id=\"T_8ebb3_row20_col4\" class=\"data row20 col4\" >0</td>\n",
              "      <td id=\"T_8ebb3_row20_col5\" class=\"data row20 col5\" >0</td>\n",
              "      <td id=\"T_8ebb3_row20_col6\" class=\"data row20 col6\" >0</td>\n",
              "      <td id=\"T_8ebb3_row20_col7\" class=\"data row20 col7\" >0</td>\n",
              "      <td id=\"T_8ebb3_row20_col8\" class=\"data row20 col8\" >0</td>\n",
              "      <td id=\"T_8ebb3_row20_col9\" class=\"data row20 col9\" >0</td>\n",
              "      <td id=\"T_8ebb3_row20_col10\" class=\"data row20 col10\" >0</td>\n",
              "      <td id=\"T_8ebb3_row20_col11\" class=\"data row20 col11\" >0</td>\n",
              "      <td id=\"T_8ebb3_row20_col12\" class=\"data row20 col12\" >0</td>\n",
              "      <td id=\"T_8ebb3_row20_col13\" class=\"data row20 col13\" >0</td>\n",
              "      <td id=\"T_8ebb3_row20_col14\" class=\"data row20 col14\" >98</td>\n",
              "      <td id=\"T_8ebb3_row20_col15\" class=\"data row20 col15\" >247</td>\n",
              "      <td id=\"T_8ebb3_row20_col16\" class=\"data row20 col16\" >253</td>\n",
              "      <td id=\"T_8ebb3_row20_col17\" class=\"data row20 col17\" >253</td>\n",
              "      <td id=\"T_8ebb3_row20_col18\" class=\"data row20 col18\" >226</td>\n",
              "      <td id=\"T_8ebb3_row20_col19\" class=\"data row20 col19\" >9</td>\n",
              "      <td id=\"T_8ebb3_row20_col20\" class=\"data row20 col20\" >0</td>\n",
              "      <td id=\"T_8ebb3_row20_col21\" class=\"data row20 col21\" >0</td>\n",
              "      <td id=\"T_8ebb3_row20_col22\" class=\"data row20 col22\" >0</td>\n",
              "      <td id=\"T_8ebb3_row20_col23\" class=\"data row20 col23\" >0</td>\n",
              "      <td id=\"T_8ebb3_row20_col24\" class=\"data row20 col24\" >0</td>\n",
              "      <td id=\"T_8ebb3_row20_col25\" class=\"data row20 col25\" >0</td>\n",
              "      <td id=\"T_8ebb3_row20_col26\" class=\"data row20 col26\" >0</td>\n",
              "      <td id=\"T_8ebb3_row20_col27\" class=\"data row20 col27\" >0</td>\n",
              "    </tr>\n",
              "    <tr>\n",
              "      <th id=\"T_8ebb3_level0_row21\" class=\"row_heading level0 row21\" >21</th>\n",
              "      <td id=\"T_8ebb3_row21_col0\" class=\"data row21 col0\" >0</td>\n",
              "      <td id=\"T_8ebb3_row21_col1\" class=\"data row21 col1\" >0</td>\n",
              "      <td id=\"T_8ebb3_row21_col2\" class=\"data row21 col2\" >0</td>\n",
              "      <td id=\"T_8ebb3_row21_col3\" class=\"data row21 col3\" >0</td>\n",
              "      <td id=\"T_8ebb3_row21_col4\" class=\"data row21 col4\" >0</td>\n",
              "      <td id=\"T_8ebb3_row21_col5\" class=\"data row21 col5\" >0</td>\n",
              "      <td id=\"T_8ebb3_row21_col6\" class=\"data row21 col6\" >0</td>\n",
              "      <td id=\"T_8ebb3_row21_col7\" class=\"data row21 col7\" >0</td>\n",
              "      <td id=\"T_8ebb3_row21_col8\" class=\"data row21 col8\" >0</td>\n",
              "      <td id=\"T_8ebb3_row21_col9\" class=\"data row21 col9\" >0</td>\n",
              "      <td id=\"T_8ebb3_row21_col10\" class=\"data row21 col10\" >0</td>\n",
              "      <td id=\"T_8ebb3_row21_col11\" class=\"data row21 col11\" >0</td>\n",
              "      <td id=\"T_8ebb3_row21_col12\" class=\"data row21 col12\" >42</td>\n",
              "      <td id=\"T_8ebb3_row21_col13\" class=\"data row21 col13\" >150</td>\n",
              "      <td id=\"T_8ebb3_row21_col14\" class=\"data row21 col14\" >252</td>\n",
              "      <td id=\"T_8ebb3_row21_col15\" class=\"data row21 col15\" >253</td>\n",
              "      <td id=\"T_8ebb3_row21_col16\" class=\"data row21 col16\" >253</td>\n",
              "      <td id=\"T_8ebb3_row21_col17\" class=\"data row21 col17\" >233</td>\n",
              "      <td id=\"T_8ebb3_row21_col18\" class=\"data row21 col18\" >53</td>\n",
              "      <td id=\"T_8ebb3_row21_col19\" class=\"data row21 col19\" >0</td>\n",
              "      <td id=\"T_8ebb3_row21_col20\" class=\"data row21 col20\" >0</td>\n",
              "      <td id=\"T_8ebb3_row21_col21\" class=\"data row21 col21\" >0</td>\n",
              "      <td id=\"T_8ebb3_row21_col22\" class=\"data row21 col22\" >0</td>\n",
              "      <td id=\"T_8ebb3_row21_col23\" class=\"data row21 col23\" >0</td>\n",
              "      <td id=\"T_8ebb3_row21_col24\" class=\"data row21 col24\" >0</td>\n",
              "      <td id=\"T_8ebb3_row21_col25\" class=\"data row21 col25\" >0</td>\n",
              "      <td id=\"T_8ebb3_row21_col26\" class=\"data row21 col26\" >0</td>\n",
              "      <td id=\"T_8ebb3_row21_col27\" class=\"data row21 col27\" >0</td>\n",
              "    </tr>\n",
              "    <tr>\n",
              "      <th id=\"T_8ebb3_level0_row22\" class=\"row_heading level0 row22\" >22</th>\n",
              "      <td id=\"T_8ebb3_row22_col0\" class=\"data row22 col0\" >0</td>\n",
              "      <td id=\"T_8ebb3_row22_col1\" class=\"data row22 col1\" >0</td>\n",
              "      <td id=\"T_8ebb3_row22_col2\" class=\"data row22 col2\" >0</td>\n",
              "      <td id=\"T_8ebb3_row22_col3\" class=\"data row22 col3\" >0</td>\n",
              "      <td id=\"T_8ebb3_row22_col4\" class=\"data row22 col4\" >0</td>\n",
              "      <td id=\"T_8ebb3_row22_col5\" class=\"data row22 col5\" >0</td>\n",
              "      <td id=\"T_8ebb3_row22_col6\" class=\"data row22 col6\" >42</td>\n",
              "      <td id=\"T_8ebb3_row22_col7\" class=\"data row22 col7\" >115</td>\n",
              "      <td id=\"T_8ebb3_row22_col8\" class=\"data row22 col8\" >42</td>\n",
              "      <td id=\"T_8ebb3_row22_col9\" class=\"data row22 col9\" >60</td>\n",
              "      <td id=\"T_8ebb3_row22_col10\" class=\"data row22 col10\" >115</td>\n",
              "      <td id=\"T_8ebb3_row22_col11\" class=\"data row22 col11\" >159</td>\n",
              "      <td id=\"T_8ebb3_row22_col12\" class=\"data row22 col12\" >240</td>\n",
              "      <td id=\"T_8ebb3_row22_col13\" class=\"data row22 col13\" >253</td>\n",
              "      <td id=\"T_8ebb3_row22_col14\" class=\"data row22 col14\" >253</td>\n",
              "      <td id=\"T_8ebb3_row22_col15\" class=\"data row22 col15\" >250</td>\n",
              "      <td id=\"T_8ebb3_row22_col16\" class=\"data row22 col16\" >175</td>\n",
              "      <td id=\"T_8ebb3_row22_col17\" class=\"data row22 col17\" >25</td>\n",
              "      <td id=\"T_8ebb3_row22_col18\" class=\"data row22 col18\" >0</td>\n",
              "      <td id=\"T_8ebb3_row22_col19\" class=\"data row22 col19\" >0</td>\n",
              "      <td id=\"T_8ebb3_row22_col20\" class=\"data row22 col20\" >0</td>\n",
              "      <td id=\"T_8ebb3_row22_col21\" class=\"data row22 col21\" >0</td>\n",
              "      <td id=\"T_8ebb3_row22_col22\" class=\"data row22 col22\" >0</td>\n",
              "      <td id=\"T_8ebb3_row22_col23\" class=\"data row22 col23\" >0</td>\n",
              "      <td id=\"T_8ebb3_row22_col24\" class=\"data row22 col24\" >0</td>\n",
              "      <td id=\"T_8ebb3_row22_col25\" class=\"data row22 col25\" >0</td>\n",
              "      <td id=\"T_8ebb3_row22_col26\" class=\"data row22 col26\" >0</td>\n",
              "      <td id=\"T_8ebb3_row22_col27\" class=\"data row22 col27\" >0</td>\n",
              "    </tr>\n",
              "    <tr>\n",
              "      <th id=\"T_8ebb3_level0_row23\" class=\"row_heading level0 row23\" >23</th>\n",
              "      <td id=\"T_8ebb3_row23_col0\" class=\"data row23 col0\" >0</td>\n",
              "      <td id=\"T_8ebb3_row23_col1\" class=\"data row23 col1\" >0</td>\n",
              "      <td id=\"T_8ebb3_row23_col2\" class=\"data row23 col2\" >0</td>\n",
              "      <td id=\"T_8ebb3_row23_col3\" class=\"data row23 col3\" >0</td>\n",
              "      <td id=\"T_8ebb3_row23_col4\" class=\"data row23 col4\" >0</td>\n",
              "      <td id=\"T_8ebb3_row23_col5\" class=\"data row23 col5\" >0</td>\n",
              "      <td id=\"T_8ebb3_row23_col6\" class=\"data row23 col6\" >187</td>\n",
              "      <td id=\"T_8ebb3_row23_col7\" class=\"data row23 col7\" >253</td>\n",
              "      <td id=\"T_8ebb3_row23_col8\" class=\"data row23 col8\" >253</td>\n",
              "      <td id=\"T_8ebb3_row23_col9\" class=\"data row23 col9\" >253</td>\n",
              "      <td id=\"T_8ebb3_row23_col10\" class=\"data row23 col10\" >253</td>\n",
              "      <td id=\"T_8ebb3_row23_col11\" class=\"data row23 col11\" >253</td>\n",
              "      <td id=\"T_8ebb3_row23_col12\" class=\"data row23 col12\" >253</td>\n",
              "      <td id=\"T_8ebb3_row23_col13\" class=\"data row23 col13\" >253</td>\n",
              "      <td id=\"T_8ebb3_row23_col14\" class=\"data row23 col14\" >197</td>\n",
              "      <td id=\"T_8ebb3_row23_col15\" class=\"data row23 col15\" >86</td>\n",
              "      <td id=\"T_8ebb3_row23_col16\" class=\"data row23 col16\" >0</td>\n",
              "      <td id=\"T_8ebb3_row23_col17\" class=\"data row23 col17\" >0</td>\n",
              "      <td id=\"T_8ebb3_row23_col18\" class=\"data row23 col18\" >0</td>\n",
              "      <td id=\"T_8ebb3_row23_col19\" class=\"data row23 col19\" >0</td>\n",
              "      <td id=\"T_8ebb3_row23_col20\" class=\"data row23 col20\" >0</td>\n",
              "      <td id=\"T_8ebb3_row23_col21\" class=\"data row23 col21\" >0</td>\n",
              "      <td id=\"T_8ebb3_row23_col22\" class=\"data row23 col22\" >0</td>\n",
              "      <td id=\"T_8ebb3_row23_col23\" class=\"data row23 col23\" >0</td>\n",
              "      <td id=\"T_8ebb3_row23_col24\" class=\"data row23 col24\" >0</td>\n",
              "      <td id=\"T_8ebb3_row23_col25\" class=\"data row23 col25\" >0</td>\n",
              "      <td id=\"T_8ebb3_row23_col26\" class=\"data row23 col26\" >0</td>\n",
              "      <td id=\"T_8ebb3_row23_col27\" class=\"data row23 col27\" >0</td>\n",
              "    </tr>\n",
              "    <tr>\n",
              "      <th id=\"T_8ebb3_level0_row24\" class=\"row_heading level0 row24\" >24</th>\n",
              "      <td id=\"T_8ebb3_row24_col0\" class=\"data row24 col0\" >0</td>\n",
              "      <td id=\"T_8ebb3_row24_col1\" class=\"data row24 col1\" >0</td>\n",
              "      <td id=\"T_8ebb3_row24_col2\" class=\"data row24 col2\" >0</td>\n",
              "      <td id=\"T_8ebb3_row24_col3\" class=\"data row24 col3\" >0</td>\n",
              "      <td id=\"T_8ebb3_row24_col4\" class=\"data row24 col4\" >0</td>\n",
              "      <td id=\"T_8ebb3_row24_col5\" class=\"data row24 col5\" >0</td>\n",
              "      <td id=\"T_8ebb3_row24_col6\" class=\"data row24 col6\" >103</td>\n",
              "      <td id=\"T_8ebb3_row24_col7\" class=\"data row24 col7\" >253</td>\n",
              "      <td id=\"T_8ebb3_row24_col8\" class=\"data row24 col8\" >253</td>\n",
              "      <td id=\"T_8ebb3_row24_col9\" class=\"data row24 col9\" >253</td>\n",
              "      <td id=\"T_8ebb3_row24_col10\" class=\"data row24 col10\" >253</td>\n",
              "      <td id=\"T_8ebb3_row24_col11\" class=\"data row24 col11\" >253</td>\n",
              "      <td id=\"T_8ebb3_row24_col12\" class=\"data row24 col12\" >232</td>\n",
              "      <td id=\"T_8ebb3_row24_col13\" class=\"data row24 col13\" >67</td>\n",
              "      <td id=\"T_8ebb3_row24_col14\" class=\"data row24 col14\" >1</td>\n",
              "      <td id=\"T_8ebb3_row24_col15\" class=\"data row24 col15\" >0</td>\n",
              "      <td id=\"T_8ebb3_row24_col16\" class=\"data row24 col16\" >0</td>\n",
              "      <td id=\"T_8ebb3_row24_col17\" class=\"data row24 col17\" >0</td>\n",
              "      <td id=\"T_8ebb3_row24_col18\" class=\"data row24 col18\" >0</td>\n",
              "      <td id=\"T_8ebb3_row24_col19\" class=\"data row24 col19\" >0</td>\n",
              "      <td id=\"T_8ebb3_row24_col20\" class=\"data row24 col20\" >0</td>\n",
              "      <td id=\"T_8ebb3_row24_col21\" class=\"data row24 col21\" >0</td>\n",
              "      <td id=\"T_8ebb3_row24_col22\" class=\"data row24 col22\" >0</td>\n",
              "      <td id=\"T_8ebb3_row24_col23\" class=\"data row24 col23\" >0</td>\n",
              "      <td id=\"T_8ebb3_row24_col24\" class=\"data row24 col24\" >0</td>\n",
              "      <td id=\"T_8ebb3_row24_col25\" class=\"data row24 col25\" >0</td>\n",
              "      <td id=\"T_8ebb3_row24_col26\" class=\"data row24 col26\" >0</td>\n",
              "      <td id=\"T_8ebb3_row24_col27\" class=\"data row24 col27\" >0</td>\n",
              "    </tr>\n",
              "    <tr>\n",
              "      <th id=\"T_8ebb3_level0_row25\" class=\"row_heading level0 row25\" >25</th>\n",
              "      <td id=\"T_8ebb3_row25_col0\" class=\"data row25 col0\" >0</td>\n",
              "      <td id=\"T_8ebb3_row25_col1\" class=\"data row25 col1\" >0</td>\n",
              "      <td id=\"T_8ebb3_row25_col2\" class=\"data row25 col2\" >0</td>\n",
              "      <td id=\"T_8ebb3_row25_col3\" class=\"data row25 col3\" >0</td>\n",
              "      <td id=\"T_8ebb3_row25_col4\" class=\"data row25 col4\" >0</td>\n",
              "      <td id=\"T_8ebb3_row25_col5\" class=\"data row25 col5\" >0</td>\n",
              "      <td id=\"T_8ebb3_row25_col6\" class=\"data row25 col6\" >0</td>\n",
              "      <td id=\"T_8ebb3_row25_col7\" class=\"data row25 col7\" >0</td>\n",
              "      <td id=\"T_8ebb3_row25_col8\" class=\"data row25 col8\" >0</td>\n",
              "      <td id=\"T_8ebb3_row25_col9\" class=\"data row25 col9\" >0</td>\n",
              "      <td id=\"T_8ebb3_row25_col10\" class=\"data row25 col10\" >0</td>\n",
              "      <td id=\"T_8ebb3_row25_col11\" class=\"data row25 col11\" >0</td>\n",
              "      <td id=\"T_8ebb3_row25_col12\" class=\"data row25 col12\" >0</td>\n",
              "      <td id=\"T_8ebb3_row25_col13\" class=\"data row25 col13\" >0</td>\n",
              "      <td id=\"T_8ebb3_row25_col14\" class=\"data row25 col14\" >0</td>\n",
              "      <td id=\"T_8ebb3_row25_col15\" class=\"data row25 col15\" >0</td>\n",
              "      <td id=\"T_8ebb3_row25_col16\" class=\"data row25 col16\" >0</td>\n",
              "      <td id=\"T_8ebb3_row25_col17\" class=\"data row25 col17\" >0</td>\n",
              "      <td id=\"T_8ebb3_row25_col18\" class=\"data row25 col18\" >0</td>\n",
              "      <td id=\"T_8ebb3_row25_col19\" class=\"data row25 col19\" >0</td>\n",
              "      <td id=\"T_8ebb3_row25_col20\" class=\"data row25 col20\" >0</td>\n",
              "      <td id=\"T_8ebb3_row25_col21\" class=\"data row25 col21\" >0</td>\n",
              "      <td id=\"T_8ebb3_row25_col22\" class=\"data row25 col22\" >0</td>\n",
              "      <td id=\"T_8ebb3_row25_col23\" class=\"data row25 col23\" >0</td>\n",
              "      <td id=\"T_8ebb3_row25_col24\" class=\"data row25 col24\" >0</td>\n",
              "      <td id=\"T_8ebb3_row25_col25\" class=\"data row25 col25\" >0</td>\n",
              "      <td id=\"T_8ebb3_row25_col26\" class=\"data row25 col26\" >0</td>\n",
              "      <td id=\"T_8ebb3_row25_col27\" class=\"data row25 col27\" >0</td>\n",
              "    </tr>\n",
              "    <tr>\n",
              "      <th id=\"T_8ebb3_level0_row26\" class=\"row_heading level0 row26\" >26</th>\n",
              "      <td id=\"T_8ebb3_row26_col0\" class=\"data row26 col0\" >0</td>\n",
              "      <td id=\"T_8ebb3_row26_col1\" class=\"data row26 col1\" >0</td>\n",
              "      <td id=\"T_8ebb3_row26_col2\" class=\"data row26 col2\" >0</td>\n",
              "      <td id=\"T_8ebb3_row26_col3\" class=\"data row26 col3\" >0</td>\n",
              "      <td id=\"T_8ebb3_row26_col4\" class=\"data row26 col4\" >0</td>\n",
              "      <td id=\"T_8ebb3_row26_col5\" class=\"data row26 col5\" >0</td>\n",
              "      <td id=\"T_8ebb3_row26_col6\" class=\"data row26 col6\" >0</td>\n",
              "      <td id=\"T_8ebb3_row26_col7\" class=\"data row26 col7\" >0</td>\n",
              "      <td id=\"T_8ebb3_row26_col8\" class=\"data row26 col8\" >0</td>\n",
              "      <td id=\"T_8ebb3_row26_col9\" class=\"data row26 col9\" >0</td>\n",
              "      <td id=\"T_8ebb3_row26_col10\" class=\"data row26 col10\" >0</td>\n",
              "      <td id=\"T_8ebb3_row26_col11\" class=\"data row26 col11\" >0</td>\n",
              "      <td id=\"T_8ebb3_row26_col12\" class=\"data row26 col12\" >0</td>\n",
              "      <td id=\"T_8ebb3_row26_col13\" class=\"data row26 col13\" >0</td>\n",
              "      <td id=\"T_8ebb3_row26_col14\" class=\"data row26 col14\" >0</td>\n",
              "      <td id=\"T_8ebb3_row26_col15\" class=\"data row26 col15\" >0</td>\n",
              "      <td id=\"T_8ebb3_row26_col16\" class=\"data row26 col16\" >0</td>\n",
              "      <td id=\"T_8ebb3_row26_col17\" class=\"data row26 col17\" >0</td>\n",
              "      <td id=\"T_8ebb3_row26_col18\" class=\"data row26 col18\" >0</td>\n",
              "      <td id=\"T_8ebb3_row26_col19\" class=\"data row26 col19\" >0</td>\n",
              "      <td id=\"T_8ebb3_row26_col20\" class=\"data row26 col20\" >0</td>\n",
              "      <td id=\"T_8ebb3_row26_col21\" class=\"data row26 col21\" >0</td>\n",
              "      <td id=\"T_8ebb3_row26_col22\" class=\"data row26 col22\" >0</td>\n",
              "      <td id=\"T_8ebb3_row26_col23\" class=\"data row26 col23\" >0</td>\n",
              "      <td id=\"T_8ebb3_row26_col24\" class=\"data row26 col24\" >0</td>\n",
              "      <td id=\"T_8ebb3_row26_col25\" class=\"data row26 col25\" >0</td>\n",
              "      <td id=\"T_8ebb3_row26_col26\" class=\"data row26 col26\" >0</td>\n",
              "      <td id=\"T_8ebb3_row26_col27\" class=\"data row26 col27\" >0</td>\n",
              "    </tr>\n",
              "    <tr>\n",
              "      <th id=\"T_8ebb3_level0_row27\" class=\"row_heading level0 row27\" >27</th>\n",
              "      <td id=\"T_8ebb3_row27_col0\" class=\"data row27 col0\" >0</td>\n",
              "      <td id=\"T_8ebb3_row27_col1\" class=\"data row27 col1\" >0</td>\n",
              "      <td id=\"T_8ebb3_row27_col2\" class=\"data row27 col2\" >0</td>\n",
              "      <td id=\"T_8ebb3_row27_col3\" class=\"data row27 col3\" >0</td>\n",
              "      <td id=\"T_8ebb3_row27_col4\" class=\"data row27 col4\" >0</td>\n",
              "      <td id=\"T_8ebb3_row27_col5\" class=\"data row27 col5\" >0</td>\n",
              "      <td id=\"T_8ebb3_row27_col6\" class=\"data row27 col6\" >0</td>\n",
              "      <td id=\"T_8ebb3_row27_col7\" class=\"data row27 col7\" >0</td>\n",
              "      <td id=\"T_8ebb3_row27_col8\" class=\"data row27 col8\" >0</td>\n",
              "      <td id=\"T_8ebb3_row27_col9\" class=\"data row27 col9\" >0</td>\n",
              "      <td id=\"T_8ebb3_row27_col10\" class=\"data row27 col10\" >0</td>\n",
              "      <td id=\"T_8ebb3_row27_col11\" class=\"data row27 col11\" >0</td>\n",
              "      <td id=\"T_8ebb3_row27_col12\" class=\"data row27 col12\" >0</td>\n",
              "      <td id=\"T_8ebb3_row27_col13\" class=\"data row27 col13\" >0</td>\n",
              "      <td id=\"T_8ebb3_row27_col14\" class=\"data row27 col14\" >0</td>\n",
              "      <td id=\"T_8ebb3_row27_col15\" class=\"data row27 col15\" >0</td>\n",
              "      <td id=\"T_8ebb3_row27_col16\" class=\"data row27 col16\" >0</td>\n",
              "      <td id=\"T_8ebb3_row27_col17\" class=\"data row27 col17\" >0</td>\n",
              "      <td id=\"T_8ebb3_row27_col18\" class=\"data row27 col18\" >0</td>\n",
              "      <td id=\"T_8ebb3_row27_col19\" class=\"data row27 col19\" >0</td>\n",
              "      <td id=\"T_8ebb3_row27_col20\" class=\"data row27 col20\" >0</td>\n",
              "      <td id=\"T_8ebb3_row27_col21\" class=\"data row27 col21\" >0</td>\n",
              "      <td id=\"T_8ebb3_row27_col22\" class=\"data row27 col22\" >0</td>\n",
              "      <td id=\"T_8ebb3_row27_col23\" class=\"data row27 col23\" >0</td>\n",
              "      <td id=\"T_8ebb3_row27_col24\" class=\"data row27 col24\" >0</td>\n",
              "      <td id=\"T_8ebb3_row27_col25\" class=\"data row27 col25\" >0</td>\n",
              "      <td id=\"T_8ebb3_row27_col26\" class=\"data row27 col26\" >0</td>\n",
              "      <td id=\"T_8ebb3_row27_col27\" class=\"data row27 col27\" >0</td>\n",
              "    </tr>\n",
              "  </tbody>\n",
              "</table>\n"
            ]
          },
          "metadata": {},
          "execution_count": 178
        }
      ],
      "source": [
        "#Image visual\n",
        "im3_t = tensor(im3)\n",
        "df = pd.DataFrame(im3_t)\n",
        "df.style.set_properties(**{'font-size':'6pt'}).background_gradient('Greys')"
      ]
    },
    {
      "cell_type": "markdown",
      "source": [
        "The section of the image used is the 4th to 15th rows and the 4th to 22nd columns. The dataframe is then styled with a font size of 6 points and a background gradient of greys.\n"
      ],
      "metadata": {
        "id": "xyrzts_hj2Hs"
      }
    },
    {
      "cell_type": "markdown",
      "metadata": {
        "id": "D-ajNFLk3WeF"
      },
      "source": [
        "<img width=\"453\" id=\"output_pd_pixels\" src=\"images/att_00058.png\">"
      ]
    },
    {
      "cell_type": "code",
      "execution_count": 179,
      "metadata": {
        "colab": {
          "base_uri": "https://localhost:8080/"
        },
        "id": "nH4mgI8o3WeG",
        "outputId": "5c37c850-35d2-4474-d9da-f0cef842168e"
      },
      "outputs": [
        {
          "output_type": "execute_result",
          "data": {
            "text/plain": [
              "(6131, 6265)"
            ]
          },
          "metadata": {},
          "execution_count": 179
        }
      ],
      "source": [
        "seven_tensors = [tensor(Image.open(o)) for o in sevens]\n",
        "three_tensors = [tensor(Image.open(o)) for o in threes]\n",
        "len(three_tensors),len(seven_tensors)"
      ]
    },
    {
      "cell_type": "markdown",
      "source": [
        "Next, the code creates tensors (i.e. multi-dimensional arrays) for each of the images in the \"3\" and \"7\" lists using the tensor(Image.open(o)) command. It also calculates the mean image for each class (i.e. \"3\" and \"7\") by averaging the tensors in the corresponding list using the .mean(0) command.\n"
      ],
      "metadata": {
        "id": "RcPygxLNSaI-"
      }
    },
    {
      "cell_type": "code",
      "execution_count": 180,
      "metadata": {
        "colab": {
          "base_uri": "https://localhost:8080/",
          "height": 85
        },
        "id": "6QjAWt8-3WeG",
        "outputId": "09871c11-d15f-4d1e-df91-14972de5d768"
      },
      "outputs": [
        {
          "output_type": "display_data",
          "data": {
            "text/plain": [
              "<Figure size 72x72 with 1 Axes>"
            ],
            "image/png": "[encoded data removed]"
          },
          "metadata": {
            "needs_background": "light"
          }
        }
      ],
      "source": [
        "show_image(three_tensors[1]);"
      ]
    },
    {
      "cell_type": "code",
      "execution_count": 181,
      "metadata": {
        "colab": {
          "base_uri": "https://localhost:8080/"
        },
        "id": "fONTVFvC3WeH",
        "outputId": "8734c308-a4e1-49e1-978d-253a11767c40"
      },
      "outputs": [
        {
          "output_type": "execute_result",
          "data": {
            "text/plain": [
              "torch.Size([6131, 28, 28])"
            ]
          },
          "metadata": {},
          "execution_count": 181
        }
      ],
      "source": [
        "stacked_sevens = torch.stack(seven_tensors).float()/255\n",
        "stacked_threes = torch.stack(three_tensors).float()/255\n",
        "stacked_threes.shape"
      ]
    },
    {
      "cell_type": "markdown",
      "source": [
        "This is to stack and normalize two groups of tensors, \"seven_tensors\" and \"three_tensors.\"\n",
        "\n",
        "First, the \"seven_tensors\" are stacked using the \"torch.stack()\" function, and then they are converted to float data type using the \".float()\" method. Finally, the data is divided by 255, which is a common way to normalize image data.\n",
        "\n",
        "The same process is then repeated for the \"three_tensors.\"\n",
        "\n",
        "Finally, the shape of the \"stacked_threes\" tensor is checked using the \".shape\" attribute. This will return the dimensions of the tensor, such as (number of tensors stacked, height, width, number of channels)."
      ],
      "metadata": {
        "id": "eVMSPR27kJs7"
      }
    },
    {
      "cell_type": "code",
      "execution_count": 182,
      "metadata": {
        "colab": {
          "base_uri": "https://localhost:8080/"
        },
        "id": "R2rw6y863WeI",
        "outputId": "46787029-6ae1-4239-a142-9da66f1080df"
      },
      "outputs": [
        {
          "output_type": "execute_result",
          "data": {
            "text/plain": [
              "3"
            ]
          },
          "metadata": {},
          "execution_count": 182
        }
      ],
      "source": [
        "len(stacked_threes.shape)"
      ]
    },
    {
      "cell_type": "code",
      "execution_count": 183,
      "metadata": {
        "colab": {
          "base_uri": "https://localhost:8080/"
        },
        "id": "4hV9ZdLx3WeI",
        "outputId": "0c7038fc-815e-4646-d6b1-f1039ec58623"
      },
      "outputs": [
        {
          "output_type": "execute_result",
          "data": {
            "text/plain": [
              "3"
            ]
          },
          "metadata": {},
          "execution_count": 183
        }
      ],
      "source": [
        "stacked_threes.ndim"
      ]
    },
    {
      "cell_type": "code",
      "execution_count": 184,
      "metadata": {
        "colab": {
          "base_uri": "https://localhost:8080/",
          "height": 85
        },
        "id": "ScAO5ix83WeI",
        "outputId": "6482d745-bd46-4b85-c6d1-3379ef36e745"
      },
      "outputs": [
        {
          "output_type": "display_data",
          "data": {
            "text/plain": [
              "<Figure size 72x72 with 1 Axes>"
            ],
            "image/png": "[encoded data removed]"
          },
          "metadata": {
            "needs_background": "light"
          }
        }
      ],
      "source": [
        "mean3 = stacked_threes.mean(0)\n",
        "show_image(mean3);"
      ]
    },
    {
      "cell_type": "markdown",
      "source": [
        "The code is calculating the mean (average) of all the images in the \"stacked_threes\" variable and storing it in a new variable called \"mean3\". It then uses the \"show_image\" function to display the \"mean3\" image.\n",
        "\n",
        "The reason the image is blurry is because the mean image is created by taking the average of all the images in \"stacked_threes\". When you take the average of multiple images, you lose some of the details from each individual image. This results in a blurrier image, as the final image is a combination of all the images in \"stacked_threes\"."
      ],
      "metadata": {
        "id": "3DE5CLtQkroN"
      }
    },
    {
      "cell_type": "code",
      "execution_count": 185,
      "metadata": {
        "colab": {
          "base_uri": "https://localhost:8080/",
          "height": 85
        },
        "id": "N1AKuL3C3WeJ",
        "outputId": "41028877-b1d4-4751-f3ca-18bade550eda"
      },
      "outputs": [
        {
          "output_type": "display_data",
          "data": {
            "text/plain": [
              "<Figure size 72x72 with 1 Axes>"
            ],
            "image/png": "[encoded data removed]"
          },
          "metadata": {
            "needs_background": "light"
          }
        }
      ],
      "source": [
        "mean7 = stacked_sevens.mean(0)\n",
        "show_image(mean7);"
      ]
    },
    {
      "cell_type": "code",
      "execution_count": 186,
      "metadata": {
        "colab": {
          "base_uri": "https://localhost:8080/",
          "height": 85
        },
        "id": "re8ZL_6Z3WeJ",
        "outputId": "ad204ba2-4378-4bd3-8068-5f1340883403"
      },
      "outputs": [
        {
          "output_type": "display_data",
          "data": {
            "text/plain": [
              "<Figure size 72x72 with 1 Axes>"
            ],
            "image/png": "[encoded data removed]"
          },
          "metadata": {
            "needs_background": "light"
          }
        }
      ],
      "source": [
        "a_3 = stacked_threes[1]\n",
        "show_image(a_3);"
      ]
    },
    {
      "cell_type": "code",
      "execution_count": 187,
      "metadata": {
        "colab": {
          "base_uri": "https://localhost:8080/"
        },
        "id": "LfZFYZAk3WeK",
        "outputId": "709102fb-a223-43f4-c159-2ca5f87e900b"
      },
      "outputs": [
        {
          "output_type": "execute_result",
          "data": {
            "text/plain": [
              "(tensor(0.1114), tensor(0.2021))"
            ]
          },
          "metadata": {},
          "execution_count": 187
        }
      ],
      "source": [
        "dist_3_abs = (a_3 - mean3).abs().mean()\n",
        "dist_3_sqr = ((a_3 - mean3)**2).mean().sqrt()\n",
        "dist_3_abs,dist_3_sqr"
      ]
    },
    {
      "cell_type": "code",
      "execution_count": 188,
      "metadata": {
        "colab": {
          "base_uri": "https://localhost:8080/"
        },
        "id": "XKb181c_3WeK",
        "outputId": "4883a7b1-7e5c-4729-8fb5-01ec16e93df7"
      },
      "outputs": [
        {
          "output_type": "execute_result",
          "data": {
            "text/plain": [
              "(tensor(0.1586), tensor(0.3021))"
            ]
          },
          "metadata": {},
          "execution_count": 188
        }
      ],
      "source": [
        "dist_7_abs = (a_3 - mean7).abs().mean()\n",
        "dist_7_sqr = ((a_3 - mean7)**2).mean().sqrt()\n",
        "dist_7_abs,dist_7_sqr"
      ]
    },
    {
      "cell_type": "code",
      "execution_count": 189,
      "metadata": {
        "colab": {
          "base_uri": "https://localhost:8080/"
        },
        "id": "qd12nZ623WeL",
        "outputId": "5ee88d7e-605f-4b50-c2da-367f92e97d59"
      },
      "outputs": [
        {
          "output_type": "execute_result",
          "data": {
            "text/plain": [
              "(tensor(0.1586), tensor(0.3021))"
            ]
          },
          "metadata": {},
          "execution_count": 189
        }
      ],
      "source": [
        "F.l1_loss(a_3.float(),mean7), F.mse_loss(a_3,mean7).sqrt()"
      ]
    },
    {
      "cell_type": "markdown",
      "source": [
        "The code then calculates the distance between a single \"3\" image (a_3) and the mean \"3\" and \"7\" images using the (a_3 - mean3).abs().mean() and ((a_3 - mean3)**2).mean().sqrt() commands. It also uses the F.l1_loss(a_3.float(),mean7) and F.mse_loss(a_3,mean7).sqrt() commands to calculate the L1 loss and mean squared error between a_3 and the mean \"7\" image.\n"
      ],
      "metadata": {
        "id": "-i16KjrvS_hI"
      }
    },
    {
      "cell_type": "code",
      "execution_count": 190,
      "metadata": {
        "id": "V-fkD7UF3WeN"
      },
      "outputs": [],
      "source": [
        "data = [[1,2,3],[4,5,6]]\n",
        "arr = array (data)\n",
        "tns = tensor(data)"
      ]
    },
    {
      "cell_type": "code",
      "execution_count": 191,
      "metadata": {
        "colab": {
          "base_uri": "https://localhost:8080/"
        },
        "id": "-U0VcgrL3WeN",
        "outputId": "58888ba5-f511-4051-c18b-215cd1360c62"
      },
      "outputs": [
        {
          "output_type": "execute_result",
          "data": {
            "text/plain": [
              "array([[1, 2, 3],\n",
              "       [4, 5, 6]])"
            ]
          },
          "metadata": {},
          "execution_count": 191
        }
      ],
      "source": [
        "arr  # numpy"
      ]
    },
    {
      "cell_type": "code",
      "execution_count": 192,
      "metadata": {
        "colab": {
          "base_uri": "https://localhost:8080/"
        },
        "id": "eGqcEnDV3WeN",
        "outputId": "dd8f1882-a91a-4ee2-b5b4-3c0c0cc48ebd"
      },
      "outputs": [
        {
          "output_type": "execute_result",
          "data": {
            "text/plain": [
              "tensor([[1, 2, 3],\n",
              "        [4, 5, 6]])"
            ]
          },
          "metadata": {},
          "execution_count": 192
        }
      ],
      "source": [
        "tns  # pytorch"
      ]
    },
    {
      "cell_type": "code",
      "execution_count": 193,
      "metadata": {
        "colab": {
          "base_uri": "https://localhost:8080/"
        },
        "id": "AInVnzMQ3WeN",
        "outputId": "ca1b4243-be89-4511-a8ba-eb2e7a0deaaa"
      },
      "outputs": [
        {
          "output_type": "execute_result",
          "data": {
            "text/plain": [
              "tensor([4, 5, 6])"
            ]
          },
          "metadata": {},
          "execution_count": 193
        }
      ],
      "source": [
        "tns[1]"
      ]
    },
    {
      "cell_type": "code",
      "execution_count": 194,
      "metadata": {
        "colab": {
          "base_uri": "https://localhost:8080/"
        },
        "id": "3tEGKwZN3WeN",
        "outputId": "8310b3fc-1c4b-46a7-aa9c-e2380a2ea26b"
      },
      "outputs": [
        {
          "output_type": "execute_result",
          "data": {
            "text/plain": [
              "tensor([2, 5])"
            ]
          },
          "metadata": {},
          "execution_count": 194
        }
      ],
      "source": [
        "tns[:,1]"
      ]
    },
    {
      "cell_type": "code",
      "execution_count": 195,
      "metadata": {
        "colab": {
          "base_uri": "https://localhost:8080/"
        },
        "id": "3RAsZxcM3WeO",
        "outputId": "996637cf-8c33-421d-d540-90e9fe404f09"
      },
      "outputs": [
        {
          "output_type": "execute_result",
          "data": {
            "text/plain": [
              "tensor([5, 6])"
            ]
          },
          "metadata": {},
          "execution_count": 195
        }
      ],
      "source": [
        "tns[1,1:3]"
      ]
    },
    {
      "cell_type": "code",
      "execution_count": 196,
      "metadata": {
        "colab": {
          "base_uri": "https://localhost:8080/"
        },
        "id": "lsCN-wEx3WeO",
        "outputId": "31e1621a-cab1-4de0-9a87-d6fed41ff710"
      },
      "outputs": [
        {
          "output_type": "execute_result",
          "data": {
            "text/plain": [
              "tensor([[2, 3, 4],\n",
              "        [5, 6, 7]])"
            ]
          },
          "metadata": {},
          "execution_count": 196
        }
      ],
      "source": [
        "tns+1"
      ]
    },
    {
      "cell_type": "code",
      "execution_count": 197,
      "metadata": {
        "colab": {
          "base_uri": "https://localhost:8080/",
          "height": 35
        },
        "id": "7tjGgebB3WeP",
        "outputId": "68061b67-c29c-4310-8ebb-579c3d71e283"
      },
      "outputs": [
        {
          "output_type": "execute_result",
          "data": {
            "text/plain": [
              "'torch.LongTensor'"
            ],
            "application/vnd.google.colaboratory.intrinsic+json": {
              "type": "string"
            }
          },
          "metadata": {},
          "execution_count": 197
        }
      ],
      "source": [
        "tns.type()"
      ]
    },
    {
      "cell_type": "code",
      "execution_count": 198,
      "metadata": {
        "colab": {
          "base_uri": "https://localhost:8080/"
        },
        "id": "yhg7f7pc3WeP",
        "outputId": "eebaab26-8bea-4dba-88ec-9cbe43664cd7"
      },
      "outputs": [
        {
          "output_type": "execute_result",
          "data": {
            "text/plain": [
              "tensor([[1.5000, 3.0000, 4.5000],\n",
              "        [6.0000, 7.5000, 9.0000]])"
            ]
          },
          "metadata": {},
          "execution_count": 198
        }
      ],
      "source": [
        "tns*1.5"
      ]
    },
    {
      "cell_type": "code",
      "execution_count": 199,
      "metadata": {
        "colab": {
          "base_uri": "https://localhost:8080/"
        },
        "id": "Ns3FTzVa3WeP",
        "outputId": "0505d434-60d2-427f-b414-b8194bd4be48"
      },
      "outputs": [
        {
          "output_type": "execute_result",
          "data": {
            "text/plain": [
              "(torch.Size([1010, 28, 28]), torch.Size([1028, 28, 28]))"
            ]
          },
          "metadata": {},
          "execution_count": 199
        }
      ],
      "source": [
        "valid_3_tens = torch.stack([tensor(Image.open(o)) \n",
        "                            for o in (path/'valid'/'3').ls()])\n",
        "valid_3_tens = valid_3_tens.float()/255\n",
        "valid_7_tens = torch.stack([tensor(Image.open(o)) \n",
        "                            for o in (path/'valid'/'7').ls()])\n",
        "valid_7_tens = valid_7_tens.float()/255\n",
        "valid_3_tens.shape,valid_7_tens.shape"
      ]
    },
    {
      "cell_type": "markdown",
      "source": [
        "The code uses the \"ls()\" function to list all the images in the corresponding subfolders, and then uses a for loop to open each image and add it to the tensor. The tensor is then stacked using the torch.stack function. This function concatenates the sequence of tensors along a new dimension (the first dimension by default).\n",
        "\n",
        "After the tensors are created, the code normalizes the data by dividing each value by 255, which is the maximum value for a pixel in an image. Finally, the code displays the shape of the tensors for the 3's and 7's to confirm that the tensors have been created correctly."
      ],
      "metadata": {
        "id": "9j0YBbVZlWgS"
      }
    },
    {
      "cell_type": "code",
      "execution_count": 200,
      "metadata": {
        "colab": {
          "base_uri": "https://localhost:8080/"
        },
        "id": "ihN2F5PK3WeQ",
        "outputId": "a4fd12a0-1d9a-4d25-fef0-cdabd88cfbfa"
      },
      "outputs": [
        {
          "output_type": "execute_result",
          "data": {
            "text/plain": [
              "tensor(0.1114)"
            ]
          },
          "metadata": {},
          "execution_count": 200
        }
      ],
      "source": [
        "def mnist_distance(a,b): return (a-b).abs().mean((-1,-2))\n",
        "mnist_distance(a_3, mean3)"
      ]
    },
    {
      "cell_type": "code",
      "execution_count": 201,
      "metadata": {
        "colab": {
          "base_uri": "https://localhost:8080/"
        },
        "id": "9f75YU-e3WeQ",
        "outputId": "522fb7cc-dacf-4abe-f217-280d67e24791"
      },
      "outputs": [
        {
          "output_type": "execute_result",
          "data": {
            "text/plain": [
              "(tensor([0.1318, 0.1750, 0.1230,  ..., 0.1304, 0.1173, 0.1099]),\n",
              " torch.Size([1010]))"
            ]
          },
          "metadata": {},
          "execution_count": 201
        }
      ],
      "source": [
        "valid_3_dist = mnist_distance(valid_3_tens, mean3)\n",
        "valid_3_dist, valid_3_dist.shape"
      ]
    },
    {
      "cell_type": "code",
      "execution_count": 202,
      "metadata": {
        "colab": {
          "base_uri": "https://localhost:8080/"
        },
        "id": "jIiaiJhn3WeQ",
        "outputId": "32423e02-9243-4165-bda3-480959abb3bd"
      },
      "outputs": [
        {
          "output_type": "execute_result",
          "data": {
            "text/plain": [
              "tensor([2, 3, 4])"
            ]
          },
          "metadata": {},
          "execution_count": 202
        }
      ],
      "source": [
        "tensor([1,2,3]) + tensor(1)"
      ]
    },
    {
      "cell_type": "code",
      "execution_count": 203,
      "metadata": {
        "colab": {
          "base_uri": "https://localhost:8080/"
        },
        "id": "wxm1gyS23WeR",
        "outputId": "c2d63174-87f7-4d86-b4cf-3c0b3b642698"
      },
      "outputs": [
        {
          "output_type": "execute_result",
          "data": {
            "text/plain": [
              "torch.Size([1010, 28, 28])"
            ]
          },
          "metadata": {},
          "execution_count": 203
        }
      ],
      "source": [
        "(valid_3_tens-mean3).shape"
      ]
    },
    {
      "cell_type": "code",
      "execution_count": 204,
      "metadata": {
        "id": "VRQBMMmt3WeR"
      },
      "outputs": [],
      "source": [
        "def is_3(x): return mnist_distance(x,mean3) < mnist_distance(x,mean7)"
      ]
    },
    {
      "cell_type": "code",
      "execution_count": 205,
      "metadata": {
        "colab": {
          "base_uri": "https://localhost:8080/"
        },
        "id": "KbWDEp3h3WeS",
        "outputId": "a9432172-e25a-4b39-8f8a-a682289730c2"
      },
      "outputs": [
        {
          "output_type": "execute_result",
          "data": {
            "text/plain": [
              "(tensor(True), tensor(1.))"
            ]
          },
          "metadata": {},
          "execution_count": 205
        }
      ],
      "source": [
        "is_3(a_3), is_3(a_3).float()"
      ]
    },
    {
      "cell_type": "code",
      "execution_count": 206,
      "metadata": {
        "colab": {
          "base_uri": "https://localhost:8080/"
        },
        "id": "YAYrunpQ3WeS",
        "outputId": "08727595-0ac8-4ee0-e711-9976288837c1"
      },
      "outputs": [
        {
          "output_type": "execute_result",
          "data": {
            "text/plain": [
              "tensor([ True, False,  True,  ..., False,  True,  True])"
            ]
          },
          "metadata": {},
          "execution_count": 206
        }
      ],
      "source": [
        "is_3(valid_3_tens)"
      ]
    },
    {
      "cell_type": "markdown",
      "source": [
        "The code then defines a function mnist_distance(a,b) that calculates the average absolute difference between two images, and uses it to calculate the distance between the \"3\" images in the \"valid\" set and the mean \"3\" image. It also defines a function is_3(x) that compares the distance between an image and the mean \"3\" image to the distance between that image and the mean \"7\" image, and returns whether the image is more likely to be a \"3\" or a \"7\".\n"
      ],
      "metadata": {
        "id": "Q_iqE-5OTJUN"
      }
    },
    {
      "cell_type": "markdown",
      "metadata": {
        "id": "Us7ajtIS3WeS"
      },
      "source": [
        "Now we can calculate the accuracy for each of the 3s and 7s by taking the average of that function for all 3s and its inverse for all 7s:"
      ]
    },
    {
      "cell_type": "code",
      "execution_count": 207,
      "metadata": {
        "colab": {
          "base_uri": "https://localhost:8080/"
        },
        "id": "N5lYJPCu3WeS",
        "outputId": "004fcef6-e242-4caf-bdb3-34202f5af882"
      },
      "outputs": [
        {
          "output_type": "execute_result",
          "data": {
            "text/plain": [
              "(tensor(0.9168), tensor(0.9854), tensor(0.9511))"
            ]
          },
          "metadata": {},
          "execution_count": 207
        }
      ],
      "source": [
        "accuracy_3s =      is_3(valid_3_tens).float() .mean()\n",
        "accuracy_7s = (1 - is_3(valid_7_tens).float()).mean()\n",
        "\n",
        "accuracy_3s,accuracy_7s,(accuracy_3s+accuracy_7s)/2"
      ]
    },
    {
      "cell_type": "markdown",
      "source": [
        "The code is calculating the accuracy of a model that is identifying 3s and 7s in images. The variable \"is_3\" is likely a function or model that takes in an image and returns a binary value indicating whether or not the image contains a 3.\n",
        "\n",
        "The first line calculates the accuracy of the model in identifying 3s. It first calls the \"is_3\" function on the dataset of valid images of 3s (valid_3_tens). The resulting binary values are then converted to floats and the mean is calculated, giving the overall accuracy of the model in identifying 3s.\n",
        "\n",
        "The second line calculates the accuracy of the model in identifying 7s. It first calls the \"is_3\" function on the dataset of valid images of 7s (valid_7_tens). The resulting binary values are then negated and converted to floats. The mean is then calculated, giving the overall accuracy of the model in identifying 7s.\n",
        "\n",
        "The final line calculates the average accuracy of the model in identifying both 3s and 7s by taking the average of the accuracy of 3s and 7s.\n",
        "\n",
        "\n",
        "\n"
      ],
      "metadata": {
        "id": "-BN-7R_1l9eW"
      }
    },
    {
      "cell_type": "markdown",
      "metadata": {
        "id": "LHtXmg3t3WeT"
      },
      "source": [
        "## Stochastic Gradient Descent (SGD)"
      ]
    },
    {
      "cell_type": "code",
      "execution_count": 208,
      "metadata": {
        "hide_input": true,
        "colab": {
          "base_uri": "https://localhost:8080/",
          "height": 145
        },
        "id": "FhiOPCux3WeU",
        "outputId": "76b46c64-7424-4077-ea8d-a399706cb6a4"
      },
      "outputs": [
        {
          "output_type": "execute_result",
          "data": {
            "text/plain": [
              "<graphviz.files.Source at 0x7f2105f66b80>"
            ],
            "image/svg+xml": "<?xml version=\"1.0\" encoding=\"UTF-8\" standalone=\"no\"?>\n<!DOCTYPE svg PUBLIC \"-//W3C//DTD SVG 1.1//EN\"\n \"http://www.w3.org/Graphics/SVG/1.1/DTD/svg11.dtd\">\n<!-- Generated by graphviz version 2.40.1 (20161225.0304)\n -->\n<!-- Title: G Pages: 1 -->\n<svg width=\"597pt\" height=\"78pt\"\n viewBox=\"0.00 0.00 596.69 78.00\" xmlns=\"http://www.w3.org/2000/svg\" xmlns:xlink=\"http://www.w3.org/1999/xlink\">\n<g id=\"graph0\" class=\"graph\" transform=\"scale(1 1) rotate(0) translate(4 74)\">\n<title>G</title>\n<polygon fill=\"#ffffff\" stroke=\"transparent\" points=\"-4,4 -4,-74 592.6863,-74 592.6863,4 -4,4\"/>\n<!-- init -->\n<g id=\"node1\" class=\"node\">\n<title>init</title>\n<ellipse fill=\"none\" stroke=\"#000000\" cx=\"27\" cy=\"-18\" rx=\"27\" ry=\"18\"/>\n<text text-anchor=\"middle\" x=\"27\" y=\"-14.3\" font-family=\"Times,serif\" font-size=\"14.00\" fill=\"#000000\">init</text>\n</g>\n<!-- predict -->\n<g id=\"node2\" class=\"node\">\n<title>predict</title>\n<ellipse fill=\"none\" stroke=\"#000000\" cx=\"127.3968\" cy=\"-18\" rx=\"36.2938\" ry=\"18\"/>\n<text text-anchor=\"middle\" x=\"127.3968\" y=\"-14.3\" font-family=\"Times,serif\" font-size=\"14.00\" fill=\"#000000\">predict</text>\n</g>\n<!-- init&#45;&gt;predict -->\n<g id=\"edge1\" class=\"edge\">\n<title>init&#45;&gt;predict</title>\n<path fill=\"none\" stroke=\"#000000\" d=\"M54.1688,-18C62.3543,-18 71.5827,-18 80.6596,-18\"/>\n<polygon fill=\"#000000\" stroke=\"#000000\" points=\"80.7795,-21.5001 90.7795,-18 80.7795,-14.5001 80.7795,-21.5001\"/>\n</g>\n<!-- loss -->\n<g id=\"node3\" class=\"node\">\n<title>loss</title>\n<ellipse fill=\"none\" stroke=\"#000000\" cx=\"227.7935\" cy=\"-52\" rx=\"27\" ry=\"18\"/>\n<text text-anchor=\"middle\" x=\"227.7935\" y=\"-48.3\" font-family=\"Times,serif\" font-size=\"14.00\" fill=\"#000000\">loss</text>\n</g>\n<!-- predict&#45;&gt;loss -->\n<g id=\"edge2\" class=\"edge\">\n<title>predict&#45;&gt;loss</title>\n<path fill=\"none\" stroke=\"#000000\" d=\"M157.5191,-28.2011C168.9806,-32.0826 182.1139,-36.5303 193.9014,-40.5222\"/>\n<polygon fill=\"#000000\" stroke=\"#000000\" points=\"192.8259,-43.8532 203.4202,-43.7458 195.0713,-37.2231 192.8259,-43.8532\"/>\n</g>\n<!-- gradient -->\n<g id=\"node4\" class=\"node\">\n<title>gradient</title>\n<ellipse fill=\"none\" stroke=\"#000000\" cx=\"365.7399\" cy=\"-52\" rx=\"40.8928\" ry=\"18\"/>\n<text text-anchor=\"middle\" x=\"365.7399\" y=\"-48.3\" font-family=\"Times,serif\" font-size=\"14.00\" fill=\"#000000\">gradient</text>\n</g>\n<!-- loss&#45;&gt;gradient -->\n<g id=\"edge3\" class=\"edge\">\n<title>loss&#45;&gt;gradient</title>\n<path fill=\"none\" stroke=\"#000000\" d=\"M255.0473,-52C272.0415,-52 294.4481,-52 314.6545,-52\"/>\n<polygon fill=\"#000000\" stroke=\"#000000\" points=\"314.671,-55.5001 324.671,-52 314.671,-48.5001 314.671,-55.5001\"/>\n</g>\n<!-- step -->\n<g id=\"node5\" class=\"node\">\n<title>step</title>\n<ellipse fill=\"none\" stroke=\"#000000\" cx=\"470.6863\" cy=\"-18\" rx=\"27\" ry=\"18\"/>\n<text text-anchor=\"middle\" x=\"470.6863\" y=\"-14.3\" font-family=\"Times,serif\" font-size=\"14.00\" fill=\"#000000\">step</text>\n</g>\n<!-- gradient&#45;&gt;step -->\n<g id=\"edge4\" class=\"edge\">\n<title>gradient&#45;&gt;step</title>\n<path fill=\"none\" stroke=\"#000000\" d=\"M398.9456,-41.2422C410.9558,-37.3512 424.5297,-32.9536 436.6132,-29.0388\"/>\n<polygon fill=\"#000000\" stroke=\"#000000\" points=\"437.9112,-32.2975 446.3457,-25.8857 435.7537,-25.6382 437.9112,-32.2975\"/>\n</g>\n<!-- step&#45;&gt;predict -->\n<g id=\"edge6\" class=\"edge\">\n<title>step&#45;&gt;predict</title>\n<path fill=\"none\" stroke=\"#000000\" d=\"M443.4266,-18C384.9297,-18 246.7861,-18 174.0495,-18\"/>\n<polygon fill=\"#000000\" stroke=\"#000000\" points=\"173.8098,-14.5001 163.8098,-18 173.8097,-21.5001 173.8098,-14.5001\"/>\n<text text-anchor=\"middle\" x=\"289.7935\" y=\"-21.8\" font-family=\"Times,serif\" font-size=\"14.00\" fill=\"#000000\">repeat</text>\n</g>\n<!-- stop -->\n<g id=\"node6\" class=\"node\">\n<title>stop</title>\n<ellipse fill=\"none\" stroke=\"#000000\" cx=\"561.6863\" cy=\"-18\" rx=\"27\" ry=\"18\"/>\n<text text-anchor=\"middle\" x=\"561.6863\" y=\"-14.3\" font-family=\"Times,serif\" font-size=\"14.00\" fill=\"#000000\">stop</text>\n</g>\n<!-- step&#45;&gt;stop -->\n<g id=\"edge5\" class=\"edge\">\n<title>step&#45;&gt;stop</title>\n<path fill=\"none\" stroke=\"#000000\" d=\"M497.9893,-18C506.2676,-18 515.508,-18 524.3268,-18\"/>\n<polygon fill=\"#000000\" stroke=\"#000000\" points=\"524.4026,-21.5001 534.4025,-18 524.4025,-14.5001 524.4026,-21.5001\"/>\n</g>\n</g>\n</svg>\n"
          },
          "metadata": {},
          "execution_count": 208
        }
      ],
      "source": [
        "#id gradient_descent\n",
        "#caption The gradient descent process\n",
        "#alt Graph showing the steps for Gradient Descent\n",
        "gv('''\n",
        "init->predict->loss->gradient->step->stop\n",
        "step->predict[label=repeat]\n",
        "''')"
      ]
    },
    {
      "cell_type": "markdown",
      "source": [
        "This code is demonstrating the process of Stochastic Gradient Descent (SGD), which is a method used in machine learning to optimize a model's parameters by iteratively adjusting them in the direction that minimizes the loss function.\n",
        "The code starts by creating a flowchart using the Graphviz library (gv) to illustrate the steps of the gradient descent process. It starts with initializing parameters, then predicting based on those parameters, calculating the loss, finding the gradient, taking a step to update the parameters, and repeating the process until a stopping criterion is met."
      ],
      "metadata": {
        "id": "SSjjAr99UIaR"
      }
    },
    {
      "cell_type": "code",
      "execution_count": 209,
      "metadata": {
        "id": "fKlPyjb73WeU"
      },
      "outputs": [],
      "source": [
        "def f(x): return x**2"
      ]
    },
    {
      "cell_type": "code",
      "execution_count": 210,
      "metadata": {
        "colab": {
          "base_uri": "https://localhost:8080/",
          "height": 285
        },
        "id": "17Jh_Q7y3WeU",
        "outputId": "aaef9780-06b8-455b-a887-3b82b1e2b21b"
      },
      "outputs": [
        {
          "output_type": "display_data",
          "data": {
            "text/plain": [
              "<Figure size 432x288 with 1 Axes>"
            ],
            "image/png": "[encoded data removed]"
          },
          "metadata": {
            "needs_background": "light"
          }
        }
      ],
      "source": [
        "plot_function(f, 'x', 'x**2')"
      ]
    },
    {
      "cell_type": "markdown",
      "source": [
        "the code defines a simple function, f(x) = x^2, and plots it using the plot_function() function. It then adds a scatter point at (-1.5, f(-1.5)) to the plot to illustrate the slope at that point."
      ],
      "metadata": {
        "id": "oRxMKs3mUmRB"
      }
    },
    {
      "cell_type": "code",
      "execution_count": 211,
      "metadata": {
        "colab": {
          "base_uri": "https://localhost:8080/",
          "height": 285
        },
        "id": "3k_MaXyp3WeV",
        "outputId": "bc90b3d8-68d5-4747-a6b5-708a81e622ab"
      },
      "outputs": [
        {
          "output_type": "display_data",
          "data": {
            "text/plain": [
              "<Figure size 432x288 with 1 Axes>"
            ],
            "image/png": "[encoded data removed]"
          },
          "metadata": {
            "needs_background": "light"
          }
        }
      ],
      "source": [
        "plot_function(f, 'x', 'x**2')\n",
        "plt.scatter(-1.5, f(-1.5), color='red');"
      ]
    },
    {
      "cell_type": "markdown",
      "metadata": {
        "id": "KysHyeOI3WeV"
      },
      "source": [
        "<img alt=\"A graph showing the squared function with the slope at one point\" width=\"400\" src=\"images/grad_illustration.svg\"/>"
      ]
    },
    {
      "cell_type": "markdown",
      "source": [
        "The graph is showing a representation of the squared function, which is a mathematical function that takes a number as input and squares it (multiplies it by itself).\n",
        "\n",
        "The slope is shown by the angle of the line at one point, represented by the red arrow. The slope at this point is 1, which means that for every 1 unit increase in the input (x-axis), there is a corresponding 1 unit increase in the output (y-axis). As the input value increases, the slope of the line becomes steeper, indicating that the output value is increasing at a faster rate."
      ],
      "metadata": {
        "id": "_P6psUbEmhVa"
      }
    },
    {
      "cell_type": "markdown",
      "metadata": {
        "id": "frQW_b523WeV"
      },
      "source": [
        "### Calculating Gradients"
      ]
    },
    {
      "cell_type": "code",
      "execution_count": 212,
      "metadata": {
        "id": "v5iSXsjz3WeW"
      },
      "outputs": [],
      "source": [
        "xt = tensor(3.).requires_grad_()"
      ]
    },
    {
      "cell_type": "code",
      "execution_count": 213,
      "metadata": {
        "colab": {
          "base_uri": "https://localhost:8080/"
        },
        "id": "nQrnxWbi3WeW",
        "outputId": "07839ffc-ffa9-471b-e3a1-bce8a661c224"
      },
      "outputs": [
        {
          "output_type": "execute_result",
          "data": {
            "text/plain": [
              "tensor(9., grad_fn=<PowBackward0>)"
            ]
          },
          "metadata": {},
          "execution_count": 213
        }
      ],
      "source": [
        "yt = f(xt)\n",
        "yt"
      ]
    },
    {
      "cell_type": "code",
      "execution_count": 214,
      "metadata": {
        "id": "5afcNJkY3WeX"
      },
      "outputs": [],
      "source": [
        "yt.backward()"
      ]
    },
    {
      "cell_type": "code",
      "execution_count": 215,
      "metadata": {
        "colab": {
          "base_uri": "https://localhost:8080/"
        },
        "id": "iip4Eok53WeX",
        "outputId": "49fdb1a8-886c-4248-c4b7-1b02354c5e1f"
      },
      "outputs": [
        {
          "output_type": "execute_result",
          "data": {
            "text/plain": [
              "tensor(6.)"
            ]
          },
          "metadata": {},
          "execution_count": 215
        }
      ],
      "source": [
        "xt.grad"
      ]
    },
    {
      "cell_type": "code",
      "execution_count": 216,
      "metadata": {
        "colab": {
          "base_uri": "https://localhost:8080/"
        },
        "id": "O8PM-EPo3WeX",
        "outputId": "53df79c2-5bed-4a75-8b46-b990c0e89344"
      },
      "outputs": [
        {
          "output_type": "execute_result",
          "data": {
            "text/plain": [
              "tensor([ 3.,  4., 10.], requires_grad=True)"
            ]
          },
          "metadata": {},
          "execution_count": 216
        }
      ],
      "source": [
        "xt = tensor([3.,4.,10.]).requires_grad_()\n",
        "xt"
      ]
    },
    {
      "cell_type": "code",
      "execution_count": 217,
      "metadata": {
        "colab": {
          "base_uri": "https://localhost:8080/"
        },
        "id": "rNlDahXx3WeX",
        "outputId": "c7fe5d77-f71d-48d9-bb8c-0ab717577caa"
      },
      "outputs": [
        {
          "output_type": "execute_result",
          "data": {
            "text/plain": [
              "tensor(125., grad_fn=<SumBackward0>)"
            ]
          },
          "metadata": {},
          "execution_count": 217
        }
      ],
      "source": [
        "def f(x): return (x**2).sum()\n",
        "\n",
        "yt = f(xt)\n",
        "yt"
      ]
    },
    {
      "cell_type": "code",
      "execution_count": 218,
      "metadata": {
        "colab": {
          "base_uri": "https://localhost:8080/"
        },
        "id": "_vO31vW33WeX",
        "outputId": "3e1b1994-2c6a-4fcb-b320-bf53ffd1613f"
      },
      "outputs": [
        {
          "output_type": "execute_result",
          "data": {
            "text/plain": [
              "tensor([ 6.,  8., 20.])"
            ]
          },
          "metadata": {},
          "execution_count": 218
        }
      ],
      "source": [
        "yt.backward()\n",
        "xt.grad"
      ]
    },
    {
      "cell_type": "markdown",
      "source": [
        "The code then goes on to calculate gradients using PyTorch tensors. It starts by creating a tensor with a single value of 3, and then calculates the output of the function f() at that point. It then uses the .backward() method to calculate the gradient of the function at that point.\n"
      ],
      "metadata": {
        "id": "lBk4rTNbUxZL"
      }
    },
    {
      "cell_type": "code",
      "execution_count": 219,
      "metadata": {
        "colab": {
          "base_uri": "https://localhost:8080/"
        },
        "id": "lLuXYA7V3WeZ",
        "outputId": "1e79b08b-8f00-410b-af62-84b7f973cd0a"
      },
      "outputs": [
        {
          "output_type": "execute_result",
          "data": {
            "text/plain": [
              "tensor([ 0.,  1.,  2.,  3.,  4.,  5.,  6.,  7.,  8.,  9., 10., 11., 12., 13., 14., 15., 16., 17., 18., 19.])"
            ]
          },
          "metadata": {},
          "execution_count": 219
        }
      ],
      "source": [
        "time = torch.arange(0,20).float(); time"
      ]
    },
    {
      "cell_type": "code",
      "execution_count": 220,
      "metadata": {
        "colab": {
          "base_uri": "https://localhost:8080/",
          "height": 269
        },
        "id": "dEpZSNAm3WeZ",
        "outputId": "97031580-222a-4a0d-8f0b-a3416d45d14a"
      },
      "outputs": [
        {
          "output_type": "display_data",
          "data": {
            "text/plain": [
              "<Figure size 432x288 with 1 Axes>"
            ],
            "image/png": "[encoded data removed]"
          },
          "metadata": {
            "needs_background": "light"
          }
        }
      ],
      "source": [
        "speed = torch.randn(20)*3 + 0.75*(time-9.5)**2 + 1\n",
        "plt.scatter(time,speed);"
      ]
    },
    {
      "cell_type": "markdown",
      "source": [
        "The x-axis represents the time and the y-axis represents the speed. The points on the scatter plot are randomly generated based on a normal distribution with a mean of 0 and a standard deviation of 3, plus an additional term that is a quadratic function of the time with a coefficient of 0.75 and a constant term of 1. This means that the points on the scatter plot are distributed around a curve that is a parabola with a vertex at (9.5, 1) and a positive coefficient, indicating that the speed increases as the time increases. The randomness of the normal distribution causes the points to be scattered around the curve, rather than being perfectly aligned with it.\n",
        "\n",
        "\n",
        "\n"
      ],
      "metadata": {
        "id": "U2jBKsAnnVZV"
      }
    },
    {
      "cell_type": "markdown",
      "source": [
        "The code then repeats the process with a tensor of multiple values, and a different function, f(x) = (x^2).sum().\n"
      ],
      "metadata": {
        "id": "X5xiIjzgU6oP"
      }
    },
    {
      "cell_type": "code",
      "execution_count": 221,
      "metadata": {
        "id": "IvBzrb3u3Wea"
      },
      "outputs": [],
      "source": [
        "#parameters\n",
        "def f(t, params):\n",
        "    a,b,c = params\n",
        "    return a*(t**2) + (b*t) + c"
      ]
    },
    {
      "cell_type": "code",
      "execution_count": 222,
      "metadata": {
        "id": "wJsjzpJH3Wea"
      },
      "outputs": [],
      "source": [
        "def mse(preds, targets): return ((preds-targets)**2).mean().sqrt()"
      ]
    },
    {
      "cell_type": "code",
      "execution_count": 223,
      "metadata": {
        "id": "AcH4OczA3Web"
      },
      "outputs": [],
      "source": [
        "params = torch.randn(3).requires_grad_()"
      ]
    },
    {
      "cell_type": "markdown",
      "source": [
        "The code then creates a random dataset of time and speed values, and plots them. It then defines a new function f(t, params) and a mean squared error (mse) function. It creates a set of random parameters, and uses them to make predictions using the f(t,params) function. The code then calculates the loss using the mse function and the actual speed values. It then uses the .backward() method to calculate the gradients and updates the parameters using the calculated gradients and a learning rate of 1e-5.\n"
      ],
      "metadata": {
        "id": "ifI4GY8lVBcQ"
      }
    },
    {
      "cell_type": "code",
      "execution_count": 224,
      "metadata": {
        "id": "s9FlcPDX3Web"
      },
      "outputs": [],
      "source": [
        "\n",
        "orig_params = params.clone()"
      ]
    },
    {
      "cell_type": "code",
      "execution_count": 225,
      "metadata": {
        "id": "tmohjuu23Web"
      },
      "outputs": [],
      "source": [
        "#predictions calculated\n",
        "preds = f(time, params)"
      ]
    },
    {
      "cell_type": "code",
      "execution_count": 226,
      "metadata": {
        "id": "LTigQAH43Web"
      },
      "outputs": [],
      "source": [
        "def show_preds(preds, ax=None):\n",
        "    if ax is None: ax=plt.subplots()[1]\n",
        "    ax.scatter(time, speed)\n",
        "    ax.scatter(time, to_np(preds), color='red')\n",
        "    ax.set_ylim(-300,100)"
      ]
    },
    {
      "cell_type": "markdown",
      "source": [
        "The code then repeats the above process for 10 iterations and plots the final predictions. It also shows the predictions at different stages of the training process in a subplot."
      ],
      "metadata": {
        "id": "tQ_CuqyyVJWd"
      }
    },
    {
      "cell_type": "code",
      "execution_count": 227,
      "metadata": {
        "colab": {
          "base_uri": "https://localhost:8080/",
          "height": 273
        },
        "id": "Gf26Vc0M3Wec",
        "outputId": "357181ce-0e40-4aae-adf1-817d7cb0df29"
      },
      "outputs": [
        {
          "output_type": "display_data",
          "data": {
            "text/plain": [
              "<Figure size 432x288 with 1 Axes>"
            ],
            "image/png": "[encoded data removed]"
          },
          "metadata": {
            "needs_background": "light"
          }
        }
      ],
      "source": [
        "show_preds(preds)"
      ]
    },
    {
      "cell_type": "code",
      "execution_count": 228,
      "metadata": {
        "colab": {
          "base_uri": "https://localhost:8080/"
        },
        "id": "wK3t3rBl3Wed",
        "outputId": "87450db4-faa3-4534-9330-d8eefd296953"
      },
      "outputs": [
        {
          "output_type": "execute_result",
          "data": {
            "text/plain": [
              "tensor(157.5862, grad_fn=<SqrtBackward0>)"
            ]
          },
          "metadata": {},
          "execution_count": 228
        }
      ],
      "source": [
        "#loss calculated\n",
        "loss = mse(preds, speed)\n",
        "loss"
      ]
    },
    {
      "cell_type": "code",
      "execution_count": 229,
      "metadata": {
        "colab": {
          "base_uri": "https://localhost:8080/"
        },
        "id": "UB2TY0D73Wed",
        "outputId": "c3a68286-0142-4e03-b84b-44b2ff5b98f8"
      },
      "outputs": [
        {
          "output_type": "execute_result",
          "data": {
            "text/plain": [
              "tensor([-165.6709,  -10.6075,   -0.7798])"
            ]
          },
          "metadata": {},
          "execution_count": 229
        }
      ],
      "source": [
        "#gradients calculated\n",
        "loss.backward()\n",
        "params.grad"
      ]
    },
    {
      "cell_type": "code",
      "execution_count": 230,
      "metadata": {
        "colab": {
          "base_uri": "https://localhost:8080/"
        },
        "id": "-SNfvKDO3Wed",
        "outputId": "0ab435d0-9b42-4f21-96f3-8657e29cf79b"
      },
      "outputs": [
        {
          "output_type": "execute_result",
          "data": {
            "text/plain": [
              "tensor([-1.6567e-03, -1.0607e-04, -7.7976e-06])"
            ]
          },
          "metadata": {},
          "execution_count": 230
        }
      ],
      "source": [
        "params.grad * 1e-5"
      ]
    },
    {
      "cell_type": "code",
      "execution_count": 231,
      "metadata": {
        "colab": {
          "base_uri": "https://localhost:8080/"
        },
        "id": "fhTY1EpU3Wee",
        "outputId": "e97cead6-f1d2-4b73-dc0a-a3801ec8c50e"
      },
      "outputs": [
        {
          "output_type": "execute_result",
          "data": {
            "text/plain": [
              "tensor([-0.8087,  0.3171,  0.4715], requires_grad=True)"
            ]
          },
          "metadata": {},
          "execution_count": 231
        }
      ],
      "source": [
        "params"
      ]
    },
    {
      "cell_type": "code",
      "execution_count": 232,
      "metadata": {
        "id": "MinQ_VzJ3Wee"
      },
      "outputs": [],
      "source": [
        "#step the weights\n",
        "lr = 1e-5\n",
        "params.data -= lr * params.grad.data\n",
        "params.grad = None"
      ]
    },
    {
      "cell_type": "code",
      "execution_count": 233,
      "metadata": {
        "colab": {
          "base_uri": "https://localhost:8080/"
        },
        "id": "I83gwTzg3Wef",
        "outputId": "bb4eab97-9efa-41c6-fb6a-99c5dcc5db13"
      },
      "outputs": [
        {
          "output_type": "execute_result",
          "data": {
            "text/plain": [
              "tensor(157.3106, grad_fn=<SqrtBackward0>)"
            ]
          },
          "metadata": {},
          "execution_count": 233
        }
      ],
      "source": [
        "preds = f(time,params)\n",
        "mse(preds, speed)"
      ]
    },
    {
      "cell_type": "code",
      "execution_count": 234,
      "metadata": {
        "colab": {
          "base_uri": "https://localhost:8080/",
          "height": 273
        },
        "id": "9pjujiQT3Wef",
        "outputId": "7dd8ac00-a55c-4c1a-b849-3bf0206cf8c0"
      },
      "outputs": [
        {
          "output_type": "display_data",
          "data": {
            "text/plain": [
              "<Figure size 432x288 with 1 Axes>"
            ],
            "image/png": "[encoded data removed]"
          },
          "metadata": {
            "needs_background": "light"
          }
        }
      ],
      "source": [
        "show_preds(preds)"
      ]
    },
    {
      "cell_type": "code",
      "execution_count": 235,
      "metadata": {
        "id": "JjchMPTk3Wef"
      },
      "outputs": [],
      "source": [
        "def apply_step(params, prn=True):\n",
        "    preds = f(time, params)\n",
        "    loss = mse(preds, speed)\n",
        "    loss.backward()\n",
        "    params.data -= lr * params.grad.data\n",
        "    params.grad = None\n",
        "    if prn: print(loss.item())\n",
        "    return preds"
      ]
    },
    {
      "cell_type": "code",
      "execution_count": 236,
      "metadata": {
        "colab": {
          "base_uri": "https://localhost:8080/"
        },
        "id": "rzpXkhsR3Weg",
        "outputId": "ad62ad3c-69b1-441d-9350-c66b783726c4"
      },
      "outputs": [
        {
          "output_type": "stream",
          "name": "stdout",
          "text": [
            "157.31063842773438\n",
            "157.03506469726562\n",
            "156.759521484375\n",
            "156.48397827148438\n",
            "156.20851135253906\n",
            "155.93301391601562\n",
            "155.65757751464844\n",
            "155.3821563720703\n",
            "155.10675048828125\n",
            "154.8313751220703\n"
          ]
        }
      ],
      "source": [
        "#repeating the process\n",
        "for i in range(10): apply_step(params)"
      ]
    },
    {
      "cell_type": "code",
      "execution_count": 237,
      "metadata": {
        "id": "8VYGRqXN3Weg"
      },
      "outputs": [],
      "source": [
        "\n",
        "params = orig_params.detach().requires_grad_()"
      ]
    },
    {
      "cell_type": "markdown",
      "source": [
        "The loss is going down, similarly as we trusted! In any case, taking a gander at these loss numbers masks the way that every emphasis addresses a completely unique quadratic function being attempted, headed to tracking down the most ideal quadratic function. We can see this interaction outwardly if, rather than printing out the loss function, we plot the function at each step. Then we can perceive how the shape is moving toward the most ideal quadratic function for our information:"
      ],
      "metadata": {
        "id": "dsAFscAVvr7A"
      }
    },
    {
      "cell_type": "code",
      "execution_count": 238,
      "metadata": {
        "colab": {
          "base_uri": "https://localhost:8080/",
          "height": 175
        },
        "id": "xz7ZJ0Yo3Weg",
        "outputId": "47a5517a-c2f3-4f15-aee0-546ba3b56dab"
      },
      "outputs": [
        {
          "output_type": "display_data",
          "data": {
            "text/plain": [
              "<Figure size 864x216 with 4 Axes>"
            ],
            "image/png": "[encoded data removed]"
          },
          "metadata": {
            "needs_background": "light"
          }
        }
      ],
      "source": [
        "_,axs = plt.subplots(1,4,figsize=(12,3))\n",
        "for ax in axs: show_preds(apply_step(params, False), ax)\n",
        "plt.tight_layout()"
      ]
    },
    {
      "cell_type": "markdown",
      "metadata": {
        "id": "Su2khhN73Weg"
      },
      "source": [
        "### Summarizing Gradient Descent"
      ]
    },
    {
      "cell_type": "code",
      "execution_count": 239,
      "metadata": {
        "hide_input": false,
        "colab": {
          "base_uri": "https://localhost:8080/",
          "height": 145
        },
        "id": "6lQsS7MA3Weg",
        "outputId": "4ba5873f-73e6-4758-9dff-9a0aff364596"
      },
      "outputs": [
        {
          "output_type": "execute_result",
          "data": {
            "text/plain": [
              "<graphviz.files.Source at 0x7f2106fd3e80>"
            ],
            "image/svg+xml": "<?xml version=\"1.0\" encoding=\"UTF-8\" standalone=\"no\"?>\n<!DOCTYPE svg PUBLIC \"-//W3C//DTD SVG 1.1//EN\"\n \"http://www.w3.org/Graphics/SVG/1.1/DTD/svg11.dtd\">\n<!-- Generated by graphviz version 2.40.1 (20161225.0304)\n -->\n<!-- Title: G Pages: 1 -->\n<svg width=\"597pt\" height=\"78pt\"\n viewBox=\"0.00 0.00 596.69 78.00\" xmlns=\"http://www.w3.org/2000/svg\" xmlns:xlink=\"http://www.w3.org/1999/xlink\">\n<g id=\"graph0\" class=\"graph\" transform=\"scale(1 1) rotate(0) translate(4 74)\">\n<title>G</title>\n<polygon fill=\"#ffffff\" stroke=\"transparent\" points=\"-4,4 -4,-74 592.6863,-74 592.6863,4 -4,4\"/>\n<!-- init -->\n<g id=\"node1\" class=\"node\">\n<title>init</title>\n<ellipse fill=\"none\" stroke=\"#000000\" cx=\"27\" cy=\"-18\" rx=\"27\" ry=\"18\"/>\n<text text-anchor=\"middle\" x=\"27\" y=\"-14.3\" font-family=\"Times,serif\" font-size=\"14.00\" fill=\"#000000\">init</text>\n</g>\n<!-- predict -->\n<g id=\"node2\" class=\"node\">\n<title>predict</title>\n<ellipse fill=\"none\" stroke=\"#000000\" cx=\"127.3968\" cy=\"-18\" rx=\"36.2938\" ry=\"18\"/>\n<text text-anchor=\"middle\" x=\"127.3968\" y=\"-14.3\" font-family=\"Times,serif\" font-size=\"14.00\" fill=\"#000000\">predict</text>\n</g>\n<!-- init&#45;&gt;predict -->\n<g id=\"edge1\" class=\"edge\">\n<title>init&#45;&gt;predict</title>\n<path fill=\"none\" stroke=\"#000000\" d=\"M54.1688,-18C62.3543,-18 71.5827,-18 80.6596,-18\"/>\n<polygon fill=\"#000000\" stroke=\"#000000\" points=\"80.7795,-21.5001 90.7795,-18 80.7795,-14.5001 80.7795,-21.5001\"/>\n</g>\n<!-- loss -->\n<g id=\"node3\" class=\"node\">\n<title>loss</title>\n<ellipse fill=\"none\" stroke=\"#000000\" cx=\"227.7935\" cy=\"-52\" rx=\"27\" ry=\"18\"/>\n<text text-anchor=\"middle\" x=\"227.7935\" y=\"-48.3\" font-family=\"Times,serif\" font-size=\"14.00\" fill=\"#000000\">loss</text>\n</g>\n<!-- predict&#45;&gt;loss -->\n<g id=\"edge2\" class=\"edge\">\n<title>predict&#45;&gt;loss</title>\n<path fill=\"none\" stroke=\"#000000\" d=\"M157.5191,-28.2011C168.9806,-32.0826 182.1139,-36.5303 193.9014,-40.5222\"/>\n<polygon fill=\"#000000\" stroke=\"#000000\" points=\"192.8259,-43.8532 203.4202,-43.7458 195.0713,-37.2231 192.8259,-43.8532\"/>\n</g>\n<!-- gradient -->\n<g id=\"node4\" class=\"node\">\n<title>gradient</title>\n<ellipse fill=\"none\" stroke=\"#000000\" cx=\"365.7399\" cy=\"-52\" rx=\"40.8928\" ry=\"18\"/>\n<text text-anchor=\"middle\" x=\"365.7399\" y=\"-48.3\" font-family=\"Times,serif\" font-size=\"14.00\" fill=\"#000000\">gradient</text>\n</g>\n<!-- loss&#45;&gt;gradient -->\n<g id=\"edge3\" class=\"edge\">\n<title>loss&#45;&gt;gradient</title>\n<path fill=\"none\" stroke=\"#000000\" d=\"M255.0473,-52C272.0415,-52 294.4481,-52 314.6545,-52\"/>\n<polygon fill=\"#000000\" stroke=\"#000000\" points=\"314.671,-55.5001 324.671,-52 314.671,-48.5001 314.671,-55.5001\"/>\n</g>\n<!-- step -->\n<g id=\"node5\" class=\"node\">\n<title>step</title>\n<ellipse fill=\"none\" stroke=\"#000000\" cx=\"470.6863\" cy=\"-18\" rx=\"27\" ry=\"18\"/>\n<text text-anchor=\"middle\" x=\"470.6863\" y=\"-14.3\" font-family=\"Times,serif\" font-size=\"14.00\" fill=\"#000000\">step</text>\n</g>\n<!-- gradient&#45;&gt;step -->\n<g id=\"edge4\" class=\"edge\">\n<title>gradient&#45;&gt;step</title>\n<path fill=\"none\" stroke=\"#000000\" d=\"M398.9456,-41.2422C410.9558,-37.3512 424.5297,-32.9536 436.6132,-29.0388\"/>\n<polygon fill=\"#000000\" stroke=\"#000000\" points=\"437.9112,-32.2975 446.3457,-25.8857 435.7537,-25.6382 437.9112,-32.2975\"/>\n</g>\n<!-- step&#45;&gt;predict -->\n<g id=\"edge6\" class=\"edge\">\n<title>step&#45;&gt;predict</title>\n<path fill=\"none\" stroke=\"#000000\" d=\"M443.4266,-18C384.9297,-18 246.7861,-18 174.0495,-18\"/>\n<polygon fill=\"#000000\" stroke=\"#000000\" points=\"173.8098,-14.5001 163.8098,-18 173.8097,-21.5001 173.8098,-14.5001\"/>\n<text text-anchor=\"middle\" x=\"289.7935\" y=\"-21.8\" font-family=\"Times,serif\" font-size=\"14.00\" fill=\"#000000\">repeat</text>\n</g>\n<!-- stop -->\n<g id=\"node6\" class=\"node\">\n<title>stop</title>\n<ellipse fill=\"none\" stroke=\"#000000\" cx=\"561.6863\" cy=\"-18\" rx=\"27\" ry=\"18\"/>\n<text text-anchor=\"middle\" x=\"561.6863\" y=\"-14.3\" font-family=\"Times,serif\" font-size=\"14.00\" fill=\"#000000\">stop</text>\n</g>\n<!-- step&#45;&gt;stop -->\n<g id=\"edge5\" class=\"edge\">\n<title>step&#45;&gt;stop</title>\n<path fill=\"none\" stroke=\"#000000\" d=\"M497.9893,-18C506.2676,-18 515.508,-18 524.3268,-18\"/>\n<polygon fill=\"#000000\" stroke=\"#000000\" points=\"524.4026,-21.5001 534.4025,-18 524.4025,-14.5001 524.4026,-21.5001\"/>\n</g>\n</g>\n</svg>\n"
          },
          "metadata": {},
          "execution_count": 239
        }
      ],
      "source": [
        "#stop\n",
        "#id gradient_descent\n",
        "#caption The gradient descent process\n",
        "#alt Graph showing the steps for Gradient Descent\n",
        "gv('''\n",
        "init->predict->loss->gradient->step->stop\n",
        "step->predict[label=repeat]\n",
        "''')"
      ]
    },
    {
      "cell_type": "markdown",
      "source": [
        "Finally, the code summarizes the gradient descent process by displaying the flowchart again."
      ],
      "metadata": {
        "id": "R6cLwBrPVP_J"
      }
    },
    {
      "cell_type": "markdown",
      "metadata": {
        "id": "lYv6xMMC3Weh"
      },
      "source": [
        "To sum up, toward the start, the loads of our model can be irregular (preparing without any preparation) or come from a pretrained model (move learning). In the principal case, the result we will get from our bits of feedbacks will not have a say in what we need, and, surprisingly, in the subsequent case, it's logical the pretrained model will not be generally excellent at the particular undertaking we are focusing on. So the model should learn better loads.\n",
        "\n",
        "We start by contrasting the results the model gives us with our objectives (we have marked information, so we understand what result the model ought to give) utilizing a misfortune capability, which returns a number that we need to make as low as conceivable by working on our loads. To do this, we take a couple of information things (like pictures) from the preparation set and feed them to our model. We look at the comparing targets utilizing our misfortune capability, and the score we get lets us know how wrong our forecasts were. We then, at that point, change the loads a tad to make it somewhat better.\n",
        "\n",
        "To track down how to change the loads to make the misfortune a piece better, we use math to compute the inclinations. (In reality, we let PyTorch do it for us!) How about we think about a relationship. Envision you are lost in the mountains with your vehicle left at the absolute bottom. To find your direction back to it, you could meander in an irregular heading, however that likely wouldn't help a lot. Since you realize your vehicle is at the absolute bottom, you would lucky to be go downhill. By continuously steering a stage toward the steepest descending slant, you ought to ultimately show up at your objective. We utilize the greatness of the inclination (i.e., the steepness of the slant) to let us know how huge a stage to take; explicitly, we increase the slope by a number we pick called the learning rate to settle on the step size. We then emphasize until we have arrived at the absolute bottom, which will be our parking garage, then, at that point, we can stop.\n",
        "\n",
        "That we just saw can be all translated straightforwardly to the MNIST dataset, aside from the misfortune capability. We should now perceive how we can characterize a decent preparation objective."
      ]
    },
    {
      "cell_type": "markdown",
      "source": [
        "#Model\n"
      ],
      "metadata": {
        "id": "8eejPX7EwutX"
      }
    },
    {
      "cell_type": "code",
      "source": [
        "#Model\n",
        "train_x = torch.cat([stacked_threes, stacked_sevens]).view(-1, 28*28)\n",
        "train_y = tensor([1]*len(threes) + [0]*len(sevens)).unsqueeze(1)\n",
        "dset = list(zip(train_x,train_y))\n",
        "\n",
        "valid_x = torch.cat([valid_3_tens, valid_7_tens]).view(-1, 28*28)\n",
        "valid_y = tensor([1]*len(valid_3_tens) + [0]*len(valid_7_tens)).unsqueeze(1)\n",
        "valid_dset = list(zip(valid_x,valid_y))\n",
        "\n",
        "dl = DataLoader(dset, batch_size=256)\n",
        "valid_dl = DataLoader(valid_dset, batch_size=256)\n",
        "dls = DataLoaders(dl, valid_dl)"
      ],
      "metadata": {
        "id": "ZwmGgI0arUbK"
      },
      "execution_count": 240,
      "outputs": []
    },
    {
      "cell_type": "code",
      "source": [
        "simple_net = nn.Sequential(\n",
        "    nn.Linear(28*28,30),\n",
        "    nn.ReLU(),\n",
        "    nn.Linear(30,1)\n",
        ")"
      ],
      "metadata": {
        "id": "aOw-k-AXrjSb"
      },
      "execution_count": 241,
      "outputs": []
    },
    {
      "cell_type": "code",
      "source": [
        "#loss\n",
        "def mnist_loss(predictions, targets):\n",
        "    predictions = predictions.sigmoid()\n",
        "    return torch.where(targets==1, 1-predictions, predictions).mean()"
      ],
      "metadata": {
        "id": "TSN14VF2rnEi"
      },
      "execution_count": 242,
      "outputs": []
    },
    {
      "cell_type": "code",
      "source": [
        "\n",
        "def batch_accuracy(xb, yb):\n",
        "    preds = xb.sigmoid()\n",
        "    correct = (preds>0.5) == yb\n",
        "    return correct.float().mean()"
      ],
      "metadata": {
        "id": "mRFmfj6ysCcn"
      },
      "execution_count": 243,
      "outputs": []
    },
    {
      "cell_type": "code",
      "source": [
        "learn = Learner(dls, simple_net, opt_func=SGD,\n",
        "                loss_func=mnist_loss, metrics=batch_accuracy)"
      ],
      "metadata": {
        "id": "_5aY09-LsFxx"
      },
      "execution_count": 244,
      "outputs": []
    },
    {
      "cell_type": "code",
      "source": [
        "#fitting\n",
        "learn.fit(40, 0.1)"
      ],
      "metadata": {
        "colab": {
          "base_uri": "https://localhost:8080/",
          "height": 1000
        },
        "id": "WQIoKoC1scGP",
        "outputId": "124d354f-7ba1-42d1-bef3-6794d8b769e4"
      },
      "execution_count": 245,
      "outputs": [
        {
          "output_type": "display_data",
          "data": {
            "text/plain": [
              "<IPython.core.display.HTML object>"
            ],
            "text/html": [
              "\n",
              "<style>\n",
              "    /* Turns off some styling */\n",
              "    progress {\n",
              "        /* gets rid of default border in Firefox and Opera. */\n",
              "        border: none;\n",
              "        /* Needs to be in here for Safari polyfill so background images work as expected. */\n",
              "        background-size: auto;\n",
              "    }\n",
              "    progress:not([value]), progress:not([value])::-webkit-progress-bar {\n",
              "        background: repeating-linear-gradient(45deg, #7e7e7e, #7e7e7e 10px, #5c5c5c 10px, #5c5c5c 20px);\n",
              "    }\n",
              "    .progress-bar-interrupted, .progress-bar-interrupted::-webkit-progress-bar {\n",
              "        background: #F44336;\n",
              "    }\n",
              "</style>\n"
            ]
          },
          "metadata": {}
        },
        {
          "output_type": "display_data",
          "data": {
            "text/plain": [
              "<IPython.core.display.HTML object>"
            ],
            "text/html": [
              "<table border=\"1\" class=\"dataframe\">\n",
              "  <thead>\n",
              "    <tr style=\"text-align: left;\">\n",
              "      <th>epoch</th>\n",
              "      <th>train_loss</th>\n",
              "      <th>valid_loss</th>\n",
              "      <th>batch_accuracy</th>\n",
              "      <th>time</th>\n",
              "    </tr>\n",
              "  </thead>\n",
              "  <tbody>\n",
              "    <tr>\n",
              "      <td>0</td>\n",
              "      <td>0.313635</td>\n",
              "      <td>0.413440</td>\n",
              "      <td>0.504416</td>\n",
              "      <td>00:00</td>\n",
              "    </tr>\n",
              "    <tr>\n",
              "      <td>1</td>\n",
              "      <td>0.146010</td>\n",
              "      <td>0.235987</td>\n",
              "      <td>0.793916</td>\n",
              "      <td>00:00</td>\n",
              "    </tr>\n",
              "    <tr>\n",
              "      <td>2</td>\n",
              "      <td>0.080968</td>\n",
              "      <td>0.117224</td>\n",
              "      <td>0.917076</td>\n",
              "      <td>00:00</td>\n",
              "    </tr>\n",
              "    <tr>\n",
              "      <td>3</td>\n",
              "      <td>0.053277</td>\n",
              "      <td>0.078742</td>\n",
              "      <td>0.939647</td>\n",
              "      <td>00:00</td>\n",
              "    </tr>\n",
              "    <tr>\n",
              "      <td>4</td>\n",
              "      <td>0.040451</td>\n",
              "      <td>0.061376</td>\n",
              "      <td>0.955348</td>\n",
              "      <td>00:00</td>\n",
              "    </tr>\n",
              "    <tr>\n",
              "      <td>5</td>\n",
              "      <td>0.033903</td>\n",
              "      <td>0.051604</td>\n",
              "      <td>0.964671</td>\n",
              "      <td>00:00</td>\n",
              "    </tr>\n",
              "    <tr>\n",
              "      <td>6</td>\n",
              "      <td>0.030141</td>\n",
              "      <td>0.045432</td>\n",
              "      <td>0.965653</td>\n",
              "      <td>00:00</td>\n",
              "    </tr>\n",
              "    <tr>\n",
              "      <td>7</td>\n",
              "      <td>0.027698</td>\n",
              "      <td>0.041213</td>\n",
              "      <td>0.967125</td>\n",
              "      <td>00:00</td>\n",
              "    </tr>\n",
              "    <tr>\n",
              "      <td>8</td>\n",
              "      <td>0.025934</td>\n",
              "      <td>0.038153</td>\n",
              "      <td>0.969087</td>\n",
              "      <td>00:00</td>\n",
              "    </tr>\n",
              "    <tr>\n",
              "      <td>9</td>\n",
              "      <td>0.024566</td>\n",
              "      <td>0.035826</td>\n",
              "      <td>0.971050</td>\n",
              "      <td>00:00</td>\n",
              "    </tr>\n",
              "    <tr>\n",
              "      <td>10</td>\n",
              "      <td>0.023454</td>\n",
              "      <td>0.033990</td>\n",
              "      <td>0.972522</td>\n",
              "      <td>00:00</td>\n",
              "    </tr>\n",
              "    <tr>\n",
              "      <td>11</td>\n",
              "      <td>0.022524</td>\n",
              "      <td>0.032497</td>\n",
              "      <td>0.973994</td>\n",
              "      <td>00:00</td>\n",
              "    </tr>\n",
              "    <tr>\n",
              "      <td>12</td>\n",
              "      <td>0.021730</td>\n",
              "      <td>0.031250</td>\n",
              "      <td>0.974485</td>\n",
              "      <td>00:00</td>\n",
              "    </tr>\n",
              "    <tr>\n",
              "      <td>13</td>\n",
              "      <td>0.021042</td>\n",
              "      <td>0.030185</td>\n",
              "      <td>0.974485</td>\n",
              "      <td>00:00</td>\n",
              "    </tr>\n",
              "    <tr>\n",
              "      <td>14</td>\n",
              "      <td>0.020439</td>\n",
              "      <td>0.029258</td>\n",
              "      <td>0.975466</td>\n",
              "      <td>00:00</td>\n",
              "    </tr>\n",
              "    <tr>\n",
              "      <td>15</td>\n",
              "      <td>0.019905</td>\n",
              "      <td>0.028442</td>\n",
              "      <td>0.975957</td>\n",
              "      <td>00:00</td>\n",
              "    </tr>\n",
              "    <tr>\n",
              "      <td>16</td>\n",
              "      <td>0.019428</td>\n",
              "      <td>0.027714</td>\n",
              "      <td>0.976448</td>\n",
              "      <td>00:00</td>\n",
              "    </tr>\n",
              "    <tr>\n",
              "      <td>17</td>\n",
              "      <td>0.018997</td>\n",
              "      <td>0.027061</td>\n",
              "      <td>0.977920</td>\n",
              "      <td>00:00</td>\n",
              "    </tr>\n",
              "    <tr>\n",
              "      <td>18</td>\n",
              "      <td>0.018606</td>\n",
              "      <td>0.026470</td>\n",
              "      <td>0.977920</td>\n",
              "      <td>00:00</td>\n",
              "    </tr>\n",
              "    <tr>\n",
              "      <td>19</td>\n",
              "      <td>0.018250</td>\n",
              "      <td>0.025932</td>\n",
              "      <td>0.978410</td>\n",
              "      <td>00:00</td>\n",
              "    </tr>\n",
              "    <tr>\n",
              "      <td>20</td>\n",
              "      <td>0.017921</td>\n",
              "      <td>0.025441</td>\n",
              "      <td>0.979392</td>\n",
              "      <td>00:00</td>\n",
              "    </tr>\n",
              "    <tr>\n",
              "      <td>21</td>\n",
              "      <td>0.017618</td>\n",
              "      <td>0.024991</td>\n",
              "      <td>0.979392</td>\n",
              "      <td>00:00</td>\n",
              "    </tr>\n",
              "    <tr>\n",
              "      <td>22</td>\n",
              "      <td>0.017336</td>\n",
              "      <td>0.024577</td>\n",
              "      <td>0.979882</td>\n",
              "      <td>00:00</td>\n",
              "    </tr>\n",
              "    <tr>\n",
              "      <td>23</td>\n",
              "      <td>0.017073</td>\n",
              "      <td>0.024195</td>\n",
              "      <td>0.980864</td>\n",
              "      <td>00:00</td>\n",
              "    </tr>\n",
              "    <tr>\n",
              "      <td>24</td>\n",
              "      <td>0.016826</td>\n",
              "      <td>0.023841</td>\n",
              "      <td>0.981354</td>\n",
              "      <td>00:00</td>\n",
              "    </tr>\n",
              "    <tr>\n",
              "      <td>25</td>\n",
              "      <td>0.016595</td>\n",
              "      <td>0.023514</td>\n",
              "      <td>0.981354</td>\n",
              "      <td>00:00</td>\n",
              "    </tr>\n",
              "    <tr>\n",
              "      <td>26</td>\n",
              "      <td>0.016376</td>\n",
              "      <td>0.023210</td>\n",
              "      <td>0.981845</td>\n",
              "      <td>00:00</td>\n",
              "    </tr>\n",
              "    <tr>\n",
              "      <td>27</td>\n",
              "      <td>0.016170</td>\n",
              "      <td>0.022928</td>\n",
              "      <td>0.982336</td>\n",
              "      <td>00:00</td>\n",
              "    </tr>\n",
              "    <tr>\n",
              "      <td>28</td>\n",
              "      <td>0.015975</td>\n",
              "      <td>0.022665</td>\n",
              "      <td>0.982336</td>\n",
              "      <td>00:00</td>\n",
              "    </tr>\n",
              "    <tr>\n",
              "      <td>29</td>\n",
              "      <td>0.015789</td>\n",
              "      <td>0.022419</td>\n",
              "      <td>0.982336</td>\n",
              "      <td>00:00</td>\n",
              "    </tr>\n",
              "    <tr>\n",
              "      <td>30</td>\n",
              "      <td>0.015612</td>\n",
              "      <td>0.022190</td>\n",
              "      <td>0.982826</td>\n",
              "      <td>00:00</td>\n",
              "    </tr>\n",
              "    <tr>\n",
              "      <td>31</td>\n",
              "      <td>0.015443</td>\n",
              "      <td>0.021976</td>\n",
              "      <td>0.982336</td>\n",
              "      <td>00:00</td>\n",
              "    </tr>\n",
              "    <tr>\n",
              "      <td>32</td>\n",
              "      <td>0.015281</td>\n",
              "      <td>0.021775</td>\n",
              "      <td>0.982336</td>\n",
              "      <td>00:00</td>\n",
              "    </tr>\n",
              "    <tr>\n",
              "      <td>33</td>\n",
              "      <td>0.015126</td>\n",
              "      <td>0.021586</td>\n",
              "      <td>0.982336</td>\n",
              "      <td>00:00</td>\n",
              "    </tr>\n",
              "    <tr>\n",
              "      <td>34</td>\n",
              "      <td>0.014978</td>\n",
              "      <td>0.021408</td>\n",
              "      <td>0.982826</td>\n",
              "      <td>00:00</td>\n",
              "    </tr>\n",
              "    <tr>\n",
              "      <td>35</td>\n",
              "      <td>0.014835</td>\n",
              "      <td>0.021241</td>\n",
              "      <td>0.983317</td>\n",
              "      <td>00:00</td>\n",
              "    </tr>\n",
              "    <tr>\n",
              "      <td>36</td>\n",
              "      <td>0.014698</td>\n",
              "      <td>0.021083</td>\n",
              "      <td>0.983317</td>\n",
              "      <td>00:00</td>\n",
              "    </tr>\n",
              "    <tr>\n",
              "      <td>37</td>\n",
              "      <td>0.014565</td>\n",
              "      <td>0.020934</td>\n",
              "      <td>0.982826</td>\n",
              "      <td>00:00</td>\n",
              "    </tr>\n",
              "    <tr>\n",
              "      <td>38</td>\n",
              "      <td>0.014437</td>\n",
              "      <td>0.020793</td>\n",
              "      <td>0.982826</td>\n",
              "      <td>00:00</td>\n",
              "    </tr>\n",
              "    <tr>\n",
              "      <td>39</td>\n",
              "      <td>0.014314</td>\n",
              "      <td>0.020659</td>\n",
              "      <td>0.982826</td>\n",
              "      <td>00:00</td>\n",
              "    </tr>\n",
              "  </tbody>\n",
              "</table>"
            ]
          },
          "metadata": {}
        }
      ]
    },
    {
      "cell_type": "markdown",
      "source": [
        "This code is building and training a simple neural network to classify images of the digits 3 and 7 from the MNIST dataset. The network consists of two linear layers, with a ReLU activation function in between. The data is split into a training set and a validation set, and is loaded into PyTorch DataLoader objects for use in the training process. The Learner object is created with the DataLoaders, the simple_net model, the SGD optimizer, and custom loss and accuracy functions. The model is then trained for 40 epochs with a learning rate of 0.1."
      ],
      "metadata": {
        "id": "cEkdKjS0x6WY"
      }
    },
    {
      "cell_type": "markdown",
      "source": [
        "# Predicting outcome for a sample each\n"
      ],
      "metadata": {
        "id": "kEXUGvCsztXE"
      }
    },
    {
      "cell_type": "code",
      "source": [
        "## Testing on 3 from validation set (1 means 3, 0 means 7)\n",
        "show_image(valid_x[0].reshape(28,28))"
      ],
      "metadata": {
        "colab": {
          "base_uri": "https://localhost:8080/",
          "height": 102
        },
        "id": "4y400cFqsfex",
        "outputId": "16c2117c-f562-4ffe-a7dc-37eb86accb0a"
      },
      "execution_count": 246,
      "outputs": [
        {
          "output_type": "execute_result",
          "data": {
            "text/plain": [
              "<matplotlib.axes._subplots.AxesSubplot at 0x7f21067f1e50>"
            ]
          },
          "metadata": {},
          "execution_count": 246
        },
        {
          "output_type": "display_data",
          "data": {
            "text/plain": [
              "<Figure size 72x72 with 1 Axes>"
            ],
            "image/png": "[encoded data removed]"
          },
          "metadata": {
            "needs_background": "light"
          }
        }
      ]
    },
    {
      "cell_type": "markdown",
      "source": [
        "After training, the model is tested on two examples from the validation set: one image of a 3 and one image of a 7. The model's output for each image is passed through the sigmoid function to produce a probability between 0 and 1, which is then compared to the actual label of the image (1 for 3 and 0 for 7) to evaluate the model's performance."
      ],
      "metadata": {
        "id": "PxVTTsjryGIJ"
      }
    },
    {
      "cell_type": "code",
      "source": [
        "f\"predicted:{sigmoid(simple_net(valid_x[0]))} , actual:{valid_y[0]}\""
      ],
      "metadata": {
        "colab": {
          "base_uri": "https://localhost:8080/",
          "height": 35
        },
        "id": "YM3YCc29smNa",
        "outputId": "d228915c-4d9c-48cf-ddb8-854e5ab95129"
      },
      "execution_count": 247,
      "outputs": [
        {
          "output_type": "execute_result",
          "data": {
            "text/plain": [
              "'predicted:tensor([0.9999], grad_fn=<ClampBackward1>) , actual:tensor([1])'"
            ],
            "application/vnd.google.colaboratory.intrinsic+json": {
              "type": "string"
            }
          },
          "metadata": {},
          "execution_count": 247
        }
      ]
    },
    {
      "cell_type": "markdown",
      "source": [
        "Predicted and actual are both tensors, which are arrays of numbers. In this case, the predicted tensor has a single value of 0.9999, and the actual tensor has a single value of 1. The \"grad_fn\" attribute indicates that this tensor is a result of a specific mathematical operation (in this case, \"ClampBackward1\") that has been performed on the tensor.\n",
        "\n",
        "This suggests that the model has made a prediction of 0.9999 for a certain input and the actual output was 1. The predicted value is very close to the actual value, indicating that the model has a high level of accuracy."
      ],
      "metadata": {
        "id": "optNqf8ktQuv"
      }
    },
    {
      "cell_type": "code",
      "source": [
        "## Testing on 7 (1 means 3, 0 means 7)\n",
        "show_image(valid_x[1206].reshape(28,28))"
      ],
      "metadata": {
        "colab": {
          "base_uri": "https://localhost:8080/",
          "height": 102
        },
        "id": "Nl33JyMQspgI",
        "outputId": "0118a3ba-6b3a-4460-e57b-382951dc65c8"
      },
      "execution_count": 248,
      "outputs": [
        {
          "output_type": "execute_result",
          "data": {
            "text/plain": [
              "<matplotlib.axes._subplots.AxesSubplot at 0x7f2105dcb370>"
            ]
          },
          "metadata": {},
          "execution_count": 248
        },
        {
          "output_type": "display_data",
          "data": {
            "text/plain": [
              "<Figure size 72x72 with 1 Axes>"
            ],
            "image/png": "[encoded data removed]"
          },
          "metadata": {
            "needs_background": "light"
          }
        }
      ]
    },
    {
      "cell_type": "code",
      "source": [
        "## applying sigmoid on network output\n",
        "\n",
        "f\"predicted:{sigmoid(simple_net(valid_x[1206]))} , actual:{valid_y[1206]}\""
      ],
      "metadata": {
        "colab": {
          "base_uri": "https://localhost:8080/",
          "height": 35
        },
        "id": "9RIQtMlNsutv",
        "outputId": "3b4fe6e2-77aa-4948-dbc9-990696c5ae6b"
      },
      "execution_count": 249,
      "outputs": [
        {
          "output_type": "execute_result",
          "data": {
            "text/plain": [
              "'predicted:tensor([1.8051e-06], grad_fn=<ClampBackward1>) , actual:tensor([0])'"
            ],
            "application/vnd.google.colaboratory.intrinsic+json": {
              "type": "string"
            }
          },
          "metadata": {},
          "execution_count": 249
        }
      ]
    },
    {
      "cell_type": "markdown",
      "source": [
        "The predicted value is a tensor (a multi-dimensional array) that represents the output of a machine learning model. It is a probability or likelihood that a given input belongs to a certain class or category. In this case, the predicted value is 1.8051e-06, which is a very small number close to zero. This means that the model is indicating a very low probability or likelihood that the input belongs to the class or category that the model is trying to predict.\n",
        "\n",
        "The actual value is also a tensor, representing the true or correct label of the input. In this case, the actual value is 0. This means that the true or correct label of the input is 0, which is different from the predicted value given by the model.\n",
        "\n",
        "Overall, the predicted value is a very small number close to zero, indicating that the model is not very confident that the input belongs to the class or category it is trying to predict, while the actual value is 0, which is different from the predicted value. This means that the model made an incorrect prediction."
      ],
      "metadata": {
        "id": "Wid5TUfDynl2"
      }
    }
  ],
  "metadata": {
    "jupytext": {
      "split_at_heading": true
    },
    "kernelspec": {
      "display_name": "Python 3",
      "language": "python",
      "name": "python3"
    },
    "colab": {
      "provenance": [],
      "toc_visible": true
    }
  },
  "nbformat": 4,
  "nbformat_minor": 0
}